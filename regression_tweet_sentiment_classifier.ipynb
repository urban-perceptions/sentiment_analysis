{
 "cells": [
  {
   "cell_type": "code",
   "execution_count": 3,
   "id": "9b2a2e56",
   "metadata": {
    "colab": {
     "base_uri": "https://localhost:8080/"
    },
    "id": "9b2a2e56",
    "outputId": "2f8fceb8-7d47-4871-da1f-c42f72224722"
   },
   "outputs": [
    {
     "name": "stdout",
     "output_type": "stream",
     "text": [
      "Looking in indexes: https://pypi.org/simple, https://us-python.pkg.dev/colab-wheels/public/simple/\n",
      "Requirement already satisfied: transformers in /usr/local/lib/python3.10/dist-packages (4.29.2)\n",
      "Requirement already satisfied: filelock in /usr/local/lib/python3.10/dist-packages (from transformers) (3.12.0)\n",
      "Requirement already satisfied: huggingface-hub<1.0,>=0.14.1 in /usr/local/lib/python3.10/dist-packages (from transformers) (0.14.1)\n",
      "Requirement already satisfied: numpy>=1.17 in /usr/local/lib/python3.10/dist-packages (from transformers) (1.22.4)\n",
      "Requirement already satisfied: packaging>=20.0 in /usr/local/lib/python3.10/dist-packages (from transformers) (23.1)\n",
      "Requirement already satisfied: pyyaml>=5.1 in /usr/local/lib/python3.10/dist-packages (from transformers) (6.0)\n",
      "Requirement already satisfied: regex!=2019.12.17 in /usr/local/lib/python3.10/dist-packages (from transformers) (2022.10.31)\n",
      "Requirement already satisfied: requests in /usr/local/lib/python3.10/dist-packages (from transformers) (2.27.1)\n",
      "Requirement already satisfied: tokenizers!=0.11.3,<0.14,>=0.11.1 in /usr/local/lib/python3.10/dist-packages (from transformers) (0.13.3)\n",
      "Requirement already satisfied: tqdm>=4.27 in /usr/local/lib/python3.10/dist-packages (from transformers) (4.65.0)\n",
      "Requirement already satisfied: fsspec in /usr/local/lib/python3.10/dist-packages (from huggingface-hub<1.0,>=0.14.1->transformers) (2023.4.0)\n",
      "Requirement already satisfied: typing-extensions>=3.7.4.3 in /usr/local/lib/python3.10/dist-packages (from huggingface-hub<1.0,>=0.14.1->transformers) (4.5.0)\n",
      "Requirement already satisfied: urllib3<1.27,>=1.21.1 in /usr/local/lib/python3.10/dist-packages (from requests->transformers) (1.26.15)\n",
      "Requirement already satisfied: certifi>=2017.4.17 in /usr/local/lib/python3.10/dist-packages (from requests->transformers) (2022.12.7)\n",
      "Requirement already satisfied: charset-normalizer~=2.0.0 in /usr/local/lib/python3.10/dist-packages (from requests->transformers) (2.0.12)\n",
      "Requirement already satisfied: idna<4,>=2.5 in /usr/local/lib/python3.10/dist-packages (from requests->transformers) (3.4)\n"
     ]
    }
   ],
   "source": [
    "!pip install transformers\n",
    "import torch\n",
    "import torch.nn as nn\n",
    "import transformers\n",
    "from transformers import BertModel\n",
    "from torch.utils.data import Dataset, DataLoader\n",
    "import numpy as np\n",
    "import matplotlib.pyplot as plt\n",
    "import pandas as pd\n",
    "from sklearn.model_selection import train_test_split\n",
    "from sklearn.metrics import precision_recall_fscore_support"
   ]
  },
  {
   "cell_type": "code",
   "execution_count": 4,
   "id": "c8239b8f",
   "metadata": {
    "colab": {
     "base_uri": "https://localhost:8080/"
    },
    "id": "c8239b8f",
    "outputId": "19677c53-2001-4ce6-e21d-69195aaf1fbc"
   },
   "outputs": [
    {
     "name": "stdout",
     "output_type": "stream",
     "text": [
      "Using cuda.\n",
      "Drive already mounted at /content/gdrive; to attempt to forcibly remount, call drive.mount(\"/content/gdrive\", force_remount=True).\n"
     ]
    }
   ],
   "source": [
    "USE_CUDA = torch.cuda.is_available()\n",
    "\n",
    "if USE_CUDA:\n",
    "    DEVICE = torch.device('cuda')\n",
    "    print(\"Using cuda.\")\n",
    "\n",
    "SEED = 30255\n",
    "MODEL_NAME = 'bert-base-uncased'\n",
    "np.random.seed(SEED)\n",
    "torch.manual_seed(SEED)\n",
    "if USE_CUDA:\n",
    "    torch.cuda.manual_seed(SEED)\n",
    "\n",
    "COLAB = True\n",
    "\n",
    "if COLAB:\n",
    "    from google.colab import drive \n",
    "    drive.mount('/content/gdrive')\n",
    "    PATH = \"gdrive/MyDrive/NLP Project/\"\n",
    "else:\n",
    "  PATH = \"\"\n"
   ]
  },
  {
   "cell_type": "code",
   "execution_count": 5,
   "id": "29865ab5",
   "metadata": {
    "id": "29865ab5"
   },
   "outputs": [],
   "source": [
    "tweets1 = pd.read_csv(PATH + \"data/tweet_eval_clean.csv\")\n",
    "tweets2 = pd.read_csv(PATH + \"data/kaggle_clean.csv\")"
   ]
  },
  {
   "cell_type": "code",
   "execution_count": 6,
   "id": "C73GkFozIbVH",
   "metadata": {
    "id": "C73GkFozIbVH"
   },
   "outputs": [],
   "source": [
    "tweets2['label'] = np.where(tweets2.sentiment == 'negative', 0, np.where(tweets2.sentiment == 'neutral', 1, 2))\n",
    "tweets = pd.concat([tweets1, tweets2])"
   ]
  },
  {
   "cell_type": "code",
   "execution_count": 7,
   "id": "5e6b01e4",
   "metadata": {
    "id": "5e6b01e4"
   },
   "outputs": [],
   "source": [
    "tweets['label'] = (tweets['label'] - 1).astype(float)"
   ]
  },
  {
   "cell_type": "code",
   "execution_count": 8,
   "id": "edfbf8f8",
   "metadata": {
    "id": "edfbf8f8"
   },
   "outputs": [],
   "source": [
    "#tweets.sentiment.value_counts()"
   ]
  },
  {
   "cell_type": "code",
   "execution_count": 9,
   "id": "2988e0d1",
   "metadata": {
    "colab": {
     "base_uri": "https://localhost:8080/"
    },
    "id": "2988e0d1",
    "outputId": "54785a0c-3762-4bbb-9fa3-d8153803c85f"
   },
   "outputs": [
    {
     "data": {
      "text/plain": [
       " 0.0    38580\n",
       " 1.0    29617\n",
       "-1.0    19158\n",
       "Name: label, dtype: int64"
      ]
     },
     "execution_count": 9,
     "metadata": {},
     "output_type": "execute_result"
    }
   ],
   "source": [
    "tweets.label.value_counts()"
   ]
  },
  {
   "cell_type": "code",
   "execution_count": 10,
   "id": "be6546ff",
   "metadata": {
    "colab": {
     "base_uri": "https://localhost:8080/"
    },
    "id": "be6546ff",
    "outputId": "0706ea99-67ef-4595-f6d7-21bb413cfe0d"
   },
   "outputs": [
    {
     "data": {
      "text/plain": [
       "87355"
      ]
     },
     "execution_count": 10,
     "metadata": {},
     "output_type": "execute_result"
    }
   ],
   "source": [
    "len(tweets)"
   ]
  },
  {
   "cell_type": "code",
   "execution_count": 11,
   "id": "49cd3307",
   "metadata": {
    "id": "49cd3307"
   },
   "outputs": [],
   "source": [
    "tweets.dropna(inplace=True, subset=['text_clean'])"
   ]
  },
  {
   "cell_type": "code",
   "execution_count": 12,
   "id": "9b2c1760",
   "metadata": {
    "colab": {
     "base_uri": "https://localhost:8080/"
    },
    "id": "9b2c1760",
    "outputId": "b3473a9d-7853-44ba-c59b-c1330024460a"
   },
   "outputs": [
    {
     "data": {
      "text/plain": [
       "87352"
      ]
     },
     "execution_count": 12,
     "metadata": {},
     "output_type": "execute_result"
    }
   ],
   "source": [
    "len(tweets)"
   ]
  },
  {
   "cell_type": "code",
   "execution_count": 13,
   "id": "12848417",
   "metadata": {
    "id": "12848417"
   },
   "outputs": [],
   "source": [
    "tweets['word_counts'] = tweets.text_clean.str.split().map(len)"
   ]
  },
  {
   "cell_type": "code",
   "execution_count": 14,
   "id": "f5bfed57",
   "metadata": {
    "colab": {
     "base_uri": "https://localhost:8080/",
     "height": 447
    },
    "id": "f5bfed57",
    "outputId": "41c5b7de-776c-49cd-9653-0356ca60b09f"
   },
   "outputs": [
    {
     "data": {
      "text/plain": [
       "<Axes: >"
      ]
     },
     "execution_count": 14,
     "metadata": {},
     "output_type": "execute_result"
    },
    {
     "data": {
      "image/png": "[encoded data removed]",
      "text/plain": [
       "<Figure size 640x480 with 1 Axes>"
      ]
     },
     "metadata": {},
     "output_type": "display_data"
    }
   ],
   "source": [
    "tweets.word_counts.hist()"
   ]
  },
  {
   "cell_type": "code",
   "execution_count": 15,
   "id": "2ef7ea79",
   "metadata": {
    "id": "2ef7ea79"
   },
   "outputs": [],
   "source": [
    "MAX_LENGTH = 32"
   ]
  },
  {
   "cell_type": "code",
   "execution_count": 16,
   "id": "64605952",
   "metadata": {
    "colab": {
     "base_uri": "https://localhost:8080/"
    },
    "id": "64605952",
    "outputId": "110cb6af-db20-4b90-be16-3c613c875e0a"
   },
   "outputs": [
    {
     "name": "stdout",
     "output_type": "stream",
     "text": [
      "(69881, 10) (8736, 10) (8735, 10)\n"
     ]
    }
   ],
   "source": [
    "train_df , test_df  = train_test_split(tweets, test_size = 0.2, random_state = SEED, shuffle = True)\n",
    "val_df , test_df  = train_test_split(test_df, test_size = 0.5, random_state = SEED, shuffle = True)\n",
    "\n",
    "print(train_df.shape , test_df.shape , val_df.shape)"
   ]
  },
  {
   "cell_type": "code",
   "execution_count": 17,
   "id": "c6e343df",
   "metadata": {
    "id": "c6e343df"
   },
   "outputs": [],
   "source": [
    "class Tweets(Dataset):\n",
    "    def __init__(self, text, target, tokenizer, max_len):\n",
    "        self.text = text\n",
    "        self.target = target\n",
    "        self.tokenizer = tokenizer\n",
    "        self.max_len = max_len\n",
    "        \n",
    "    def __len__(self):\n",
    "        return len(self.text)\n",
    "    \n",
    "    def __getitem__(self,idx):\n",
    "        text = self.text[idx]\n",
    "        encoding = self.tokenizer.encode_plus(\n",
    "                          text,\n",
    "                          add_special_tokens=True,\n",
    "                          max_length=self.max_len,\n",
    "                          truncation=True,\n",
    "                          return_token_type_ids=False,\n",
    "                          pad_to_max_length=True,\n",
    "                          return_attention_mask=True,\n",
    "                          return_tensors='pt')\n",
    "        \n",
    "        return {'text' : text,\n",
    "                'input_id': encoding['input_ids'].flatten(),\n",
    "                'attention_mask':encoding['attention_mask'].flatten(),\n",
    "                'target': torch.tensor(self.target[idx], dtype=torch.float32)\n",
    "               }\n",
    "        "
   ]
  },
  {
   "cell_type": "code",
   "execution_count": 18,
   "id": "925b5b7a",
   "metadata": {
    "colab": {
     "base_uri": "https://localhost:8080/",
     "height": 113,
     "referenced_widgets": [
      "1d92a19216fa43a6ae31d3489ddb8a0c",
      "97cdb585c0424668a0d0e3041449551e",
      "efaba64283714f4d804dd5fe2b895ecf",
      "f1f33012b5a34cfd8209ecc1d73e3359",
      "335147a9679649d2a7e84fcdc51b1e1d",
      "9728f342ee484390b96e990b36c606a8",
      "ed1335b106114dcc86db780744d5f46a",
      "aa3dca4691a54b8a92cfa756772a362c",
      "ff1790fbc1914d1f9beb54121a17d8f0",
      "769b0a88c3944ab28225c461618d55ba",
      "9b698c03db8341f085e8943be4d6cc11",
      "db7ea251b79348e08ca0933079f03274",
      "d96a97d003f54fbb8f4c3505e5b25a59",
      "87856bacd6c345a2967fa6555421cab6",
      "a81c199f24f447c587ef36b2f70fba24",
      "3826882c39194362a4fdd567cbd05d14",
      "645072a199a34adc9c9f828ac1f3eb88",
      "33ce6bb087394f2d8a42611d84a1cea2",
      "8e938d49710d46c3b387b1f25e91c64b",
      "915149daada14a15b942fa97cbf33fc5",
      "d32f10792d064f5c8f0e941b5f053863",
      "d2b85843d916450e913b563a49b73d42",
      "d97a69e4a828426a91adfb50b8633ac9",
      "7ac697ed62934d039cf85f5ab942c5f7",
      "369d1054dbce43caaed553f8e305624d",
      "2e1e364cbcf6489fb66510dd5f9ed529",
      "d21891c68586466987f74e59cd6b5f63",
      "1600f9fd29434a4d9a7b6cce6ecbebf2",
      "a906e6a1bf744fde80918275c181d234",
      "eb38bf8d0d934a76b9debc161dad0d5c",
      "447957992732487eb9e60b6e73d1531b",
      "0d4d1be84c7f418eac887ee244d13527",
      "9b935c4775bc4c238b9315ae2ee2d0b3"
     ]
    },
    "id": "925b5b7a",
    "outputId": "4be8baa2-5ee8-4abd-a139-ffb70f5c6bf0"
   },
   "outputs": [
    {
     "data": {
      "application/vnd.jupyter.widget-view+json": {
       "model_id": "1d92a19216fa43a6ae31d3489ddb8a0c",
       "version_major": 2,
       "version_minor": 0
      },
      "text/plain": [
       "Downloading (…)solve/main/vocab.txt:   0%|          | 0.00/232k [00:00<?, ?B/s]"
      ]
     },
     "metadata": {},
     "output_type": "display_data"
    },
    {
     "data": {
      "application/vnd.jupyter.widget-view+json": {
       "model_id": "db7ea251b79348e08ca0933079f03274",
       "version_major": 2,
       "version_minor": 0
      },
      "text/plain": [
       "Downloading (…)okenizer_config.json:   0%|          | 0.00/28.0 [00:00<?, ?B/s]"
      ]
     },
     "metadata": {},
     "output_type": "display_data"
    },
    {
     "data": {
      "application/vnd.jupyter.widget-view+json": {
       "model_id": "d97a69e4a828426a91adfb50b8633ac9",
       "version_major": 2,
       "version_minor": 0
      },
      "text/plain": [
       "Downloading (…)lve/main/config.json:   0%|          | 0.00/570 [00:00<?, ?B/s]"
      ]
     },
     "metadata": {},
     "output_type": "display_data"
    }
   ],
   "source": [
    "tokenizer = transformers.BertTokenizer.from_pretrained(MODEL_NAME)\n",
    "\n",
    "training_data = Tweets(text = train_df.text_clean.to_numpy(),\n",
    "                               target = train_df.label.to_numpy(dtype=float),\n",
    "                               tokenizer = tokenizer,\n",
    "                               max_len = MAX_LENGTH)\n",
    "\n",
    "validation_data = Tweets(text = val_df.text_clean.to_numpy(),\n",
    "                               target = val_df.label.to_numpy(dtype=float),\n",
    "                               tokenizer = tokenizer,\n",
    "                               max_len = MAX_LENGTH)\n",
    "\n",
    "test_data = Tweets(text = test_df.text_clean.to_numpy(),\n",
    "                               target = test_df.label.to_numpy(dtype=float),\n",
    "                               tokenizer = tokenizer,\n",
    "                               max_len = MAX_LENGTH)"
   ]
  },
  {
   "cell_type": "code",
   "execution_count": 19,
   "id": "4e80eac5",
   "metadata": {
    "id": "4e80eac5"
   },
   "outputs": [],
   "source": [
    "BATCH_SIZE = 32\n",
    "train_loader = DataLoader(training_data , batch_size = BATCH_SIZE , shuffle = True)\n",
    "test_loader = DataLoader(test_data , batch_size = BATCH_SIZE , shuffle = False)\n",
    "val_loader = DataLoader(validation_data , batch_size = BATCH_SIZE , shuffle = False)"
   ]
  },
  {
   "cell_type": "code",
   "execution_count": 20,
   "id": "2250475b",
   "metadata": {
    "id": "2250475b"
   },
   "outputs": [],
   "source": [
    "class TweetSentimentClassifier(nn.Module):\n",
    "    def __init__(self, hid_dim, dropout=0.3):\n",
    "        super(TweetSentimentClassifier,self).__init__()\n",
    "        self.bert = BertModel.from_pretrained(MODEL_NAME)\n",
    "        self.RNN = nn.RNN(self.bert.config.hidden_size, hid_dim, dropout=dropout, num_layers=2)\n",
    "        self.dropout = nn.Dropout(p=dropout)\n",
    "        self.hidden = nn.Linear(hid_dim, 1)\n",
    "        self.nonlinear = nn.Tanh()\n",
    "        \n",
    "    def forward(self,input_ids , attention_mask, hidden0=None):\n",
    "        bert_out = self.bert(input_ids, attention_mask)[0] \n",
    "        rnn_out, hidden1 = self.RNN(bert_out, hidden0)\n",
    "        dropout_out = self.dropout(rnn_out)\n",
    "        hidden_out = self.hidden(dropout_out)\n",
    "        final_out = self.nonlinear(hidden_out)          \n",
    "        return final_out[:, -1, :], hidden1"
   ]
  },
  {
   "cell_type": "code",
   "execution_count": 21,
   "id": "5506f55d",
   "metadata": {
    "colab": {
     "base_uri": "https://localhost:8080/",
     "height": 121,
     "referenced_widgets": [
      "04e999be16b341638924cb1addddfbc4",
      "e2b44f83afa844f9846b7b435c866777",
      "7700245b58dd41b3a59e8571de2ea08c",
      "81d0cdbae835497b9a4eb3ba486c509f",
      "0b28b9144e8d4322a2d0e472f5bf209b",
      "3820324ab3a0452bb34b3bec848df63e",
      "f3b780cf635d4116a5fdfb565798b335",
      "f166d68600f543ec9ec83c539da59c42",
      "f3875e35840945b9a481147ff5acd521",
      "7c088af5e95645cd9ff45d84c390d669",
      "6a87bd9463bf40799b445bbb3a8cfd3f"
     ]
    },
    "id": "5506f55d",
    "outputId": "37bad6a5-b01c-4906-edd9-d5ceb52f472f"
   },
   "outputs": [
    {
     "data": {
      "application/vnd.jupyter.widget-view+json": {
       "model_id": "04e999be16b341638924cb1addddfbc4",
       "version_major": 2,
       "version_minor": 0
      },
      "text/plain": [
       "Downloading pytorch_model.bin:   0%|          | 0.00/440M [00:00<?, ?B/s]"
      ]
     },
     "metadata": {},
     "output_type": "display_data"
    },
    {
     "name": "stderr",
     "output_type": "stream",
     "text": [
      "Some weights of the model checkpoint at bert-base-uncased were not used when initializing BertModel: ['cls.predictions.decoder.weight', 'cls.predictions.bias', 'cls.predictions.transform.dense.weight', 'cls.seq_relationship.bias', 'cls.predictions.transform.dense.bias', 'cls.seq_relationship.weight', 'cls.predictions.transform.LayerNorm.weight', 'cls.predictions.transform.LayerNorm.bias']\n",
      "- This IS expected if you are initializing BertModel from the checkpoint of a model trained on another task or with another architecture (e.g. initializing a BertForSequenceClassification model from a BertForPreTraining model).\n",
      "- This IS NOT expected if you are initializing BertModel from the checkpoint of a model that you expect to be exactly identical (initializing a BertForSequenceClassification model from a BertForSequenceClassification model).\n"
     ]
    }
   ],
   "source": [
    "HIDDEN_DIM = 128\n",
    "\n",
    "model = TweetSentimentClassifier(HIDDEN_DIM)\n",
    "\n",
    "if USE_CUDA:\n",
    "  model = model.cuda()"
   ]
  },
  {
   "cell_type": "code",
   "execution_count": 22,
   "id": "08fd6765",
   "metadata": {
    "colab": {
     "base_uri": "https://localhost:8080/"
    },
    "id": "08fd6765",
    "outputId": "8fe8f4e6-f3f7-4471-bbd0-df4edcab4c6c"
   },
   "outputs": [
    {
     "name": "stderr",
     "output_type": "stream",
     "text": [
      "/usr/local/lib/python3.10/dist-packages/transformers/optimization.py:407: FutureWarning: This implementation of AdamW is deprecated and will be removed in a future version. Use the PyTorch implementation torch.optim.AdamW instead, or set `no_deprecation_warning=True` to disable this warning\n",
      "  warnings.warn(\n"
     ]
    }
   ],
   "source": [
    "learning_rate = 2e-5\n",
    "EPOCHS = 10\n",
    "total_steps = len(train_loader) * EPOCHS\n",
    "\n",
    "loss_fn = torch.nn.MSELoss()\n",
    "\n",
    "optimizer = transformers.AdamW(params = model.parameters(),lr = learning_rate, correct_bias= False)\n",
    "\n",
    "scheduler = transformers.get_linear_schedule_with_warmup(optimizer = optimizer,\n",
    "                                                        num_warmup_steps = 0,\n",
    "                                                        num_training_steps = total_steps)"
   ]
  },
  {
   "cell_type": "code",
   "execution_count": 32,
   "id": "684807f1",
   "metadata": {
    "id": "684807f1"
   },
   "outputs": [],
   "source": [
    "def get_predictions(x):\n",
    "  return torch.where(x > 0.5, 1.0, torch.where(x < -0.5, -1.0, 0.0))\n",
    "\n",
    "\n",
    "def evaluate(model, data_loader, n_examples):\n",
    "    model.eval()  \n",
    "    correct_pred = 0\n",
    "    \n",
    "    with torch.no_grad():\n",
    "        hidden = None\n",
    "        for batch in data_loader:\n",
    "            input_ids = batch['input_id']\n",
    "            attention_masks = batch['attention_mask']\n",
    "            targets = batch['target']\n",
    "            if USE_CUDA:\n",
    "              input_ids = input_ids.cuda()\n",
    "              attention_masks = attention_masks.cuda()\n",
    "              targets = targets.cuda()\n",
    "\n",
    "            output, hidden = model(input_ids, attention_masks, hidden)\n",
    "            pred_classes = get_predictions(output).view(-1)\n",
    "\n",
    "            correct_pred += torch.sum(pred_classes == targets).item()\n",
    "\n",
    "    return correct_pred / n_examples"
   ]
  },
  {
   "cell_type": "code",
   "execution_count": 24,
   "id": "y68A727k3uxX",
   "metadata": {
    "id": "y68A727k3uxX"
   },
   "outputs": [],
   "source": [
    "#evaluate(model, val_loader, len(val_df))"
   ]
  },
  {
   "cell_type": "code",
   "execution_count": 25,
   "id": "e92f416f",
   "metadata": {
    "id": "e92f416f"
   },
   "outputs": [],
   "source": [
    "def repackage_hidden(h):\n",
    "    \"\"\"Wraps hidden states in new Tensors, to detach them from their history.\"\"\"\n",
    "    if h is None:\n",
    "        return None\n",
    "    elif isinstance(h, torch.Tensor):\n",
    "        return h.detach()\n",
    "    else:\n",
    "        return tuple(repackage_hidden(v) for v in h)\n",
    "\n",
    "def train_model(model, data_loader, criterion, optimizer, scheduler, n_examples, train_log_interval):\n",
    "    \n",
    "    model.train()\n",
    "    correct_pred = 0\n",
    "    hidden = None\n",
    "    for i, batch in enumerate(data_loader):\n",
    "        input_ids = batch['input_id']\n",
    "        attention_masks = batch['attention_mask']\n",
    "        targets = batch['target']\n",
    "\n",
    "        if USE_CUDA:\n",
    "            input_ids = input_ids.cuda()\n",
    "            attention_masks = attention_masks.cuda()\n",
    "            targets = targets.cuda()\n",
    "        hidden = repackage_hidden(hidden)\n",
    "        output, hidden = model(input_ids , attention_masks, hidden)\n",
    "        #outputs = model(input_ids , attention_masks, labels=targets)\n",
    "        loss = criterion(output, targets.unsqueeze(-1))\n",
    "        pred_classes = get_predictions(output)\n",
    "        #loss = outputs.loss\n",
    "        loss.backward()\n",
    "        nn.utils.clip_grad_norm_(model.parameters(), max_norm=1.0) # hack to avoid gradient explotion\n",
    "        optimizer.step()\n",
    "        scheduler.step()\n",
    "        optimizer.zero_grad()\n",
    "        \n",
    "        correct_pred += torch.sum(pred_classes.view(-1)==targets)\n",
    "\n",
    "        if (i + 1) % train_log_interval == 0:\n",
    "            print(f\"At iteration {i + 1} the train loss is {loss:.3f}.\")\n",
    "    \n",
    "    return correct_pred / n_examples\n",
    "   "
   ]
  },
  {
   "cell_type": "code",
   "execution_count": 26,
   "id": "7e9d67ef",
   "metadata": {
    "id": "7e9d67ef"
   },
   "outputs": [],
   "source": [
    "TRAIN_LOG_INTERVAL = 500\n",
    "MODEL_PATH = PATH + \"best_sentiment_classifier_regression.pt\"\n",
    "\n",
    "def run_training_loops(model, train_loader, val_loader, criterion, optimizer, scheduler, epochs):\n",
    "    train_accs = []\n",
    "    valid_accs = []\n",
    "    best_valid_acc = 0\n",
    "    \n",
    "    for epoch in range(epochs):\n",
    "        train_acc = train_model(model, train_loader, criterion, optimizer, scheduler, len(train_df), TRAIN_LOG_INTERVAL)\n",
    "        valid_acc = evaluate(model, val_loader, len(val_df))\n",
    "        train_accs.append(train_acc)\n",
    "        valid_accs.append(valid_acc)\n",
    "        \n",
    "        print(f\"After epoch {epoch+1} training accuracy is {train_acc}\")\n",
    "        print(f\"After epoch {epoch+1} validation accuracy is {valid_acc}\")\n",
    "        \n",
    "        if valid_acc > best_valid_acc:\n",
    "            best_valid_acc = valid_acc\n",
    "            torch.save(model.state_dict(), MODEL_PATH)\n",
    "            \n",
    "            \n",
    "    return train_accs, valid_accs\n",
    "        \n",
    "\n",
    "        \n",
    "    "
   ]
  },
  {
   "cell_type": "code",
   "execution_count": 27,
   "id": "cc386838",
   "metadata": {
    "colab": {
     "base_uri": "https://localhost:8080/"
    },
    "id": "cc386838",
    "outputId": "fac5d3cd-722b-4798-8bf8-feb7daef48ae"
   },
   "outputs": [
    {
     "name": "stderr",
     "output_type": "stream",
     "text": [
      "/usr/local/lib/python3.10/dist-packages/transformers/tokenization_utils_base.py:2364: FutureWarning: The `pad_to_max_length` argument is deprecated and will be removed in a future version, use `padding=True` or `padding='longest'` to pad to the longest sequence in the batch, or use `padding='max_length'` to pad to a max length. In this case, you can give a specific length with `max_length` (e.g. `max_length=45`) or leave max_length to None to pad to the maximal input size of the model (e.g. 512 for Bert).\n",
      "  warnings.warn(\n"
     ]
    },
    {
     "name": "stdout",
     "output_type": "stream",
     "text": [
      "At iteration 500 the train loss is 0.272.\n",
      "At iteration 1000 the train loss is 0.209.\n",
      "At iteration 1500 the train loss is 0.206.\n",
      "At iteration 2000 the train loss is 0.240.\n",
      "After epoch 1 training accuracy is 0.6901017427444458\n",
      "After epoch 1 validation accuracy is 0.7317687464224385\n",
      "At iteration 500 the train loss is 0.141.\n",
      "At iteration 1000 the train loss is 0.083.\n",
      "At iteration 1500 the train loss is 0.242.\n",
      "At iteration 2000 the train loss is 0.240.\n",
      "After epoch 2 training accuracy is 0.778623640537262\n",
      "After epoch 2 validation accuracy is 0.7334859759587865\n",
      "At iteration 500 the train loss is 0.134.\n",
      "At iteration 1000 the train loss is 0.191.\n",
      "At iteration 1500 the train loss is 0.150.\n",
      "At iteration 2000 the train loss is 0.140.\n",
      "After epoch 3 training accuracy is 0.8403714895248413\n",
      "After epoch 3 validation accuracy is 0.7293646250715512\n",
      "At iteration 500 the train loss is 0.114.\n",
      "At iteration 1000 the train loss is 0.089.\n",
      "At iteration 1500 the train loss is 0.114.\n",
      "At iteration 2000 the train loss is 0.077.\n",
      "After epoch 4 training accuracy is 0.8891687393188477\n",
      "After epoch 4 validation accuracy is 0.732112192329708\n",
      "At iteration 500 the train loss is 0.042.\n",
      "At iteration 1000 the train loss is 0.061.\n",
      "At iteration 1500 the train loss is 0.039.\n",
      "At iteration 2000 the train loss is 0.048.\n",
      "After epoch 5 training accuracy is 0.921022891998291\n",
      "After epoch 5 validation accuracy is 0.7261591299370349\n",
      "At iteration 500 the train loss is 0.084.\n",
      "At iteration 1000 the train loss is 0.040.\n",
      "At iteration 1500 the train loss is 0.093.\n",
      "At iteration 2000 the train loss is 0.147.\n",
      "After epoch 6 training accuracy is 0.9374508261680603\n",
      "After epoch 6 validation accuracy is 0.7230681167716084\n",
      "At iteration 500 the train loss is 0.046.\n",
      "At iteration 1000 the train loss is 0.042.\n",
      "At iteration 1500 the train loss is 0.033.\n",
      "At iteration 2000 the train loss is 0.035.\n",
      "After epoch 7 training accuracy is 0.950129508972168\n",
      "After epoch 7 validation accuracy is 0.7266170578133944\n",
      "At iteration 500 the train loss is 0.060.\n",
      "At iteration 1000 the train loss is 0.063.\n",
      "At iteration 1500 the train loss is 0.047.\n",
      "At iteration 2000 the train loss is 0.038.\n",
      "After epoch 8 training accuracy is 0.9586725831031799\n",
      "After epoch 8 validation accuracy is 0.7238694905552375\n",
      "At iteration 500 the train loss is 0.004.\n",
      "At iteration 1000 the train loss is 0.007.\n",
      "At iteration 1500 the train loss is 0.017.\n",
      "At iteration 2000 the train loss is 0.006.\n",
      "After epoch 9 training accuracy is 0.9639816284179688\n",
      "After epoch 9 validation accuracy is 0.7275329135661134\n",
      "At iteration 500 the train loss is 0.030.\n",
      "At iteration 1000 the train loss is 0.025.\n",
      "At iteration 1500 the train loss is 0.057.\n",
      "At iteration 2000 the train loss is 0.034.\n",
      "After epoch 10 training accuracy is 0.9676306843757629\n",
      "After epoch 10 validation accuracy is 0.7271894676588437\n"
     ]
    }
   ],
   "source": [
    "training_accuracy, validation_accuracy = run_training_loops(model, train_loader, val_loader, loss_fn, optimizer, scheduler, EPOCHS)"
   ]
  },
  {
   "cell_type": "code",
   "execution_count": 40,
   "id": "db5423e4",
   "metadata": {
    "id": "db5423e4"
   },
   "outputs": [],
   "source": [
    "def get_final_predictions(model, data_loader):\n",
    "    model = model.eval()\n",
    "\n",
    "    tweets = []\n",
    "    predictions = []\n",
    "    real_values = []\n",
    "\n",
    "    with torch.no_grad():\n",
    "        for batch in data_loader:\n",
    "\n",
    "            texts = batch[\"text\"]\n",
    "            input_ids = batch[\"input_id\"]\n",
    "            attention_masks = batch[\"attention_mask\"]\n",
    "            targets = batch[\"target\"]\n",
    "\n",
    "            if USE_CUDA:\n",
    "              input_ids = input_ids.cuda()\n",
    "              attention_masks = attention_masks.cuda()\n",
    "              targets = targets.cuda()\n",
    "\n",
    "            output, hidden = model(input_ids=input_ids,\n",
    "                            attention_mask=attention_masks)\n",
    "            \n",
    "            pred_classes = get_predictions(output).view(-1)\n",
    "\n",
    "\n",
    "            tweets.extend(texts)\n",
    "            predictions.extend(pred_classes)\n",
    "            real_values.extend(targets)\n",
    "\n",
    "    predictions = torch.stack(predictions).cuda()\n",
    "    real_values = torch.stack(real_values).cuda()\n",
    "    return tweets, predictions, real_values"
   ]
  },
  {
   "cell_type": "code",
   "execution_count": 38,
   "id": "zubkYYTwbHXd",
   "metadata": {
    "colab": {
     "base_uri": "https://localhost:8080/"
    },
    "id": "zubkYYTwbHXd",
    "outputId": "edeab31f-5618-4bf1-eb87-2f063b993eff"
   },
   "outputs": [
    {
     "data": {
      "text/plain": [
       "<All keys matched successfully>"
      ]
     },
     "execution_count": 38,
     "metadata": {},
     "output_type": "execute_result"
    }
   ],
   "source": [
    "model.load_state_dict(torch.load(MODEL_PATH))"
   ]
  },
  {
   "cell_type": "code",
   "execution_count": 42,
   "id": "RlJaXiN6M76-",
   "metadata": {
    "colab": {
     "base_uri": "https://localhost:8080/"
    },
    "id": "RlJaXiN6M76-",
    "outputId": "e4ba05a0-80ec-4b19-c384-878daebae178"
   },
   "outputs": [
    {
     "name": "stderr",
     "output_type": "stream",
     "text": [
      "/usr/local/lib/python3.10/dist-packages/transformers/tokenization_utils_base.py:2364: FutureWarning: The `pad_to_max_length` argument is deprecated and will be removed in a future version, use `padding=True` or `padding='longest'` to pad to the longest sequence in the batch, or use `padding='max_length'` to pad to a max length. In this case, you can give a specific length with `max_length` (e.g. `max_length=45`) or leave max_length to None to pad to the maximal input size of the model (e.g. 512 for Bert).\n",
      "  warnings.warn(\n"
     ]
    }
   ],
   "source": [
    "y_tweets, y_pred, y_test = get_final_predictions(model,test_loader)"
   ]
  },
  {
   "cell_type": "code",
   "execution_count": 44,
   "id": "p9SYY09lMVh8",
   "metadata": {
    "colab": {
     "base_uri": "https://localhost:8080/",
     "height": 466
    },
    "id": "p9SYY09lMVh8",
    "outputId": "bbfe07d4-d29f-4fda-c381-cdd10637514e"
   },
   "outputs": [
    {
     "data": {
      "text/plain": [
       "<sklearn.metrics._plot.confusion_matrix.ConfusionMatrixDisplay at 0x7f6c7d067940>"
      ]
     },
     "execution_count": 44,
     "metadata": {},
     "output_type": "execute_result"
    },
    {
     "data": {
      "image/png": "[encoded data removed]",
      "text/plain": [
       "<Figure size 640x480 with 2 Axes>"
      ]
     },
     "metadata": {},
     "output_type": "display_data"
    }
   ],
   "source": [
    "from sklearn.metrics import confusion_matrix, ConfusionMatrixDisplay\n",
    "\n",
    "y_test = y_test.cpu()\n",
    "y_pred = y_pred.cpu()\n",
    "\n",
    "cm = confusion_matrix(y_test, y_pred)\n",
    "\n",
    "disp = ConfusionMatrixDisplay(confusion_matrix=cm, display_labels=['Negative', 'Neutral', \"Positive\"])\n",
    "disp.plot()"
   ]
  },
  {
   "cell_type": "code",
   "execution_count": 45,
   "id": "gRhuOl73OMfb",
   "metadata": {
    "colab": {
     "base_uri": "https://localhost:8080/"
    },
    "id": "gRhuOl73OMfb",
    "outputId": "be8fc785-0aef-460e-b5b4-2ceb645c25af"
   },
   "outputs": [
    {
     "name": "stdout",
     "output_type": "stream",
     "text": [
      "Test Accuracy: 0.7296245694160461\n"
     ]
    }
   ],
   "source": [
    "print(f\"Test Accuracy: {(y_test == y_pred).sum()/len(y_test)}\")"
   ]
  },
  {
   "cell_type": "code",
   "execution_count": 46,
   "id": "eLtoLVz5cJNB",
   "metadata": {
    "id": "eLtoLVz5cJNB"
   },
   "outputs": [],
   "source": [
    "accuarcy_df = pd.DataFrame({\"training_accuarcy\": [t.detach().cpu() for t in training_accuracy], })"
   ]
  },
  {
   "cell_type": "code",
   "execution_count": 48,
   "id": "CidI2bdbdESh",
   "metadata": {
    "colab": {
     "base_uri": "https://localhost:8080/",
     "height": 449
    },
    "id": "CidI2bdbdESh",
    "outputId": "e134fa85-c27b-4841-b107-883fe061fb40"
   },
   "outputs": [
    {
     "data": {
      "image/png": "[encoded data removed]",
      "text/plain": [
       "<Figure size 640x480 with 1 Axes>"
      ]
     },
     "metadata": {},
     "output_type": "display_data"
    }
   ],
   "source": [
    "plt.plot(range(1, len(training_accuracy) + 1),[t.detach().cpu() for t in training_accuracy], label=\"Training\" )\n",
    "plt.plot(range(1, len(validation_accuracy) + 1),[t for t in validation_accuracy], label=\"Validation\" )\n",
    "plt.legend()\n",
    "plt.xlabel(\"Epochs\")\n",
    "plt.ylabel(\"Accuracy\")\n",
    "plt.savefig(PATH + \"sentiment_classifier_accuracy_regression.png\")"
   ]
  },
  {
   "cell_type": "code",
   "execution_count": null,
   "id": "nFsAq1YXcS4c",
   "metadata": {
    "id": "nFsAq1YXcS4c"
   },
   "outputs": [],
   "source": [
    "import sklearn\n",
    "\n",
    "sklearn.__version__"
   ]
  }
 ],
 "metadata": {
  "accelerator": "GPU",
  "colab": {
   "gpuType": "A100",
   "machine_shape": "hm",
   "provenance": []
  },
  "gpuClass": "standard",
  "kernelspec": {
   "display_name": "Python 3 (ipykernel)",
   "language": "python",
   "name": "python3"
  },
  "language_info": {
   "codemirror_mode": {
    "name": "ipython",
    "version": 3
   },
   "file_extension": ".py",
   "mimetype": "text/x-python",
   "name": "python",
   "nbconvert_exporter": "python",
   "pygments_lexer": "ipython3",
   "version": "3.9.16"
  },
  "widgets": {
   "application/vnd.jupyter.widget-state+json": {
    "04e999be16b341638924cb1addddfbc4": {
     "model_module": "@jupyter-widgets/controls",
     "model_module_version": "1.5.0",
     "model_name": "HBoxModel",
     "state": {
      "_dom_classes": [],
      "_model_module": "@jupyter-widgets/controls",
      "_model_module_version": "1.5.0",
      "_model_name": "HBoxModel",
      "_view_count": null,
      "_view_module": "@jupyter-widgets/controls",
      "_view_module_version": "1.5.0",
      "_view_name": "HBoxView",
      "box_style": "",
      "children": [
       "IPY_MODEL_e2b44f83afa844f9846b7b435c866777",
       "IPY_MODEL_7700245b58dd41b3a59e8571de2ea08c",
       "IPY_MODEL_81d0cdbae835497b9a4eb3ba486c509f"
      ],
      "layout": "IPY_MODEL_0b28b9144e8d4322a2d0e472f5bf209b"
     }
    },
    "0b28b9144e8d4322a2d0e472f5bf209b": {
     "model_module": "@jupyter-widgets/base",
     "model_module_version": "1.2.0",
     "model_name": "LayoutModel",
     "state": {
      "_model_module": "@jupyter-widgets/base",
      "_model_module_version": "1.2.0",
      "_model_name": "LayoutModel",
      "_view_count": null,
      "_view_module": "@jupyter-widgets/base",
      "_view_module_version": "1.2.0",
      "_view_name": "LayoutView",
      "align_content": null,
      "align_items": null,
      "align_self": null,
      "border": null,
      "bottom": null,
      "display": null,
      "flex": null,
      "flex_flow": null,
      "grid_area": null,
      "grid_auto_columns": null,
      "grid_auto_flow": null,
      "grid_auto_rows": null,
      "grid_column": null,
      "grid_gap": null,
      "grid_row": null,
      "grid_template_areas": null,
      "grid_template_columns": null,
      "grid_template_rows": null,
      "height": null,
      "justify_content": null,
      "justify_items": null,
      "left": null,
      "margin": null,
      "max_height": null,
      "max_width": null,
      "min_height": null,
      "min_width": null,
      "object_fit": null,
      "object_position": null,
      "order": null,
      "overflow": null,
      "overflow_x": null,
      "overflow_y": null,
      "padding": null,
      "right": null,
      "top": null,
      "visibility": null,
      "width": null
     }
    },
    "0d4d1be84c7f418eac887ee244d13527": {
     "model_module": "@jupyter-widgets/base",
     "model_module_version": "1.2.0",
     "model_name": "LayoutModel",
     "state": {
      "_model_module": "@jupyter-widgets/base",
      "_model_module_version": "1.2.0",
      "_model_name": "LayoutModel",
      "_view_count": null,
      "_view_module": "@jupyter-widgets/base",
      "_view_module_version": "1.2.0",
      "_view_name": "LayoutView",
      "align_content": null,
      "align_items": null,
      "align_self": null,
      "border": null,
      "bottom": null,
      "display": null,
      "flex": null,
      "flex_flow": null,
      "grid_area": null,
      "grid_auto_columns": null,
      "grid_auto_flow": null,
      "grid_auto_rows": null,
      "grid_column": null,
      "grid_gap": null,
      "grid_row": null,
      "grid_template_areas": null,
      "grid_template_columns": null,
      "grid_template_rows": null,
      "height": null,
      "justify_content": null,
      "justify_items": null,
      "left": null,
      "margin": null,
      "max_height": null,
      "max_width": null,
      "min_height": null,
      "min_width": null,
      "object_fit": null,
      "object_position": null,
      "order": null,
      "overflow": null,
      "overflow_x": null,
      "overflow_y": null,
      "padding": null,
      "right": null,
      "top": null,
      "visibility": null,
      "width": null
     }
    },
    "1600f9fd29434a4d9a7b6cce6ecbebf2": {
     "model_module": "@jupyter-widgets/base",
     "model_module_version": "1.2.0",
     "model_name": "LayoutModel",
     "state": {
      "_model_module": "@jupyter-widgets/base",
      "_model_module_version": "1.2.0",
      "_model_name": "LayoutModel",
      "_view_count": null,
      "_view_module": "@jupyter-widgets/base",
      "_view_module_version": "1.2.0",
      "_view_name": "LayoutView",
      "align_content": null,
      "align_items": null,
      "align_self": null,
      "border": null,
      "bottom": null,
      "display": null,
      "flex": null,
      "flex_flow": null,
      "grid_area": null,
      "grid_auto_columns": null,
      "grid_auto_flow": null,
      "grid_auto_rows": null,
      "grid_column": null,
      "grid_gap": null,
      "grid_row": null,
      "grid_template_areas": null,
      "grid_template_columns": null,
      "grid_template_rows": null,
      "height": null,
      "justify_content": null,
      "justify_items": null,
      "left": null,
      "margin": null,
      "max_height": null,
      "max_width": null,
      "min_height": null,
      "min_width": null,
      "object_fit": null,
      "object_position": null,
      "order": null,
      "overflow": null,
      "overflow_x": null,
      "overflow_y": null,
      "padding": null,
      "right": null,
      "top": null,
      "visibility": null,
      "width": null
     }
    },
    "1d92a19216fa43a6ae31d3489ddb8a0c": {
     "model_module": "@jupyter-widgets/controls",
     "model_module_version": "1.5.0",
     "model_name": "HBoxModel",
     "state": {
      "_dom_classes": [],
      "_model_module": "@jupyter-widgets/controls",
      "_model_module_version": "1.5.0",
      "_model_name": "HBoxModel",
      "_view_count": null,
      "_view_module": "@jupyter-widgets/controls",
      "_view_module_version": "1.5.0",
      "_view_name": "HBoxView",
      "box_style": "",
      "children": [
       "IPY_MODEL_97cdb585c0424668a0d0e3041449551e",
       "IPY_MODEL_efaba64283714f4d804dd5fe2b895ecf",
       "IPY_MODEL_f1f33012b5a34cfd8209ecc1d73e3359"
      ],
      "layout": "IPY_MODEL_335147a9679649d2a7e84fcdc51b1e1d"
     }
    },
    "2e1e364cbcf6489fb66510dd5f9ed529": {
     "model_module": "@jupyter-widgets/controls",
     "model_module_version": "1.5.0",
     "model_name": "HTMLModel",
     "state": {
      "_dom_classes": [],
      "_model_module": "@jupyter-widgets/controls",
      "_model_module_version": "1.5.0",
      "_model_name": "HTMLModel",
      "_view_count": null,
      "_view_module": "@jupyter-widgets/controls",
      "_view_module_version": "1.5.0",
      "_view_name": "HTMLView",
      "description": "",
      "description_tooltip": null,
      "layout": "IPY_MODEL_0d4d1be84c7f418eac887ee244d13527",
      "placeholder": "​",
      "style": "IPY_MODEL_9b935c4775bc4c238b9315ae2ee2d0b3",
      "value": " 570/570 [00:00&lt;00:00, 46.3kB/s]"
     }
    },
    "335147a9679649d2a7e84fcdc51b1e1d": {
     "model_module": "@jupyter-widgets/base",
     "model_module_version": "1.2.0",
     "model_name": "LayoutModel",
     "state": {
      "_model_module": "@jupyter-widgets/base",
      "_model_module_version": "1.2.0",
      "_model_name": "LayoutModel",
      "_view_count": null,
      "_view_module": "@jupyter-widgets/base",
      "_view_module_version": "1.2.0",
      "_view_name": "LayoutView",
      "align_content": null,
      "align_items": null,
      "align_self": null,
      "border": null,
      "bottom": null,
      "display": null,
      "flex": null,
      "flex_flow": null,
      "grid_area": null,
      "grid_auto_columns": null,
      "grid_auto_flow": null,
      "grid_auto_rows": null,
      "grid_column": null,
      "grid_gap": null,
      "grid_row": null,
      "grid_template_areas": null,
      "grid_template_columns": null,
      "grid_template_rows": null,
      "height": null,
      "justify_content": null,
      "justify_items": null,
      "left": null,
      "margin": null,
      "max_height": null,
      "max_width": null,
      "min_height": null,
      "min_width": null,
      "object_fit": null,
      "object_position": null,
      "order": null,
      "overflow": null,
      "overflow_x": null,
      "overflow_y": null,
      "padding": null,
      "right": null,
      "top": null,
      "visibility": null,
      "width": null
     }
    },
    "33ce6bb087394f2d8a42611d84a1cea2": {
     "model_module": "@jupyter-widgets/controls",
     "model_module_version": "1.5.0",
     "model_name": "DescriptionStyleModel",
     "state": {
      "_model_module": "@jupyter-widgets/controls",
      "_model_module_version": "1.5.0",
      "_model_name": "DescriptionStyleModel",
      "_view_count": null,
      "_view_module": "@jupyter-widgets/base",
      "_view_module_version": "1.2.0",
      "_view_name": "StyleView",
      "description_width": ""
     }
    },
    "369d1054dbce43caaed553f8e305624d": {
     "model_module": "@jupyter-widgets/controls",
     "model_module_version": "1.5.0",
     "model_name": "FloatProgressModel",
     "state": {
      "_dom_classes": [],
      "_model_module": "@jupyter-widgets/controls",
      "_model_module_version": "1.5.0",
      "_model_name": "FloatProgressModel",
      "_view_count": null,
      "_view_module": "@jupyter-widgets/controls",
      "_view_module_version": "1.5.0",
      "_view_name": "ProgressView",
      "bar_style": "success",
      "description": "",
      "description_tooltip": null,
      "layout": "IPY_MODEL_eb38bf8d0d934a76b9debc161dad0d5c",
      "max": 570,
      "min": 0,
      "orientation": "horizontal",
      "style": "IPY_MODEL_447957992732487eb9e60b6e73d1531b",
      "value": 570
     }
    },
    "3820324ab3a0452bb34b3bec848df63e": {
     "model_module": "@jupyter-widgets/base",
     "model_module_version": "1.2.0",
     "model_name": "LayoutModel",
     "state": {
      "_model_module": "@jupyter-widgets/base",
      "_model_module_version": "1.2.0",
      "_model_name": "LayoutModel",
      "_view_count": null,
      "_view_module": "@jupyter-widgets/base",
      "_view_module_version": "1.2.0",
      "_view_name": "LayoutView",
      "align_content": null,
      "align_items": null,
      "align_self": null,
      "border": null,
      "bottom": null,
      "display": null,
      "flex": null,
      "flex_flow": null,
      "grid_area": null,
      "grid_auto_columns": null,
      "grid_auto_flow": null,
      "grid_auto_rows": null,
      "grid_column": null,
      "grid_gap": null,
      "grid_row": null,
      "grid_template_areas": null,
      "grid_template_columns": null,
      "grid_template_rows": null,
      "height": null,
      "justify_content": null,
      "justify_items": null,
      "left": null,
      "margin": null,
      "max_height": null,
      "max_width": null,
      "min_height": null,
      "min_width": null,
      "object_fit": null,
      "object_position": null,
      "order": null,
      "overflow": null,
      "overflow_x": null,
      "overflow_y": null,
      "padding": null,
      "right": null,
      "top": null,
      "visibility": null,
      "width": null
     }
    },
    "3826882c39194362a4fdd567cbd05d14": {
     "model_module": "@jupyter-widgets/base",
     "model_module_version": "1.2.0",
     "model_name": "LayoutModel",
     "state": {
      "_model_module": "@jupyter-widgets/base",
      "_model_module_version": "1.2.0",
      "_model_name": "LayoutModel",
      "_view_count": null,
      "_view_module": "@jupyter-widgets/base",
      "_view_module_version": "1.2.0",
      "_view_name": "LayoutView",
      "align_content": null,
      "align_items": null,
      "align_self": null,
      "border": null,
      "bottom": null,
      "display": null,
      "flex": null,
      "flex_flow": null,
      "grid_area": null,
      "grid_auto_columns": null,
      "grid_auto_flow": null,
      "grid_auto_rows": null,
      "grid_column": null,
      "grid_gap": null,
      "grid_row": null,
      "grid_template_areas": null,
      "grid_template_columns": null,
      "grid_template_rows": null,
      "height": null,
      "justify_content": null,
      "justify_items": null,
      "left": null,
      "margin": null,
      "max_height": null,
      "max_width": null,
      "min_height": null,
      "min_width": null,
      "object_fit": null,
      "object_position": null,
      "order": null,
      "overflow": null,
      "overflow_x": null,
      "overflow_y": null,
      "padding": null,
      "right": null,
      "top": null,
      "visibility": null,
      "width": null
     }
    },
    "447957992732487eb9e60b6e73d1531b": {
     "model_module": "@jupyter-widgets/controls",
     "model_module_version": "1.5.0",
     "model_name": "ProgressStyleModel",
     "state": {
      "_model_module": "@jupyter-widgets/controls",
      "_model_module_version": "1.5.0",
      "_model_name": "ProgressStyleModel",
      "_view_count": null,
      "_view_module": "@jupyter-widgets/base",
      "_view_module_version": "1.2.0",
      "_view_name": "StyleView",
      "bar_color": null,
      "description_width": ""
     }
    },
    "645072a199a34adc9c9f828ac1f3eb88": {
     "model_module": "@jupyter-widgets/base",
     "model_module_version": "1.2.0",
     "model_name": "LayoutModel",
     "state": {
      "_model_module": "@jupyter-widgets/base",
      "_model_module_version": "1.2.0",
      "_model_name": "LayoutModel",
      "_view_count": null,
      "_view_module": "@jupyter-widgets/base",
      "_view_module_version": "1.2.0",
      "_view_name": "LayoutView",
      "align_content": null,
      "align_items": null,
      "align_self": null,
      "border": null,
      "bottom": null,
      "display": null,
      "flex": null,
      "flex_flow": null,
      "grid_area": null,
      "grid_auto_columns": null,
      "grid_auto_flow": null,
      "grid_auto_rows": null,
      "grid_column": null,
      "grid_gap": null,
      "grid_row": null,
      "grid_template_areas": null,
      "grid_template_columns": null,
      "grid_template_rows": null,
      "height": null,
      "justify_content": null,
      "justify_items": null,
      "left": null,
      "margin": null,
      "max_height": null,
      "max_width": null,
      "min_height": null,
      "min_width": null,
      "object_fit": null,
      "object_position": null,
      "order": null,
      "overflow": null,
      "overflow_x": null,
      "overflow_y": null,
      "padding": null,
      "right": null,
      "top": null,
      "visibility": null,
      "width": null
     }
    },
    "6a87bd9463bf40799b445bbb3a8cfd3f": {
     "model_module": "@jupyter-widgets/controls",
     "model_module_version": "1.5.0",
     "model_name": "DescriptionStyleModel",
     "state": {
      "_model_module": "@jupyter-widgets/controls",
      "_model_module_version": "1.5.0",
      "_model_name": "DescriptionStyleModel",
      "_view_count": null,
      "_view_module": "@jupyter-widgets/base",
      "_view_module_version": "1.2.0",
      "_view_name": "StyleView",
      "description_width": ""
     }
    },
    "769b0a88c3944ab28225c461618d55ba": {
     "model_module": "@jupyter-widgets/base",
     "model_module_version": "1.2.0",
     "model_name": "LayoutModel",
     "state": {
      "_model_module": "@jupyter-widgets/base",
      "_model_module_version": "1.2.0",
      "_model_name": "LayoutModel",
      "_view_count": null,
      "_view_module": "@jupyter-widgets/base",
      "_view_module_version": "1.2.0",
      "_view_name": "LayoutView",
      "align_content": null,
      "align_items": null,
      "align_self": null,
      "border": null,
      "bottom": null,
      "display": null,
      "flex": null,
      "flex_flow": null,
      "grid_area": null,
      "grid_auto_columns": null,
      "grid_auto_flow": null,
      "grid_auto_rows": null,
      "grid_column": null,
      "grid_gap": null,
      "grid_row": null,
      "grid_template_areas": null,
      "grid_template_columns": null,
      "grid_template_rows": null,
      "height": null,
      "justify_content": null,
      "justify_items": null,
      "left": null,
      "margin": null,
      "max_height": null,
      "max_width": null,
      "min_height": null,
      "min_width": null,
      "object_fit": null,
      "object_position": null,
      "order": null,
      "overflow": null,
      "overflow_x": null,
      "overflow_y": null,
      "padding": null,
      "right": null,
      "top": null,
      "visibility": null,
      "width": null
     }
    },
    "7700245b58dd41b3a59e8571de2ea08c": {
     "model_module": "@jupyter-widgets/controls",
     "model_module_version": "1.5.0",
     "model_name": "FloatProgressModel",
     "state": {
      "_dom_classes": [],
      "_model_module": "@jupyter-widgets/controls",
      "_model_module_version": "1.5.0",
      "_model_name": "FloatProgressModel",
      "_view_count": null,
      "_view_module": "@jupyter-widgets/controls",
      "_view_module_version": "1.5.0",
      "_view_name": "ProgressView",
      "bar_style": "success",
      "description": "",
      "description_tooltip": null,
      "layout": "IPY_MODEL_f166d68600f543ec9ec83c539da59c42",
      "max": 440473133,
      "min": 0,
      "orientation": "horizontal",
      "style": "IPY_MODEL_f3875e35840945b9a481147ff5acd521",
      "value": 440473133
     }
    },
    "7ac697ed62934d039cf85f5ab942c5f7": {
     "model_module": "@jupyter-widgets/controls",
     "model_module_version": "1.5.0",
     "model_name": "HTMLModel",
     "state": {
      "_dom_classes": [],
      "_model_module": "@jupyter-widgets/controls",
      "_model_module_version": "1.5.0",
      "_model_name": "HTMLModel",
      "_view_count": null,
      "_view_module": "@jupyter-widgets/controls",
      "_view_module_version": "1.5.0",
      "_view_name": "HTMLView",
      "description": "",
      "description_tooltip": null,
      "layout": "IPY_MODEL_1600f9fd29434a4d9a7b6cce6ecbebf2",
      "placeholder": "​",
      "style": "IPY_MODEL_a906e6a1bf744fde80918275c181d234",
      "value": "Downloading (…)lve/main/config.json: 100%"
     }
    },
    "7c088af5e95645cd9ff45d84c390d669": {
     "model_module": "@jupyter-widgets/base",
     "model_module_version": "1.2.0",
     "model_name": "LayoutModel",
     "state": {
      "_model_module": "@jupyter-widgets/base",
      "_model_module_version": "1.2.0",
      "_model_name": "LayoutModel",
      "_view_count": null,
      "_view_module": "@jupyter-widgets/base",
      "_view_module_version": "1.2.0",
      "_view_name": "LayoutView",
      "align_content": null,
      "align_items": null,
      "align_self": null,
      "border": null,
      "bottom": null,
      "display": null,
      "flex": null,
      "flex_flow": null,
      "grid_area": null,
      "grid_auto_columns": null,
      "grid_auto_flow": null,
      "grid_auto_rows": null,
      "grid_column": null,
      "grid_gap": null,
      "grid_row": null,
      "grid_template_areas": null,
      "grid_template_columns": null,
      "grid_template_rows": null,
      "height": null,
      "justify_content": null,
      "justify_items": null,
      "left": null,
      "margin": null,
      "max_height": null,
      "max_width": null,
      "min_height": null,
      "min_width": null,
      "object_fit": null,
      "object_position": null,
      "order": null,
      "overflow": null,
      "overflow_x": null,
      "overflow_y": null,
      "padding": null,
      "right": null,
      "top": null,
      "visibility": null,
      "width": null
     }
    },
    "81d0cdbae835497b9a4eb3ba486c509f": {
     "model_module": "@jupyter-widgets/controls",
     "model_module_version": "1.5.0",
     "model_name": "HTMLModel",
     "state": {
      "_dom_classes": [],
      "_model_module": "@jupyter-widgets/controls",
      "_model_module_version": "1.5.0",
      "_model_name": "HTMLModel",
      "_view_count": null,
      "_view_module": "@jupyter-widgets/controls",
      "_view_module_version": "1.5.0",
      "_view_name": "HTMLView",
      "description": "",
      "description_tooltip": null,
      "layout": "IPY_MODEL_7c088af5e95645cd9ff45d84c390d669",
      "placeholder": "​",
      "style": "IPY_MODEL_6a87bd9463bf40799b445bbb3a8cfd3f",
      "value": " 440M/440M [00:01&lt;00:00, 421MB/s]"
     }
    },
    "87856bacd6c345a2967fa6555421cab6": {
     "model_module": "@jupyter-widgets/controls",
     "model_module_version": "1.5.0",
     "model_name": "FloatProgressModel",
     "state": {
      "_dom_classes": [],
      "_model_module": "@jupyter-widgets/controls",
      "_model_module_version": "1.5.0",
      "_model_name": "FloatProgressModel",
      "_view_count": null,
      "_view_module": "@jupyter-widgets/controls",
      "_view_module_version": "1.5.0",
      "_view_name": "ProgressView",
      "bar_style": "success",
      "description": "",
      "description_tooltip": null,
      "layout": "IPY_MODEL_8e938d49710d46c3b387b1f25e91c64b",
      "max": 28,
      "min": 0,
      "orientation": "horizontal",
      "style": "IPY_MODEL_915149daada14a15b942fa97cbf33fc5",
      "value": 28
     }
    },
    "8e938d49710d46c3b387b1f25e91c64b": {
     "model_module": "@jupyter-widgets/base",
     "model_module_version": "1.2.0",
     "model_name": "LayoutModel",
     "state": {
      "_model_module": "@jupyter-widgets/base",
      "_model_module_version": "1.2.0",
      "_model_name": "LayoutModel",
      "_view_count": null,
      "_view_module": "@jupyter-widgets/base",
      "_view_module_version": "1.2.0",
      "_view_name": "LayoutView",
      "align_content": null,
      "align_items": null,
      "align_self": null,
      "border": null,
      "bottom": null,
      "display": null,
      "flex": null,
      "flex_flow": null,
      "grid_area": null,
      "grid_auto_columns": null,
      "grid_auto_flow": null,
      "grid_auto_rows": null,
      "grid_column": null,
      "grid_gap": null,
      "grid_row": null,
      "grid_template_areas": null,
      "grid_template_columns": null,
      "grid_template_rows": null,
      "height": null,
      "justify_content": null,
      "justify_items": null,
      "left": null,
      "margin": null,
      "max_height": null,
      "max_width": null,
      "min_height": null,
      "min_width": null,
      "object_fit": null,
      "object_position": null,
      "order": null,
      "overflow": null,
      "overflow_x": null,
      "overflow_y": null,
      "padding": null,
      "right": null,
      "top": null,
      "visibility": null,
      "width": null
     }
    },
    "915149daada14a15b942fa97cbf33fc5": {
     "model_module": "@jupyter-widgets/controls",
     "model_module_version": "1.5.0",
     "model_name": "ProgressStyleModel",
     "state": {
      "_model_module": "@jupyter-widgets/controls",
      "_model_module_version": "1.5.0",
      "_model_name": "ProgressStyleModel",
      "_view_count": null,
      "_view_module": "@jupyter-widgets/base",
      "_view_module_version": "1.2.0",
      "_view_name": "StyleView",
      "bar_color": null,
      "description_width": ""
     }
    },
    "9728f342ee484390b96e990b36c606a8": {
     "model_module": "@jupyter-widgets/base",
     "model_module_version": "1.2.0",
     "model_name": "LayoutModel",
     "state": {
      "_model_module": "@jupyter-widgets/base",
      "_model_module_version": "1.2.0",
      "_model_name": "LayoutModel",
      "_view_count": null,
      "_view_module": "@jupyter-widgets/base",
      "_view_module_version": "1.2.0",
      "_view_name": "LayoutView",
      "align_content": null,
      "align_items": null,
      "align_self": null,
      "border": null,
      "bottom": null,
      "display": null,
      "flex": null,
      "flex_flow": null,
      "grid_area": null,
      "grid_auto_columns": null,
      "grid_auto_flow": null,
      "grid_auto_rows": null,
      "grid_column": null,
      "grid_gap": null,
      "grid_row": null,
      "grid_template_areas": null,
      "grid_template_columns": null,
      "grid_template_rows": null,
      "height": null,
      "justify_content": null,
      "justify_items": null,
      "left": null,
      "margin": null,
      "max_height": null,
      "max_width": null,
      "min_height": null,
      "min_width": null,
      "object_fit": null,
      "object_position": null,
      "order": null,
      "overflow": null,
      "overflow_x": null,
      "overflow_y": null,
      "padding": null,
      "right": null,
      "top": null,
      "visibility": null,
      "width": null
     }
    },
    "97cdb585c0424668a0d0e3041449551e": {
     "model_module": "@jupyter-widgets/controls",
     "model_module_version": "1.5.0",
     "model_name": "HTMLModel",
     "state": {
      "_dom_classes": [],
      "_model_module": "@jupyter-widgets/controls",
      "_model_module_version": "1.5.0",
      "_model_name": "HTMLModel",
      "_view_count": null,
      "_view_module": "@jupyter-widgets/controls",
      "_view_module_version": "1.5.0",
      "_view_name": "HTMLView",
      "description": "",
      "description_tooltip": null,
      "layout": "IPY_MODEL_9728f342ee484390b96e990b36c606a8",
      "placeholder": "​",
      "style": "IPY_MODEL_ed1335b106114dcc86db780744d5f46a",
      "value": "Downloading (…)solve/main/vocab.txt: 100%"
     }
    },
    "9b698c03db8341f085e8943be4d6cc11": {
     "model_module": "@jupyter-widgets/controls",
     "model_module_version": "1.5.0",
     "model_name": "DescriptionStyleModel",
     "state": {
      "_model_module": "@jupyter-widgets/controls",
      "_model_module_version": "1.5.0",
      "_model_name": "DescriptionStyleModel",
      "_view_count": null,
      "_view_module": "@jupyter-widgets/base",
      "_view_module_version": "1.2.0",
      "_view_name": "StyleView",
      "description_width": ""
     }
    },
    "9b935c4775bc4c238b9315ae2ee2d0b3": {
     "model_module": "@jupyter-widgets/controls",
     "model_module_version": "1.5.0",
     "model_name": "DescriptionStyleModel",
     "state": {
      "_model_module": "@jupyter-widgets/controls",
      "_model_module_version": "1.5.0",
      "_model_name": "DescriptionStyleModel",
      "_view_count": null,
      "_view_module": "@jupyter-widgets/base",
      "_view_module_version": "1.2.0",
      "_view_name": "StyleView",
      "description_width": ""
     }
    },
    "a81c199f24f447c587ef36b2f70fba24": {
     "model_module": "@jupyter-widgets/controls",
     "model_module_version": "1.5.0",
     "model_name": "HTMLModel",
     "state": {
      "_dom_classes": [],
      "_model_module": "@jupyter-widgets/controls",
      "_model_module_version": "1.5.0",
      "_model_name": "HTMLModel",
      "_view_count": null,
      "_view_module": "@jupyter-widgets/controls",
      "_view_module_version": "1.5.0",
      "_view_name": "HTMLView",
      "description": "",
      "description_tooltip": null,
      "layout": "IPY_MODEL_d32f10792d064f5c8f0e941b5f053863",
      "placeholder": "​",
      "style": "IPY_MODEL_d2b85843d916450e913b563a49b73d42",
      "value": " 28.0/28.0 [00:00&lt;00:00, 2.16kB/s]"
     }
    },
    "a906e6a1bf744fde80918275c181d234": {
     "model_module": "@jupyter-widgets/controls",
     "model_module_version": "1.5.0",
     "model_name": "DescriptionStyleModel",
     "state": {
      "_model_module": "@jupyter-widgets/controls",
      "_model_module_version": "1.5.0",
      "_model_name": "DescriptionStyleModel",
      "_view_count": null,
      "_view_module": "@jupyter-widgets/base",
      "_view_module_version": "1.2.0",
      "_view_name": "StyleView",
      "description_width": ""
     }
    },
    "aa3dca4691a54b8a92cfa756772a362c": {
     "model_module": "@jupyter-widgets/base",
     "model_module_version": "1.2.0",
     "model_name": "LayoutModel",
     "state": {
      "_model_module": "@jupyter-widgets/base",
      "_model_module_version": "1.2.0",
      "_model_name": "LayoutModel",
      "_view_count": null,
      "_view_module": "@jupyter-widgets/base",
      "_view_module_version": "1.2.0",
      "_view_name": "LayoutView",
      "align_content": null,
      "align_items": null,
      "align_self": null,
      "border": null,
      "bottom": null,
      "display": null,
      "flex": null,
      "flex_flow": null,
      "grid_area": null,
      "grid_auto_columns": null,
      "grid_auto_flow": null,
      "grid_auto_rows": null,
      "grid_column": null,
      "grid_gap": null,
      "grid_row": null,
      "grid_template_areas": null,
      "grid_template_columns": null,
      "grid_template_rows": null,
      "height": null,
      "justify_content": null,
      "justify_items": null,
      "left": null,
      "margin": null,
      "max_height": null,
      "max_width": null,
      "min_height": null,
      "min_width": null,
      "object_fit": null,
      "object_position": null,
      "order": null,
      "overflow": null,
      "overflow_x": null,
      "overflow_y": null,
      "padding": null,
      "right": null,
      "top": null,
      "visibility": null,
      "width": null
     }
    },
    "d21891c68586466987f74e59cd6b5f63": {
     "model_module": "@jupyter-widgets/base",
     "model_module_version": "1.2.0",
     "model_name": "LayoutModel",
     "state": {
      "_model_module": "@jupyter-widgets/base",
      "_model_module_version": "1.2.0",
      "_model_name": "LayoutModel",
      "_view_count": null,
      "_view_module": "@jupyter-widgets/base",
      "_view_module_version": "1.2.0",
      "_view_name": "LayoutView",
      "align_content": null,
      "align_items": null,
      "align_self": null,
      "border": null,
      "bottom": null,
      "display": null,
      "flex": null,
      "flex_flow": null,
      "grid_area": null,
      "grid_auto_columns": null,
      "grid_auto_flow": null,
      "grid_auto_rows": null,
      "grid_column": null,
      "grid_gap": null,
      "grid_row": null,
      "grid_template_areas": null,
      "grid_template_columns": null,
      "grid_template_rows": null,
      "height": null,
      "justify_content": null,
      "justify_items": null,
      "left": null,
      "margin": null,
      "max_height": null,
      "max_width": null,
      "min_height": null,
      "min_width": null,
      "object_fit": null,
      "object_position": null,
      "order": null,
      "overflow": null,
      "overflow_x": null,
      "overflow_y": null,
      "padding": null,
      "right": null,
      "top": null,
      "visibility": null,
      "width": null
     }
    },
    "d2b85843d916450e913b563a49b73d42": {
     "model_module": "@jupyter-widgets/controls",
     "model_module_version": "1.5.0",
     "model_name": "DescriptionStyleModel",
     "state": {
      "_model_module": "@jupyter-widgets/controls",
      "_model_module_version": "1.5.0",
      "_model_name": "DescriptionStyleModel",
      "_view_count": null,
      "_view_module": "@jupyter-widgets/base",
      "_view_module_version": "1.2.0",
      "_view_name": "StyleView",
      "description_width": ""
     }
    },
    "d32f10792d064f5c8f0e941b5f053863": {
     "model_module": "@jupyter-widgets/base",
     "model_module_version": "1.2.0",
     "model_name": "LayoutModel",
     "state": {
      "_model_module": "@jupyter-widgets/base",
      "_model_module_version": "1.2.0",
      "_model_name": "LayoutModel",
      "_view_count": null,
      "_view_module": "@jupyter-widgets/base",
      "_view_module_version": "1.2.0",
      "_view_name": "LayoutView",
      "align_content": null,
      "align_items": null,
      "align_self": null,
      "border": null,
      "bottom": null,
      "display": null,
      "flex": null,
      "flex_flow": null,
      "grid_area": null,
      "grid_auto_columns": null,
      "grid_auto_flow": null,
      "grid_auto_rows": null,
      "grid_column": null,
      "grid_gap": null,
      "grid_row": null,
      "grid_template_areas": null,
      "grid_template_columns": null,
      "grid_template_rows": null,
      "height": null,
      "justify_content": null,
      "justify_items": null,
      "left": null,
      "margin": null,
      "max_height": null,
      "max_width": null,
      "min_height": null,
      "min_width": null,
      "object_fit": null,
      "object_position": null,
      "order": null,
      "overflow": null,
      "overflow_x": null,
      "overflow_y": null,
      "padding": null,
      "right": null,
      "top": null,
      "visibility": null,
      "width": null
     }
    },
    "d96a97d003f54fbb8f4c3505e5b25a59": {
     "model_module": "@jupyter-widgets/controls",
     "model_module_version": "1.5.0",
     "model_name": "HTMLModel",
     "state": {
      "_dom_classes": [],
      "_model_module": "@jupyter-widgets/controls",
      "_model_module_version": "1.5.0",
      "_model_name": "HTMLModel",
      "_view_count": null,
      "_view_module": "@jupyter-widgets/controls",
      "_view_module_version": "1.5.0",
      "_view_name": "HTMLView",
      "description": "",
      "description_tooltip": null,
      "layout": "IPY_MODEL_645072a199a34adc9c9f828ac1f3eb88",
      "placeholder": "​",
      "style": "IPY_MODEL_33ce6bb087394f2d8a42611d84a1cea2",
      "value": "Downloading (…)okenizer_config.json: 100%"
     }
    },
    "d97a69e4a828426a91adfb50b8633ac9": {
     "model_module": "@jupyter-widgets/controls",
     "model_module_version": "1.5.0",
     "model_name": "HBoxModel",
     "state": {
      "_dom_classes": [],
      "_model_module": "@jupyter-widgets/controls",
      "_model_module_version": "1.5.0",
      "_model_name": "HBoxModel",
      "_view_count": null,
      "_view_module": "@jupyter-widgets/controls",
      "_view_module_version": "1.5.0",
      "_view_name": "HBoxView",
      "box_style": "",
      "children": [
       "IPY_MODEL_7ac697ed62934d039cf85f5ab942c5f7",
       "IPY_MODEL_369d1054dbce43caaed553f8e305624d",
       "IPY_MODEL_2e1e364cbcf6489fb66510dd5f9ed529"
      ],
      "layout": "IPY_MODEL_d21891c68586466987f74e59cd6b5f63"
     }
    },
    "db7ea251b79348e08ca0933079f03274": {
     "model_module": "@jupyter-widgets/controls",
     "model_module_version": "1.5.0",
     "model_name": "HBoxModel",
     "state": {
      "_dom_classes": [],
      "_model_module": "@jupyter-widgets/controls",
      "_model_module_version": "1.5.0",
      "_model_name": "HBoxModel",
      "_view_count": null,
      "_view_module": "@jupyter-widgets/controls",
      "_view_module_version": "1.5.0",
      "_view_name": "HBoxView",
      "box_style": "",
      "children": [
       "IPY_MODEL_d96a97d003f54fbb8f4c3505e5b25a59",
       "IPY_MODEL_87856bacd6c345a2967fa6555421cab6",
       "IPY_MODEL_a81c199f24f447c587ef36b2f70fba24"
      ],
      "layout": "IPY_MODEL_3826882c39194362a4fdd567cbd05d14"
     }
    },
    "e2b44f83afa844f9846b7b435c866777": {
     "model_module": "@jupyter-widgets/controls",
     "model_module_version": "1.5.0",
     "model_name": "HTMLModel",
     "state": {
      "_dom_classes": [],
      "_model_module": "@jupyter-widgets/controls",
      "_model_module_version": "1.5.0",
      "_model_name": "HTMLModel",
      "_view_count": null,
      "_view_module": "@jupyter-widgets/controls",
      "_view_module_version": "1.5.0",
      "_view_name": "HTMLView",
      "description": "",
      "description_tooltip": null,
      "layout": "IPY_MODEL_3820324ab3a0452bb34b3bec848df63e",
      "placeholder": "​",
      "style": "IPY_MODEL_f3b780cf635d4116a5fdfb565798b335",
      "value": "Downloading pytorch_model.bin: 100%"
     }
    },
    "eb38bf8d0d934a76b9debc161dad0d5c": {
     "model_module": "@jupyter-widgets/base",
     "model_module_version": "1.2.0",
     "model_name": "LayoutModel",
     "state": {
      "_model_module": "@jupyter-widgets/base",
      "_model_module_version": "1.2.0",
      "_model_name": "LayoutModel",
      "_view_count": null,
      "_view_module": "@jupyter-widgets/base",
      "_view_module_version": "1.2.0",
      "_view_name": "LayoutView",
      "align_content": null,
      "align_items": null,
      "align_self": null,
      "border": null,
      "bottom": null,
      "display": null,
      "flex": null,
      "flex_flow": null,
      "grid_area": null,
      "grid_auto_columns": null,
      "grid_auto_flow": null,
      "grid_auto_rows": null,
      "grid_column": null,
      "grid_gap": null,
      "grid_row": null,
      "grid_template_areas": null,
      "grid_template_columns": null,
      "grid_template_rows": null,
      "height": null,
      "justify_content": null,
      "justify_items": null,
      "left": null,
      "margin": null,
      "max_height": null,
      "max_width": null,
      "min_height": null,
      "min_width": null,
      "object_fit": null,
      "object_position": null,
      "order": null,
      "overflow": null,
      "overflow_x": null,
      "overflow_y": null,
      "padding": null,
      "right": null,
      "top": null,
      "visibility": null,
      "width": null
     }
    },
    "ed1335b106114dcc86db780744d5f46a": {
     "model_module": "@jupyter-widgets/controls",
     "model_module_version": "1.5.0",
     "model_name": "DescriptionStyleModel",
     "state": {
      "_model_module": "@jupyter-widgets/controls",
      "_model_module_version": "1.5.0",
      "_model_name": "DescriptionStyleModel",
      "_view_count": null,
      "_view_module": "@jupyter-widgets/base",
      "_view_module_version": "1.2.0",
      "_view_name": "StyleView",
      "description_width": ""
     }
    },
    "efaba64283714f4d804dd5fe2b895ecf": {
     "model_module": "@jupyter-widgets/controls",
     "model_module_version": "1.5.0",
     "model_name": "FloatProgressModel",
     "state": {
      "_dom_classes": [],
      "_model_module": "@jupyter-widgets/controls",
      "_model_module_version": "1.5.0",
      "_model_name": "FloatProgressModel",
      "_view_count": null,
      "_view_module": "@jupyter-widgets/controls",
      "_view_module_version": "1.5.0",
      "_view_name": "ProgressView",
      "bar_style": "success",
      "description": "",
      "description_tooltip": null,
      "layout": "IPY_MODEL_aa3dca4691a54b8a92cfa756772a362c",
      "max": 231508,
      "min": 0,
      "orientation": "horizontal",
      "style": "IPY_MODEL_ff1790fbc1914d1f9beb54121a17d8f0",
      "value": 231508
     }
    },
    "f166d68600f543ec9ec83c539da59c42": {
     "model_module": "@jupyter-widgets/base",
     "model_module_version": "1.2.0",
     "model_name": "LayoutModel",
     "state": {
      "_model_module": "@jupyter-widgets/base",
      "_model_module_version": "1.2.0",
      "_model_name": "LayoutModel",
      "_view_count": null,
      "_view_module": "@jupyter-widgets/base",
      "_view_module_version": "1.2.0",
      "_view_name": "LayoutView",
      "align_content": null,
      "align_items": null,
      "align_self": null,
      "border": null,
      "bottom": null,
      "display": null,
      "flex": null,
      "flex_flow": null,
      "grid_area": null,
      "grid_auto_columns": null,
      "grid_auto_flow": null,
      "grid_auto_rows": null,
      "grid_column": null,
      "grid_gap": null,
      "grid_row": null,
      "grid_template_areas": null,
      "grid_template_columns": null,
      "grid_template_rows": null,
      "height": null,
      "justify_content": null,
      "justify_items": null,
      "left": null,
      "margin": null,
      "max_height": null,
      "max_width": null,
      "min_height": null,
      "min_width": null,
      "object_fit": null,
      "object_position": null,
      "order": null,
      "overflow": null,
      "overflow_x": null,
      "overflow_y": null,
      "padding": null,
      "right": null,
      "top": null,
      "visibility": null,
      "width": null
     }
    },
    "f1f33012b5a34cfd8209ecc1d73e3359": {
     "model_module": "@jupyter-widgets/controls",
     "model_module_version": "1.5.0",
     "model_name": "HTMLModel",
     "state": {
      "_dom_classes": [],
      "_model_module": "@jupyter-widgets/controls",
      "_model_module_version": "1.5.0",
      "_model_name": "HTMLModel",
      "_view_count": null,
      "_view_module": "@jupyter-widgets/controls",
      "_view_module_version": "1.5.0",
      "_view_name": "HTMLView",
      "description": "",
      "description_tooltip": null,
      "layout": "IPY_MODEL_769b0a88c3944ab28225c461618d55ba",
      "placeholder": "​",
      "style": "IPY_MODEL_9b698c03db8341f085e8943be4d6cc11",
      "value": " 232k/232k [00:00&lt;00:00, 531kB/s]"
     }
    },
    "f3875e35840945b9a481147ff5acd521": {
     "model_module": "@jupyter-widgets/controls",
     "model_module_version": "1.5.0",
     "model_name": "ProgressStyleModel",
     "state": {
      "_model_module": "@jupyter-widgets/controls",
      "_model_module_version": "1.5.0",
      "_model_name": "ProgressStyleModel",
      "_view_count": null,
      "_view_module": "@jupyter-widgets/base",
      "_view_module_version": "1.2.0",
      "_view_name": "StyleView",
      "bar_color": null,
      "description_width": ""
     }
    },
    "f3b780cf635d4116a5fdfb565798b335": {
     "model_module": "@jupyter-widgets/controls",
     "model_module_version": "1.5.0",
     "model_name": "DescriptionStyleModel",
     "state": {
      "_model_module": "@jupyter-widgets/controls",
      "_model_module_version": "1.5.0",
      "_model_name": "DescriptionStyleModel",
      "_view_count": null,
      "_view_module": "@jupyter-widgets/base",
      "_view_module_version": "1.2.0",
      "_view_name": "StyleView",
      "description_width": ""
     }
    },
    "ff1790fbc1914d1f9beb54121a17d8f0": {
     "model_module": "@jupyter-widgets/controls",
     "model_module_version": "1.5.0",
     "model_name": "ProgressStyleModel",
     "state": {
      "_model_module": "@jupyter-widgets/controls",
      "_model_module_version": "1.5.0",
      "_model_name": "ProgressStyleModel",
      "_view_count": null,
      "_view_module": "@jupyter-widgets/base",
      "_view_module_version": "1.2.0",
      "_view_name": "StyleView",
      "bar_color": null,
      "description_width": ""
     }
    }
   }
  }
 },
 "nbformat": 4,
 "nbformat_minor": 5
}
