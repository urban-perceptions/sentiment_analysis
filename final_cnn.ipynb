{
 "cells": [
  {
   "cell_type": "markdown",
   "id": "dfa53206",
   "metadata": {},
   "source": [
    "## CNN Sentiment Classifier"
   ]
  },
  {
   "cell_type": "code",
   "execution_count": 1,
   "id": "4b22bec0",
   "metadata": {},
   "outputs": [],
   "source": [
    "import pandas as pd\n",
    "import numpy as np\n",
    "import torch\n",
    "import torchtext\n",
    "import torchdata\n",
    "import portalocker\n",
    "from wordsegment import load, segment\n",
    "from torchtext.data.utils import get_tokenizer\n",
    "from torchtext.vocab import build_vocab_from_iterator\n",
    "\n",
    "tokenizer = get_tokenizer('basic_english')\n",
    "from itertools import combinations\n",
    "from torchtext.vocab import GloVe\n",
    "from sklearn.model_selection import train_test_split\n",
    "\n",
    "torch.manual_seed(0)\n",
    "SEED = 313"
   ]
  },
  {
   "cell_type": "code",
   "execution_count": 3,
   "id": "01a2bc48",
   "metadata": {},
   "outputs": [],
   "source": [
    "MAX_LENGTH = 40"
   ]
  },
  {
   "cell_type": "markdown",
   "id": "9ca221b5",
   "metadata": {},
   "source": [
    "# CNN Model\n",
    "\n",
    "This code is mainly from this source, with minor adaptations: https://colab.research.google.com/drive/1b7aZamr065WPuLpq9C4RU6irB59gbX_K#scrollTo=nU-FMtOYMx3F\n",
    "\n",
    "This CNN is based on the methodology from the paper: Convolutional Neural Networks for Sentence Classification (Kim, 2014). \n",
    "\n",
    "Model Architecture: \n",
    "\n",
    "\n",
    "- input word vectors: \tfastText\n",
    "\n",
    "- embedding size:\t300\n",
    "\n",
    "- filter sizes:\t(3, 4, 5)\n",
    "\n",
    "- num filters:\t(100, 100, 100)\n",
    "\n",
    "- activation\tReLU\n",
    "\n",
    "- pooling:\t1-max pooling\n",
    "\n",
    "- dropout rate:\t0.5\n"
   ]
  },
  {
   "cell_type": "code",
   "execution_count": 4,
   "id": "4aa57212",
   "metadata": {},
   "outputs": [],
   "source": [
    "#from nltk.tokenize import word_tokenize\n",
    "from collections import defaultdict\n",
    "\n",
    "def tokenize(texts):\n",
    "    \"\"\"Tokenize texts, build vocabulary and find maximum sentence length.\n",
    "    \n",
    "    Args:\n",
    "        texts (List[str]): List of text data\n",
    "    \n",
    "    Returns:\n",
    "        tokenized_texts (List[List[str]]): List of list of tokens\n",
    "        word2idx (Dict): Vocabulary built from the corpus\n",
    "        max_len (int): Maximum sentence length\n",
    "    \"\"\"\n",
    "\n",
    "    max_len = 0\n",
    "    tokenized_texts = []\n",
    "    word2idx = {}\n",
    "\n",
    "    # Add <pad> and <unk> tokens to the vocabulary\n",
    "    word2idx['<pad>'] = 0\n",
    "    word2idx['<unk>'] = 1\n",
    "\n",
    "    # Building our vocab from the corpus starting from index 2\n",
    "    idx = 2\n",
    "    for sent in texts:\n",
    "        tokenized_sent = tokenizer(sent)\n",
    "\n",
    "        # Add `tokenized_sent` to `tokenized_texts`\n",
    "        tokenized_texts.append(tokenized_sent)\n",
    "\n",
    "        # Add new token to `word2idx`\n",
    "        for token in tokenized_sent:\n",
    "            if token not in word2idx:\n",
    "                word2idx[token] = idx\n",
    "                idx += 1\n",
    "\n",
    "        # Update `max_len`\n",
    "        max_len = max(max_len, len(tokenized_sent))\n",
    "\n",
    "    return tokenized_texts, word2idx, max_len\n",
    "\n",
    "def encode(tokenized_texts, word2idx, max_len):\n",
    "    \"\"\"Pad each sentence to the maximum sentence length and encode tokens to\n",
    "    their index in the vocabulary.\n",
    "\n",
    "    Returns:\n",
    "        input_ids (np.array): Array of token indexes in the vocabulary with\n",
    "            shape (N, max_len). It will the input of our CNN model.\n",
    "    \"\"\"\n",
    "\n",
    "    input_ids = []\n",
    "    for tokenized_sent in tokenized_texts:\n",
    "        # Pad sentences to max_len\n",
    "        tokenized_sent += ['<pad>'] * (max_len - len(tokenized_sent))\n",
    "\n",
    "        # Encode tokens to input_ids\n",
    "        input_id = [word2idx.get(token) for token in tokenized_sent]\n",
    "        input_ids.append(input_id)\n",
    "    \n",
    "    return np.array(input_ids)"
   ]
  },
  {
   "cell_type": "code",
   "execution_count": 5,
   "id": "8c87190e",
   "metadata": {},
   "outputs": [],
   "source": [
    "tweets = pd.read_csv(\"tweet_eval_clean.csv\")\n",
    "tweets.dropna(inplace=True, subset=['text_clean'])\n",
    "#tweets['word_counts'] = tweets.text_clean.str.split().map(len)\n",
    "#tweets['text_clean'].replace('\\d+', '', regex=True, inplace=True)\n",
    "#tweets['label'] = 0\n",
    "#tweets.loc[(tweets.loc[:, \"sentiment\"] == 'positive'), 'label'] = 2\n",
    "#tweets.loc[(tweets.loc[:, \"sentiment\"] == 'neutral'), 'label'] = 1\n",
    "MAX_LENGTH = 40"
   ]
  },
  {
   "cell_type": "code",
   "execution_count": 6,
   "id": "6005bb04",
   "metadata": {},
   "outputs": [],
   "source": [
    "text_inputs = tweets[\"text_clean\"]\n",
    "text_labels = list(tweets[\"label\"])"
   ]
  },
  {
   "cell_type": "code",
   "execution_count": 7,
   "id": "9157883d",
   "metadata": {},
   "outputs": [],
   "source": [
    "tokenized_texts, word2idx, max_len = tokenize(text_inputs)\n",
    "input_ids = encode(tokenized_texts, word2idx, max_len)"
   ]
  },
  {
   "cell_type": "code",
   "execution_count": 8,
   "id": "792c0418",
   "metadata": {},
   "outputs": [],
   "source": [
    "from tqdm import tqdm_notebook\n",
    "\n",
    "def load_pretrained_vectors(word2idx, fname):\n",
    "    \"\"\"Load pretrained vectors and create embedding layers.\n",
    "    \n",
    "    Args:\n",
    "        word2idx (Dict): Vocabulary built from the corpus\n",
    "        fname (str): Path to pretrained vector file\n",
    "\n",
    "    Returns:\n",
    "        embeddings (np.array): Embedding matrix with shape (N, d) where N is\n",
    "            the size of word2idx and d is embedding dimension\n",
    "    \"\"\"\n",
    "\n",
    "    print(\"Loading pretrained vectors...\")\n",
    "    fin = open(fname, 'r', encoding='utf-8', newline='\\n', errors='ignore')\n",
    "    n, d = map(int, fin.readline().split())\n",
    "\n",
    "    # Initilize random embeddings\n",
    "    embeddings = np.random.uniform(-0.25, 0.25, (len(word2idx), d))\n",
    "    embeddings[word2idx['<pad>']] = np.zeros((d,))\n",
    "\n",
    "    # Load pretrained vectors\n",
    "    count = 0\n",
    "    for line in tqdm_notebook(fin):\n",
    "        tokens = line.rstrip().split(' ')\n",
    "        word = tokens[0]\n",
    "        if word in word2idx:\n",
    "            count += 1\n",
    "            embeddings[word2idx[word]] = np.array(tokens[1:], dtype=np.float32)\n",
    "\n",
    "    print(f\"There are {count} / {len(word2idx)} pretrained vectors found.\")\n",
    "\n",
    "    return embeddings"
   ]
  },
  {
   "cell_type": "code",
   "execution_count": 141,
   "id": "829921a1",
   "metadata": {},
   "outputs": [
    {
     "name": "stdout",
     "output_type": "stream",
     "text": [
      "Loading pretrained vectors...\n"
     ]
    },
    {
     "name": "stderr",
     "output_type": "stream",
     "text": [
      "/var/folders/8r/33488zyj26x492g8pxrnm_jh0000gn/T/ipykernel_19786/3358469232.py:25: TqdmDeprecationWarning: This function will be removed in tqdm==5.0.0\n",
      "Please use `tqdm.notebook.tqdm` instead of `tqdm.tqdm_notebook`\n",
      "  for line in tqdm_notebook(fin):\n"
     ]
    },
    {
     "data": {
      "application/vnd.jupyter.widget-view+json": {
       "model_id": "c98fe8430ded44fca9bed013aae1b2d6",
       "version_major": 2,
       "version_minor": 0
      },
      "text/plain": [
       "0it [00:00, ?it/s]"
      ]
     },
     "metadata": {},
     "output_type": "display_data"
    },
    {
     "name": "stdout",
     "output_type": "stream",
     "text": [
      "There are 37993 / 46511 pretrained vectors found.\n"
     ]
    }
   ],
   "source": [
    "embeddings = load_pretrained_vectors(word2idx, \"crawl-300d-2M.vec\")\n",
    "embeddings = torch.tensor(embeddings)"
   ]
  },
  {
   "cell_type": "code",
   "execution_count": 18,
   "id": "301c2fa7",
   "metadata": {},
   "outputs": [],
   "source": [
    "from torch.utils.data import DataLoader, TensorDataset, RandomSampler, SequentialSampler\n",
    "\n",
    "def data_loader(train_inputs, val_inputs, train_labels, val_labels,\n",
    "                batch_size=50):\n",
    "    \"\"\"Convert train and validation sets to torch.Tensors and load them to\n",
    "    DataLoader.\n",
    "    \"\"\"\n",
    "\n",
    "    # Convert data type to torch.Tensor\n",
    "    train_inputs, val_inputs, train_labels, val_labels =\\\n",
    "    tuple(torch.tensor(data) for data in\n",
    "          [train_inputs, val_inputs, train_labels, val_labels])\n",
    "\n",
    "    # Specify batch_size\n",
    "    batch_size = 50\n",
    "\n",
    "    # Create DataLoader for training data\n",
    "    train_data = TensorDataset(train_inputs, train_labels)\n",
    "    train_sampler = RandomSampler(train_data)\n",
    "    train_dataloader = DataLoader(train_data, sampler=train_sampler, batch_size=batch_size)\n",
    "\n",
    "    # Create DataLoader for validation data\n",
    "    val_data = TensorDataset(val_inputs, val_labels)\n",
    "    val_sampler = SequentialSampler(val_data)\n",
    "    val_dataloader = DataLoader(val_data, sampler=val_sampler, batch_size=batch_size)\n",
    "\n",
    "    return train_dataloader, val_dataloader"
   ]
  },
  {
   "cell_type": "code",
   "execution_count": 19,
   "id": "8afe2619",
   "metadata": {},
   "outputs": [],
   "source": [
    "from sklearn.model_selection import train_test_split\n",
    "\n",
    "# Train Test Split\n",
    "train_inputs, val_inputs, train_labels, val_labels = train_test_split(\n",
    "    input_ids, text_labels, test_size=0.1, random_state=42)\n"
   ]
  },
  {
   "cell_type": "code",
   "execution_count": 20,
   "id": "9f849c3a",
   "metadata": {},
   "outputs": [],
   "source": [
    "train_dataloader, val_dataloader = data_loader(train_inputs, val_inputs, train_labels, val_labels, batch_size=50)"
   ]
  },
  {
   "cell_type": "code",
   "execution_count": 21,
   "id": "06e238de",
   "metadata": {},
   "outputs": [],
   "source": [
    "import torch\n",
    "import torch.nn as nn\n",
    "import torch.nn.functional as F\n",
    "\n",
    "class CNN_NLP(nn.Module):\n",
    "    \"\"\"An 1D Convulational Neural Network for Sentence Classification.\"\"\"\n",
    "    def __init__(self,\n",
    "                 pretrained_embedding=None,\n",
    "                 freeze_embedding=False,\n",
    "                 vocab_size=None,\n",
    "                 embed_dim=300,\n",
    "                 filter_sizes=[3, 4, 5],\n",
    "                 num_filters=[100, 100, 100],\n",
    "                 num_classes=3,\n",
    "                 dropout=0.5):\n",
    "        \"\"\"\n",
    "        The constructor for CNN_NLP class.\n",
    "\n",
    "        Args:\n",
    "            pretrained_embedding (torch.Tensor): Pretrained embeddings with\n",
    "                shape (vocab_size, embed_dim)\n",
    "            freeze_embedding (bool): Set to False to fine-tune pretraiend\n",
    "                vectors. Default: False\n",
    "            vocab_size (int): Need to be specified when not pretrained word\n",
    "                embeddings are not used.\n",
    "            embed_dim (int): Dimension of word vectors. Need to be specified\n",
    "                when pretrained word embeddings are not used. Default: 300\n",
    "            filter_sizes (List[int]): List of filter sizes. Default: [3, 4, 5]\n",
    "            num_filters (List[int]): List of number of filters, has the same\n",
    "                length as `filter_sizes`. Default: [100, 100, 100]\n",
    "            n_classes (int): Number of classes. Default: 2\n",
    "            dropout (float): Dropout rate. Default: 0.5\n",
    "        \"\"\"\n",
    "\n",
    "        super(CNN_NLP, self).__init__()\n",
    "        # Embedding layer\n",
    "        if pretrained_embedding is not None:\n",
    "            self.vocab_size, self.embed_dim = pretrained_embedding.shape\n",
    "            self.embedding = nn.Embedding.from_pretrained(pretrained_embedding,\n",
    "                                                          freeze=freeze_embedding)\n",
    "        else:\n",
    "            self.embed_dim = embed_dim\n",
    "            self.embedding = nn.Embedding(num_embeddings=vocab_size,\n",
    "                                          embedding_dim=self.embed_dim,\n",
    "                                          padding_idx=0,\n",
    "                                          max_norm=5.0)\n",
    "        # Conv Network\n",
    "        self.conv1d_list = nn.ModuleList([\n",
    "            nn.Conv1d(in_channels=self.embed_dim,\n",
    "                      out_channels=num_filters[i],\n",
    "                      kernel_size=filter_sizes[i])\n",
    "            for i in range(len(filter_sizes))\n",
    "        ])\n",
    "        # Fully-connected layer and Dropout\n",
    "        self.fc = nn.Linear(np.sum(num_filters), num_classes)\n",
    "        self.dropout = nn.Dropout(p=dropout)\n",
    "\n",
    "    def forward(self, input_ids):\n",
    "        \"\"\"Perform a forward pass through the network.\n",
    "\n",
    "        Args:\n",
    "            input_ids (torch.Tensor): A tensor of token ids with shape\n",
    "                (batch_size, max_sent_length)\n",
    "\n",
    "        Returns:\n",
    "            logits (torch.Tensor): Output logits with shape (batch_size,\n",
    "                n_classes)\n",
    "        \"\"\"\n",
    "\n",
    "        # Get embeddings from `input_ids`. Output shape: (b, max_len, embed_dim)\n",
    "        x_embed = self.embedding(input_ids).float()\n",
    "\n",
    "        # Permute `x_embed` to match input shape requirement of `nn.Conv1d`.\n",
    "        # Output shape: (b, embed_dim, max_len)\n",
    "        x_reshaped = x_embed.permute(0, 2, 1)\n",
    "\n",
    "        # Apply CNN and ReLU. Output shape: (b, num_filters[i], L_out)\n",
    "        x_conv_list = [F.relu(conv1d(x_reshaped)) for conv1d in self.conv1d_list]\n",
    "\n",
    "        # Max pooling. Output shape: (b, num_filters[i], 1)\n",
    "        x_pool_list = [F.max_pool1d(x_conv, kernel_size=x_conv.shape[2])\n",
    "            for x_conv in x_conv_list]\n",
    "        \n",
    "        # Concatenate x_pool_list to feed the fully connected layer.\n",
    "        # Output shape: (b, sum(num_filters))\n",
    "        x_fc = torch.cat([x_pool.squeeze(dim=2) for x_pool in x_pool_list],\n",
    "                         dim=1)\n",
    "        \n",
    "        # Compute logits. Output shape: (b, n_classes)\n",
    "        logits = self.fc(self.dropout(x_fc))\n",
    "\n",
    "        return logits"
   ]
  },
  {
   "cell_type": "code",
   "execution_count": 22,
   "id": "b3ce6992",
   "metadata": {},
   "outputs": [],
   "source": [
    "import torch.optim as optim\n",
    "\n",
    "def initilize_model(pretrained_embedding=None,\n",
    "                    freeze_embedding=False,\n",
    "                    vocab_size=None,\n",
    "                    embed_dim=300,\n",
    "                    filter_sizes=[3, 4, 5],\n",
    "                    num_filters=[100, 100, 100],\n",
    "                    num_classes=3,\n",
    "                    dropout=0.5,\n",
    "                    learning_rate=0.01):\n",
    "    \"\"\"Instantiate a CNN model and an optimizer.\"\"\"\n",
    "\n",
    "    assert (len(filter_sizes) == len(num_filters)), \"filter_sizes and \\\n",
    "    num_filters need to be of the same length.\"\n",
    "\n",
    "    # Instantiate CNN model\n",
    "    cnn_model = CNN_NLP(pretrained_embedding=pretrained_embedding,\n",
    "                        freeze_embedding=freeze_embedding,\n",
    "                        vocab_size=vocab_size,\n",
    "                        embed_dim=embed_dim,\n",
    "                        filter_sizes=filter_sizes,\n",
    "                        num_filters=num_filters,\n",
    "                        num_classes=3,\n",
    "                        dropout=0.5)\n",
    "    \n",
    "    # Send model to `device` (GPU/CPU)\n",
    "    cnn_model\n",
    "\n",
    "    # Instantiate Adadelta optimizer\n",
    "    optimizer = optim.Adadelta(cnn_model.parameters(),\n",
    "                               lr=learning_rate,\n",
    "                               rho=0.95)\n",
    "\n",
    "    return cnn_model, optimizer"
   ]
  },
  {
   "cell_type": "code",
   "execution_count": 23,
   "id": "50ac2145",
   "metadata": {},
   "outputs": [],
   "source": [
    "import random\n",
    "import time\n",
    "\n",
    "# Specify loss function\n",
    "loss_fn = nn.CrossEntropyLoss()\n",
    "\n",
    "def set_seed(seed_value=42):\n",
    "    \"\"\"Set seed for reproducibility.\"\"\"\n",
    "\n",
    "    random.seed(seed_value)\n",
    "    np.random.seed(seed_value)\n",
    "    torch.manual_seed(seed_value)\n",
    "    torch.cuda.manual_seed_all(seed_value)\n",
    "\n",
    "def train(model, optimizer, train_dataloader, val_dataloader=None, epochs=10):\n",
    "    \"\"\"Train the CNN model.\"\"\"\n",
    "    \n",
    "    # Tracking best validation accuracy\n",
    "    best_accuracy = 0\n",
    "    #train_accuracies = []\n",
    "    val_accuracies = []\n",
    "    train_accuracies = []\n",
    "\n",
    "    # Start training loop\n",
    "    print(\"Start training...\\n\")\n",
    "    print(f\"{'Epoch':^7} | {'Train Loss':^12} | {'Val Loss':^10} | {'Val Acc':^9} | {'Elapsed':^9}\")\n",
    "    print(\"-\"*60)\n",
    "\n",
    "    for epoch_i in range(epochs):\n",
    "        # =======================================\n",
    "        #               Training\n",
    "        # =======================================\n",
    "\n",
    "        # Tracking time and loss\n",
    "        t0_epoch = time.time()\n",
    "        total_loss = 0\n",
    "\n",
    "        # Put the model into the training mode\n",
    "        model.train()\n",
    "        loader_accuracy = []\n",
    "        for step, batch in enumerate(train_dataloader):\n",
    "            # Load batch to GPU\n",
    "            b_input_ids, b_labels = tuple(t for t in batch)\n",
    "\n",
    "            # Zero out any previously calculated gradients\n",
    "            model.zero_grad()\n",
    "\n",
    "            # Perform a forward pass. This will return logits.\n",
    "            logits = model(b_input_ids)\n",
    "            train_preds = torch.argmax(logits, dim=1).flatten()\n",
    "\n",
    "        # Calculate the accuracy rate\n",
    "            train_accuracy = (train_preds == b_labels).numpy().mean() * 100\n",
    "            loader_accuracy.append(train_accuracy)\n",
    "\n",
    "            # Compute loss and accumulate the loss values\n",
    "            loss = loss_fn(logits, b_labels)\n",
    "            total_loss += loss.item()\n",
    "\n",
    "            # Perform a backward pass to calculate gradients\n",
    "            loss.backward()\n",
    "\n",
    "            # Update parameters\n",
    "            optimizer.step()\n",
    "\n",
    "        # Calculate the average loss over the entire training data\n",
    "        avg_train_loss = total_loss / len(train_dataloader)\n",
    "        train_accuracies.append(np.mean(loader_accuracy))\n",
    "\n",
    "        # =======================================\n",
    "        #               Evaluation\n",
    "        # =======================================\n",
    "        if val_dataloader is not None:\n",
    "            # After the completion of each training epoch, measure the model's\n",
    "            # performance on our validation set.\n",
    "            val_loss, val_accuracy = evaluate(model, val_dataloader)\n",
    "            val_accuracies.append(val_accuracy)\n",
    "\n",
    "            # Track the best accuracy\n",
    "            if val_accuracy > best_accuracy:\n",
    "                best_accuracy = val_accuracy\n",
    "\n",
    "            # Print performance over the entire training data\n",
    "            time_elapsed = time.time() - t0_epoch\n",
    "            print(f\"{epoch_i + 1:^7} | {avg_train_loss:^12.6f} | {val_loss:^10.6f} | {val_accuracy:^9.2f} | {time_elapsed:^9.2f}\")\n",
    "            \n",
    "    print(\"\\n\")\n",
    "    print(f\"Training complete! Best accuracy: {best_accuracy:.2f}%.\")\n",
    "    \n",
    "    return train_accuracies, val_accuracies\n",
    "\n",
    "def evaluate(model, val_dataloader):\n",
    "    \"\"\"After the completion of each training epoch, measure the model's\n",
    "    performance on our validation set.\n",
    "    \"\"\"\n",
    "    # Put the model into the evaluation mode. The dropout layers are disabled\n",
    "    # during the test time.\n",
    "    model.eval()\n",
    "\n",
    "    # Tracking variables\n",
    "    val_accuracy = []\n",
    "    val_loss = []\n",
    "\n",
    "    # For each batch in our validation set...\n",
    "    for batch in val_dataloader:\n",
    "        # Load batch to GPU\n",
    "        b_input_ids, b_labels = tuple(t for t in batch)\n",
    "\n",
    "        # Compute logits\n",
    "        with torch.no_grad():\n",
    "            logits = model(b_input_ids)\n",
    "\n",
    "        # Compute loss\n",
    "        loss = loss_fn(logits, b_labels)\n",
    "        val_loss.append(loss.item())\n",
    "\n",
    "        # Get the predictions\n",
    "        preds = torch.argmax(logits, dim=1).flatten()\n",
    "\n",
    "        # Calculate the accuracy rate\n",
    "        accuracy = (preds == b_labels).numpy().mean() * 100\n",
    "        val_accuracy.append(accuracy)\n",
    "\n",
    "    # Compute the average accuracy and loss over the validation set.\n",
    "    val_loss = np.mean(val_loss)\n",
    "    val_accuracy = np.mean(val_accuracy)\n",
    "\n",
    "    return val_loss, val_accuracy"
   ]
  },
  {
   "cell_type": "markdown",
   "id": "c69d439a",
   "metadata": {},
   "source": [
    "### Without Pre-Trained Embeddings"
   ]
  },
  {
   "cell_type": "code",
   "execution_count": 30,
   "id": "3db66fac",
   "metadata": {},
   "outputs": [
    {
     "name": "stdout",
     "output_type": "stream",
     "text": [
      "Start training...\n",
      "\n",
      " Epoch  |  Train Loss  |  Val Loss  |  Val Acc  |  Elapsed \n",
      "------------------------------------------------------------\n",
      "   1    |   0.957137   |  0.885148  |   57.92   |  107.05  \n",
      "   2    |   0.849622   |  0.826184  |   61.51   |   98.60  \n",
      "   3    |   0.779458   |  0.800463  |   62.48   |   93.58  \n",
      "   4    |   0.714897   |  0.791582  |   63.18   |   91.89  \n",
      "   5    |   0.653468   |  0.794298  |   63.90   |   95.13  \n",
      "   6    |   0.595115   |  0.793504  |   63.99   |   94.26  \n",
      "   7    |   0.541465   |  0.818387  |   63.79   |   92.93  \n",
      "   8    |   0.482607   |  0.839642  |   63.43   |   91.89  \n",
      "   9    |   0.435643   |  0.865496  |   63.58   |   92.99  \n",
      "  10    |   0.392825   |  0.888393  |   62.89   |   91.67  \n",
      "  11    |   0.359972   |  0.930973  |   63.00   |   92.40  \n",
      "  12    |   0.332196   |  0.942249  |   62.59   |   93.06  \n",
      "  13    |   0.295816   |  0.997836  |   63.10   |   92.55  \n",
      "  14    |   0.281298   |  1.010375  |   63.18   |   92.28  \n",
      "  15    |   0.256153   |  1.044304  |   63.43   |   96.23  \n",
      "  16    |   0.243702   |  1.084410  |   62.80   |   93.39  \n",
      "  17    |   0.223404   |  1.088660  |   63.08   |   93.55  \n",
      "  18    |   0.205623   |  1.134533  |   63.19   |   89.98  \n",
      "  19    |   0.196562   |  1.164311  |   63.51   |   89.87  \n",
      "  20    |   0.184858   |  1.183987  |   63.30   |   91.63  \n",
      "\n",
      "\n",
      "Training complete! Best accuracy: 63.99%.\n"
     ]
    }
   ],
   "source": [
    "set_seed(42)\n",
    "cnn_rand, optimizer = initilize_model(vocab_size=len(word2idx),\n",
    "                                      embed_dim=300,\n",
    "                                      learning_rate=0.25,\n",
    "                                      dropout=0.5)\n",
    "train_accuracy, val_accuracy = train(cnn_rand, optimizer, train_dataloader, val_dataloader, epochs=20)"
   ]
  },
  {
   "cell_type": "code",
   "execution_count": 31,
   "id": "f2e07f86",
   "metadata": {},
   "outputs": [
    {
     "data": {
      "text/plain": [
       "<matplotlib.legend.Legend at 0x7f8c1ad3bc10>"
      ]
     },
     "execution_count": 31,
     "metadata": {},
     "output_type": "execute_result"
    },
    {
     "data": {
      "image/png": "[encoded data removed]",
      "text/plain": [
       "<Figure size 640x480 with 1 Axes>"
      ]
     },
     "metadata": {},
     "output_type": "display_data"
    }
   ],
   "source": [
    "import matplotlib.pyplot as plt\n",
    "plt.plot(range(1, 20+1), val_accuracy, label = \"validation\")\n",
    "plt.plot(range(1, 20+1), train_accuracy, label = \"training\")\n",
    "plt.legend()"
   ]
  },
  {
   "cell_type": "markdown",
   "id": "29fd597c",
   "metadata": {},
   "source": [
    "## Using FastText Embeddings"
   ]
  },
  {
   "cell_type": "code",
   "execution_count": 156,
   "id": "5901aede",
   "metadata": {},
   "outputs": [
    {
     "name": "stdout",
     "output_type": "stream",
     "text": [
      "Loading pretrained vectors...\n"
     ]
    },
    {
     "name": "stderr",
     "output_type": "stream",
     "text": [
      "/var/folders/8r/33488zyj26x492g8pxrnm_jh0000gn/T/ipykernel_19786/3358469232.py:25: TqdmDeprecationWarning: This function will be removed in tqdm==5.0.0\n",
      "Please use `tqdm.notebook.tqdm` instead of `tqdm.tqdm_notebook`\n",
      "  for line in tqdm_notebook(fin):\n"
     ]
    },
    {
     "data": {
      "application/vnd.jupyter.widget-view+json": {
       "model_id": "c1518c8d74b54f0eaeb3149aefb814ef",
       "version_major": 2,
       "version_minor": 0
      },
      "text/plain": [
       "0it [00:00, ?it/s]"
      ]
     },
     "metadata": {},
     "output_type": "display_data"
    },
    {
     "name": "stdout",
     "output_type": "stream",
     "text": [
      "There are 37993 / 46511 pretrained vectors found.\n"
     ]
    }
   ],
   "source": [
    "embeddings = load_pretrained_vectors(word2idx, \"crawl-300d-2M.vec\")\n",
    "embeddings = torch.tensor(embeddings)"
   ]
  },
  {
   "cell_type": "markdown",
   "id": "53981359",
   "metadata": {},
   "source": [
    "### Frozen FastText Embeddings"
   ]
  },
  {
   "cell_type": "code",
   "execution_count": 157,
   "id": "30945b0f",
   "metadata": {},
   "outputs": [
    {
     "name": "stdout",
     "output_type": "stream",
     "text": [
      "Start training...\n",
      "\n",
      " Epoch  |  Train Loss  |  Val Loss  |  Val Acc  |  Elapsed \n",
      "------------------------------------------------------------\n",
      "   1    |   0.808477   |  0.720781  |   67.99   |   39.75  \n",
      "   2    |   0.707843   |  0.700345  |   68.72   |   38.37  \n",
      "   3    |   0.664397   |  0.691333  |   68.71   |   39.10  \n",
      "   4    |   0.620587   |  0.701408  |   69.09   |   38.99  \n",
      "   5    |   0.578059   |  0.711237  |   68.38   |   39.35  \n",
      "   6    |   0.536285   |  0.710374  |   68.50   |   41.72  \n",
      "   7    |   0.491291   |  0.743000  |   68.00   |   39.42  \n",
      "   8    |   0.449757   |  0.732874  |   68.87   |   39.60  \n",
      "   9    |   0.416017   |  0.753818  |   68.39   |   40.61  \n",
      "  10    |   0.384611   |  0.780670  |   68.61   |   42.20  \n",
      "  11    |   0.354377   |  0.823039  |   67.48   |   41.77  \n",
      "  12    |   0.331851   |  0.841107  |   67.58   |   41.05  \n",
      "  13    |   0.306772   |  0.851700  |   67.66   |   40.64  \n",
      "  14    |   0.287259   |  0.873163  |   67.52   |   40.35  \n",
      "  15    |   0.270086   |  0.899532  |   67.15   |   40.61  \n",
      "  16    |   0.256106   |  0.934186  |   67.15   |   40.33  \n",
      "  17    |   0.241147   |  0.937437  |   67.65   |   40.31  \n",
      "  18    |   0.229850   |  0.965650  |   67.89   |   40.27  \n",
      "  19    |   0.215350   |  0.983288  |   67.90   |   40.54  \n",
      "  20    |   0.210310   |  0.995442  |   67.66   |   41.19  \n",
      "\n",
      "\n",
      "Training complete! Best accuracy: 69.09%.\n"
     ]
    },
    {
     "data": {
      "text/plain": [
       "([61.96495567924139,\n",
       "  68.00546279117708,\n",
       "  70.37940630797773,\n",
       "  72.84508348794063,\n",
       "  74.99793856936715,\n",
       "  76.91259534116678,\n",
       "  79.55555555555556,\n",
       "  81.47278911564626,\n",
       "  82.91104926819213,\n",
       "  84.34632034632034,\n",
       "  85.85992578849722,\n",
       "  86.71665635951351,\n",
       "  87.87095444238301,\n",
       "  88.6984126984127,\n",
       "  89.362296433725,\n",
       "  90.19903112760257,\n",
       "  90.7209853638425,\n",
       "  91.09616573902288,\n",
       "  91.74623788909503,\n",
       "  91.91259534116678],\n",
       " [67.9859649122807,\n",
       "  68.71929824561403,\n",
       "  68.71403508771931,\n",
       "  69.08596491228069,\n",
       "  68.38070175438597,\n",
       "  68.50350877192983,\n",
       "  67.99736842105263,\n",
       "  68.86929824561403,\n",
       "  68.3859649122807,\n",
       "  68.60877192982456,\n",
       "  67.47543859649123,\n",
       "  67.57631578947368,\n",
       "  67.65877192982457,\n",
       "  67.5201754385965,\n",
       "  67.14736842105263,\n",
       "  67.14736842105263,\n",
       "  67.64824561403508,\n",
       "  67.88684210526316,\n",
       "  67.90350877192982,\n",
       "  67.65964912280701])"
      ]
     },
     "execution_count": 157,
     "metadata": {},
     "output_type": "execute_result"
    }
   ],
   "source": [
    "set_seed(42)\n",
    "cnn_static, optimizer = initilize_model(pretrained_embedding=embeddings,\n",
    "                                        freeze_embedding=True,\n",
    "                                        learning_rate=0.25,\n",
    "                                        dropout=0.5)\n",
    "train(cnn_static, optimizer, train_dataloader, val_dataloader, epochs=20)"
   ]
  },
  {
   "cell_type": "code",
   "execution_count": 158,
   "id": "e1c0397f",
   "metadata": {},
   "outputs": [],
   "source": [
    "train_accuracy, val_accuracy = ([61.96495567924139,\n",
    "  68.00546279117708,\n",
    "  70.37940630797773,\n",
    "  72.84508348794063,\n",
    "  74.99793856936715,\n",
    "  76.91259534116678,\n",
    "  79.55555555555556,\n",
    "  81.47278911564626,\n",
    "  82.91104926819213,\n",
    "  84.34632034632034,\n",
    "  85.85992578849722,\n",
    "  86.71665635951351,\n",
    "  87.87095444238301,\n",
    "  88.6984126984127,\n",
    "  89.362296433725,\n",
    "  90.19903112760257,\n",
    "  90.7209853638425,\n",
    "  91.09616573902288,\n",
    "  91.74623788909503,\n",
    "  91.91259534116678],\n",
    " [67.9859649122807,\n",
    "  68.71929824561403,\n",
    "  68.71403508771931,\n",
    "  69.08596491228069,\n",
    "  68.38070175438597,\n",
    "  68.50350877192983,\n",
    "  67.99736842105263,\n",
    "  68.86929824561403,\n",
    "  68.3859649122807,\n",
    "  68.60877192982456,\n",
    "  67.47543859649123,\n",
    "  67.57631578947368,\n",
    "  67.65877192982457,\n",
    "  67.5201754385965,\n",
    "  67.14736842105263,\n",
    "  67.14736842105263,\n",
    "  67.64824561403508,\n",
    "  67.88684210526316,\n",
    "  67.90350877192982,\n",
    "  67.65964912280701])"
   ]
  },
  {
   "cell_type": "code",
   "execution_count": 162,
   "id": "d1d61ddf",
   "metadata": {
    "scrolled": true
   },
   "outputs": [
    {
     "data": {
      "text/plain": [
       "<matplotlib.legend.Legend at 0x7fa399c64ca0>"
      ]
     },
     "execution_count": 162,
     "metadata": {},
     "output_type": "execute_result"
    },
    {
     "data": {
      "image/png": "[encoded data removed]",
      "text/plain": [
       "<Figure size 640x480 with 1 Axes>"
      ]
     },
     "metadata": {},
     "output_type": "display_data"
    }
   ],
   "source": [
    "import matplotlib.pyplot as plt\n",
    "plt.plot(range(1, 20+1), val_accuracy, label = \"validation\")\n",
    "plt.plot(range(1, 20+1), train_accuracy, label = \"training\")\n",
    "plt.legend()"
   ]
  },
  {
   "cell_type": "markdown",
   "id": "58d1673b",
   "metadata": {},
   "source": [
    "### Not Frozen Fast Text Embeddings"
   ]
  },
  {
   "cell_type": "code",
   "execution_count": 163,
   "id": "df4c868e",
   "metadata": {},
   "outputs": [
    {
     "name": "stdout",
     "output_type": "stream",
     "text": [
      "Start training...\n",
      "\n",
      " Epoch  |  Train Loss  |  Val Loss  |  Val Acc  |  Elapsed \n",
      "------------------------------------------------------------\n",
      "   1    |   0.804255   |  0.715167  |   68.08   |  118.14  \n",
      "   2    |   0.699162   |  0.694065  |   69.01   |  119.24  \n",
      "   3    |   0.650365   |  0.684639  |   68.87   |  120.26  \n",
      "   4    |   0.602937   |  0.688782  |   69.31   |  115.40  \n",
      "   5    |   0.555431   |  0.704214  |   68.90   |  120.58  \n",
      "   6    |   0.506643   |  0.705720  |   69.05   |  120.23  \n",
      "   7    |   0.454998   |  0.730334  |   68.81   |  119.00  \n",
      "   8    |   0.407145   |  0.741926  |   69.33   |  114.59  \n",
      "   9    |   0.365855   |  0.774975  |   68.56   |  118.61  \n",
      "  10    |   0.327325   |  0.800258  |   69.04   |  131.37  \n",
      "  11    |   0.296756   |  0.858541  |   68.19   |  126.86  \n",
      "  12    |   0.264201   |  0.888686  |   68.10   |  121.27  \n",
      "  13    |   0.240880   |  0.902341  |   68.21   |  120.10  \n",
      "  14    |   0.219569   |  0.942823  |   67.99   |  139.27  \n",
      "  15    |   0.199286   |  0.967096  |   67.70   |  131.94  \n",
      "  16    |   0.183111   |  1.013356  |   67.49   |  127.43  \n",
      "  17    |   0.167103   |  1.074773  |   68.27   |  132.02  \n",
      "  18    |   0.156987   |  1.087965  |   67.77   |  133.28  \n",
      "  19    |   0.147639   |  1.097316  |   67.87   |  140.27  \n",
      "  20    |   0.140488   |  1.131231  |   68.46   |  152.82  \n",
      "\n",
      "\n",
      "Training complete! Best accuracy: 69.33%.\n"
     ]
    }
   ],
   "source": [
    "set_seed(42)\n",
    "cnn_non_static, optimizer = initilize_model(pretrained_embedding=embeddings,\n",
    "                                            freeze_embedding=False,\n",
    "                                            learning_rate=0.25,\n",
    "                                            dropout=0.5)\n",
    "train_accuracy, val_accuracy = train(cnn_non_static, optimizer, train_dataloader, val_dataloader, epochs=20)"
   ]
  },
  {
   "cell_type": "code",
   "execution_count": 164,
   "id": "0bdb375a",
   "metadata": {},
   "outputs": [
    {
     "data": {
      "text/plain": [
       "<matplotlib.legend.Legend at 0x7fa399a96a70>"
      ]
     },
     "execution_count": 164,
     "metadata": {},
     "output_type": "execute_result"
    },
    {
     "data": {
      "image/png": "[encoded data removed]",
      "text/plain": [
       "<Figure size 640x480 with 1 Axes>"
      ]
     },
     "metadata": {},
     "output_type": "display_data"
    }
   ],
   "source": [
    "plt.plot(range(1, 20+1), val_accuracy, label = \"validation\")\n",
    "plt.plot(range(1, 20+1), train_accuracy, label = \"training\")\n",
    "plt.legend()"
   ]
  },
  {
   "cell_type": "markdown",
   "id": "48af111b",
   "metadata": {},
   "source": [
    "# Try GloVE Twitter Trained Embeddings "
   ]
  },
  {
   "cell_type": "code",
   "execution_count": 24,
   "id": "d5346a39",
   "metadata": {},
   "outputs": [],
   "source": [
    "def load_pretrained_vectors_glove(word2idx,fname):\n",
    "    \"\"\"Load pretrained vectors and create embedding layers for glove!\n",
    "    \n",
    "    Args:\n",
    "        word2idx (Dict): Vocabulary built from the corpus\n",
    "        fname (str): Path to pretrained vector file\n",
    "\n",
    "    Returns:\n",
    "        embeddings (np.array): Embedding matrix with shape (N, d) where N is\n",
    "            the size of word2idx and d is embedding dimension\n",
    "    \"\"\"\n",
    "\n",
    "    print(\"Loading pretrained vectors...\")\n",
    "    fin = open(fname, 'r', encoding='utf-8', newline='\\n', errors='ignore')\n",
    "    #print(fin)\n",
    "    #n, d = map(int, fin.readline().split())\n",
    "    d = 200\n",
    "\n",
    "    # Initilize random embeddings\n",
    "    embeddings = np.random.uniform(-0.25, 0.25, (len(word2idx), d))\n",
    "    embeddings[word2idx['<pad>']] = np.zeros((d,))\n",
    "\n",
    "    # Load pretrained vectors\n",
    "    count = 0\n",
    "    for line in tqdm_notebook(fin):\n",
    "        tokens = line.rstrip().split(' ')\n",
    "        word = tokens[0]\n",
    "        if word in word2idx:\n",
    "            count += 1\n",
    "            embeddings[word2idx[word]] = np.array(tokens[1:], dtype=np.float32)\n",
    "\n",
    "    print(f\"There are {count} / {len(word2idx)} pretrained vectors found.\")\n",
    "\n",
    "    return embeddings\n"
   ]
  },
  {
   "cell_type": "markdown",
   "id": "a85d24d6",
   "metadata": {},
   "source": [
    "### Create glove embeddigns"
   ]
  },
  {
   "cell_type": "code",
   "execution_count": 10,
   "id": "74e3f054",
   "metadata": {},
   "outputs": [
    {
     "name": "stdout",
     "output_type": "stream",
     "text": [
      "Loading pretrained vectors...\n"
     ]
    },
    {
     "name": "stderr",
     "output_type": "stream",
     "text": [
      "/var/folders/8r/33488zyj26x492g8pxrnm_jh0000gn/T/ipykernel_1955/930119435.py:25: TqdmDeprecationWarning: This function will be removed in tqdm==5.0.0\n",
      "Please use `tqdm.notebook.tqdm` instead of `tqdm.tqdm_notebook`\n",
      "  for line in tqdm_notebook(fin):\n"
     ]
    },
    {
     "data": {
      "application/vnd.jupyter.widget-view+json": {
       "model_id": "0fcdea8e14f44fae9ccfd5cf6ff86da7",
       "version_major": 2,
       "version_minor": 0
      },
      "text/plain": [
       "0it [00:00, ?it/s]"
      ]
     },
     "metadata": {},
     "output_type": "display_data"
    },
    {
     "name": "stdout",
     "output_type": "stream",
     "text": [
      "There are 38173 / 46511 pretrained vectors found.\n"
     ]
    }
   ],
   "source": [
    "embeddings = load_pretrained_vectors_glove(word2idx, \"glove.twitter.27B.200d.txt\")\n",
    "embeddings = torch.tensor(embeddings)"
   ]
  },
  {
   "cell_type": "markdown",
   "id": "23ddf134",
   "metadata": {},
   "source": [
    "### Frozen GloVE Embeddings"
   ]
  },
  {
   "cell_type": "code",
   "execution_count": 25,
   "id": "68bed9a7",
   "metadata": {},
   "outputs": [
    {
     "name": "stdout",
     "output_type": "stream",
     "text": [
      "Start training...\n",
      "\n",
      " Epoch  |  Train Loss  |  Val Loss  |  Val Acc  |  Elapsed \n",
      "------------------------------------------------------------\n",
      "   1    |   0.822428   |  0.735774  |   66.68   |   27.88  \n",
      "   2    |   0.735336   |  0.717553  |   68.00   |   28.06  \n",
      "   3    |   0.697261   |  0.716247  |   68.18   |   27.34  \n",
      "   4    |   0.663109   |  0.707736  |   68.42   |   27.31  \n",
      "   5    |   0.631666   |  0.713578  |   68.06   |   27.15  \n",
      "   6    |   0.597524   |  0.732559  |   67.27   |   27.06  \n",
      "   7    |   0.565773   |  0.727988  |   67.98   |   27.74  \n",
      "   8    |   0.534009   |  0.750797  |   68.01   |   27.99  \n",
      "   9    |   0.505251   |  0.801800  |   66.62   |   27.65  \n",
      "  10    |   0.480212   |  0.774475  |   67.26   |   27.32  \n",
      "  11    |   0.457106   |  0.790054  |   67.19   |   28.64  \n",
      "  12    |   0.430320   |  0.793749  |   67.33   |   27.85  \n",
      "  13    |   0.409262   |  0.817993  |   66.88   |   27.43  \n",
      "  14    |   0.393991   |  0.832831  |   66.92   |   27.43  \n",
      "  15    |   0.378630   |  0.850824  |   67.33   |   27.81  \n",
      "  16    |   0.360651   |  0.867558  |   67.13   |   27.60  \n",
      "  17    |   0.349582   |  0.891986  |   67.27   |   27.52  \n",
      "  18    |   0.339938   |  0.900250  |   66.81   |   27.18  \n",
      "  19    |   0.324059   |  0.937556  |   66.51   |   28.80  \n",
      "  20    |   0.312350   |  0.938932  |   66.18   |   27.59  \n",
      "\n",
      "\n",
      "Training complete! Best accuracy: 68.42%.\n"
     ]
    }
   ],
   "source": [
    "set_seed(42)\n",
    "cnn_non_static, optimizer = initilize_model(pretrained_embedding=embeddings,\n",
    "                                            freeze_embedding=True,\n",
    "                                            learning_rate=0.25,\n",
    "                                            dropout=0.5)\n",
    "train_accuracy, val_accuracy = train(cnn_non_static, optimizer, train_dataloader, val_dataloader, epochs=20)"
   ]
  },
  {
   "cell_type": "code",
   "execution_count": 27,
   "id": "ee7c26a3",
   "metadata": {},
   "outputs": [
    {
     "data": {
      "text/plain": [
       "<matplotlib.legend.Legend at 0x7f8c0ed02c20>"
      ]
     },
     "execution_count": 27,
     "metadata": {},
     "output_type": "execute_result"
    },
    {
     "data": {
      "image/png": "[encoded data removed]",
      "text/plain": [
       "<Figure size 640x480 with 1 Axes>"
      ]
     },
     "metadata": {},
     "output_type": "display_data"
    }
   ],
   "source": [
    "import matplotlib.pyplot as plt\n",
    "plt.plot(range(1, 20+1), val_accuracy, label = \"validation\")\n",
    "plt.plot(range(1, 20+1), train_accuracy, label = \"training\")\n",
    "plt.legend()"
   ]
  },
  {
   "cell_type": "markdown",
   "id": "2feef053",
   "metadata": {},
   "source": [
    "### Not Frozen Glove Embeddings"
   ]
  },
  {
   "cell_type": "code",
   "execution_count": 28,
   "id": "9c1ba71e",
   "metadata": {},
   "outputs": [
    {
     "name": "stdout",
     "output_type": "stream",
     "text": [
      "Start training...\n",
      "\n",
      " Epoch  |  Train Loss  |  Val Loss  |  Val Acc  |  Elapsed \n",
      "------------------------------------------------------------\n",
      "   1    |   0.819547   |  0.729262  |   66.66   |   87.93  \n",
      "   2    |   0.727489   |  0.711790  |   68.51   |  106.15  \n",
      "   3    |   0.686116   |  0.706648  |   68.89   |   90.73  \n",
      "   4    |   0.647624   |  0.703923  |   68.31   |   86.80  \n",
      "   5    |   0.613121   |  0.706548  |   68.60   |  107.11  \n",
      "   6    |   0.574985   |  0.734655  |   67.35   |   90.62  \n",
      "   7    |   0.536102   |  0.727474  |   68.46   |  111.09  \n",
      "   8    |   0.498985   |  0.751456  |   68.30   |   83.03  \n",
      "   9    |   0.468029   |  0.789771  |   68.03   |   80.57  \n",
      "  10    |   0.435663   |  0.797933  |   67.76   |   78.08  \n",
      "  11    |   0.407134   |  0.811413  |   67.85   |   78.06  \n",
      "  12    |   0.377361   |  0.837123  |   67.80   |   78.01  \n",
      "  13    |   0.356965   |  0.861883  |   67.77   |   84.37  \n",
      "  14    |   0.332213   |  0.880893  |   67.16   |  102.77  \n",
      "  15    |   0.314632   |  0.909759  |   67.52   |   92.73  \n",
      "  16    |   0.296282   |  0.927371  |   67.47   |   94.98  \n",
      "  17    |   0.286430   |  0.961688  |   67.25   |   93.32  \n",
      "  18    |   0.268268   |  0.980128  |   67.44   |   91.27  \n",
      "  19    |   0.251696   |  1.012549  |   67.35   |   96.91  \n",
      "  20    |   0.243420   |  1.019799  |   66.75   |   91.70  \n",
      "\n",
      "\n",
      "Training complete! Best accuracy: 68.89%.\n"
     ]
    }
   ],
   "source": [
    "set_seed(42)\n",
    "cnn_non_static, optimizer = initilize_model(pretrained_embedding=embeddings,\n",
    "                                            freeze_embedding=False,\n",
    "                                            learning_rate=0.25,\n",
    "                                            dropout=0.5)\n",
    "train_accuracy, val_accuracy = train(cnn_non_static, optimizer, train_dataloader, val_dataloader, epochs=20)"
   ]
  },
  {
   "cell_type": "code",
   "execution_count": 29,
   "id": "5273e9af",
   "metadata": {},
   "outputs": [
    {
     "data": {
      "text/plain": [
       "<matplotlib.legend.Legend at 0x7f8c0ed91900>"
      ]
     },
     "execution_count": 29,
     "metadata": {},
     "output_type": "execute_result"
    },
    {
     "data": {
      "image/png": "[encoded data removed]",
      "text/plain": [
       "<Figure size 640x480 with 1 Axes>"
      ]
     },
     "metadata": {},
     "output_type": "display_data"
    }
   ],
   "source": [
    "import matplotlib.pyplot as plt\n",
    "plt.plot(range(1, 20+1), val_accuracy, label = \"validation\")\n",
    "plt.plot(range(1, 20+1), train_accuracy, label = \"training\")\n",
    "plt.legend()"
   ]
  }
 ],
 "metadata": {
  "kernelspec": {
   "display_name": "Python 3 (ipykernel)",
   "language": "python",
   "name": "python3"
  },
  "language_info": {
   "codemirror_mode": {
    "name": "ipython",
    "version": 3
   },
   "file_extension": ".py",
   "mimetype": "text/x-python",
   "name": "python",
   "nbconvert_exporter": "python",
   "pygments_lexer": "ipython3",
   "version": "3.10.10"
  }
 },
 "nbformat": 4,
 "nbformat_minor": 5
}
