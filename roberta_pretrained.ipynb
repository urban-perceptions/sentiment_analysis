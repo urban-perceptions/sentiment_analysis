{
 "cells": [
  {
   "cell_type": "markdown",
   "id": "7d6add9b",
   "metadata": {},
   "source": [
    "## Sentiment Classification using Pre-Trained Roberta Model\n",
    "\n",
    "Model Source: https://huggingface.co/cardiffnlp/twitter-roberta-base-sentiment"
   ]
  },
  {
   "cell_type": "code",
   "execution_count": 2,
   "id": "d27ed7fa",
   "metadata": {},
   "outputs": [
    {
     "data": {
      "application/vnd.jupyter.widget-view+json": {
       "model_id": "c814c59eeb9a407090e0f17faef58018",
       "version_major": 2,
       "version_minor": 0
      },
      "text/plain": [
       "Downloading (…)lve/main/config.json:   0%|          | 0.00/747 [00:00<?, ?B/s]"
      ]
     },
     "metadata": {},
     "output_type": "display_data"
    },
    {
     "data": {
      "application/vnd.jupyter.widget-view+json": {
       "model_id": "4ce09525b37d4e94937cf574aea269fb",
       "version_major": 2,
       "version_minor": 0
      },
      "text/plain": [
       "Downloading (…)olve/main/vocab.json:   0%|          | 0.00/899k [00:00<?, ?B/s]"
      ]
     },
     "metadata": {},
     "output_type": "display_data"
    },
    {
     "data": {
      "application/vnd.jupyter.widget-view+json": {
       "model_id": "a9805f699d2343569836ce0e550ed78d",
       "version_major": 2,
       "version_minor": 0
      },
      "text/plain": [
       "Downloading (…)olve/main/merges.txt:   0%|          | 0.00/456k [00:00<?, ?B/s]"
      ]
     },
     "metadata": {},
     "output_type": "display_data"
    },
    {
     "data": {
      "application/vnd.jupyter.widget-view+json": {
       "model_id": "1471452f937a4df2918dab4e68fd3554",
       "version_major": 2,
       "version_minor": 0
      },
      "text/plain": [
       "Downloading (…)cial_tokens_map.json:   0%|          | 0.00/150 [00:00<?, ?B/s]"
      ]
     },
     "metadata": {},
     "output_type": "display_data"
    }
   ],
   "source": [
    "import pandas as pd\n",
    "import numpy as np\n",
    "import torch\n",
    "import torchtext\n",
    "import torchdata\n",
    "import portalocker\n",
    "from wordsegment import load, segment\n",
    "from torchtext.data.utils import get_tokenizer\n",
    "from torchtext.vocab import build_vocab_from_iterator\n",
    "\n",
    "tokenizer = get_tokenizer('basic_english')\n",
    "from itertools import combinations\n",
    "from torchtext.vocab import GloVe\n",
    "\n",
    "from transformers import AutoModelForSequenceClassification\n",
    "from transformers import TFAutoModelForSequenceClassification\n",
    "from transformers import AutoTokenizer\n",
    "import numpy as np\n",
    "from scipy.special import softmax\n",
    "import csv\n",
    "import urllib.request\n",
    "\n",
    "\n",
    "torch.manual_seed(0)\n",
    "\n",
    "task='sentiment'\n",
    "MODEL = f\"cardiffnlp/twitter-roberta-base-{task}\"\n",
    "\n",
    "tokenizer = AutoTokenizer.from_pretrained(MODEL)"
   ]
  },
  {
   "cell_type": "markdown",
   "id": "fe75ccca",
   "metadata": {},
   "source": [
    "### Testing the model on the kaggle tweets dataset"
   ]
  },
  {
   "cell_type": "code",
   "execution_count": 16,
   "id": "6b376485",
   "metadata": {},
   "outputs": [],
   "source": [
    "tweets_analysis = pd.read_csv(\"kaggle_clean.csv\")"
   ]
  },
  {
   "cell_type": "code",
   "execution_count": 64,
   "id": "4b21005d",
   "metadata": {},
   "outputs": [],
   "source": [
    "tweets_analysis['label'] = 0\n",
    "tweets_analysis.loc[(tweets_analysis.loc[:, \"sentiment\"] == 'positive'), 'label'] = 2\n",
    "tweets_analysis.loc[(tweets_analysis.loc[:, \"sentiment\"] == 'neutral'), 'label'] = 1"
   ]
  },
  {
   "cell_type": "code",
   "execution_count": 68,
   "id": "3dbec4c8",
   "metadata": {},
   "outputs": [],
   "source": [
    "df = tweets_analysis.loc[:, [\"label\", \"sentiment\", \"text_clean\"]]"
   ]
  },
  {
   "cell_type": "code",
   "execution_count": 7,
   "id": "25640eea",
   "metadata": {},
   "outputs": [],
   "source": [
    "labels=[]\n",
    "mapping_link = f\"https://raw.githubusercontent.com/cardiffnlp/tweeteval/main/datasets/{task}/mapping.txt\"\n",
    "with urllib.request.urlopen(mapping_link) as f:\n",
    "    html = f.read().decode('utf-8').split(\"\\n\")\n",
    "    csvreader = csv.reader(html, delimiter='\\t')\n",
    "labels = [row[1] for row in csvreader if len(row) > 1]\n"
   ]
  },
  {
   "cell_type": "code",
   "execution_count": 9,
   "id": "48554134",
   "metadata": {},
   "outputs": [
    {
     "data": {
      "application/vnd.jupyter.widget-view+json": {
       "model_id": "7b825bb702e144cc89298b8853af1878",
       "version_major": 2,
       "version_minor": 0
      },
      "text/plain": [
       "Downloading pytorch_model.bin:   0%|          | 0.00/499M [00:00<?, ?B/s]"
      ]
     },
     "metadata": {},
     "output_type": "display_data"
    }
   ],
   "source": [
    "# PT\n",
    "model = AutoModelForSequenceClassification.from_pretrained(MODEL)\n",
    "model.save_pretrained(MODEL)"
   ]
  },
  {
   "cell_type": "code",
   "execution_count": 10,
   "id": "4eff84d8",
   "metadata": {},
   "outputs": [],
   "source": [
    "text = df[\"text_clean\"][0]\n",
    "#text = preprocess(text)\n",
    "encoded_input = tokenizer(text, return_tensors='pt')\n",
    "output = model(**encoded_input)\n",
    "scores = output[0][0].detach().numpy()\n",
    "scores = softmax(scores)"
   ]
  },
  {
   "cell_type": "code",
   "execution_count": 70,
   "id": "4743101e",
   "metadata": {},
   "outputs": [],
   "source": [
    "class CustomTextDataset(Dataset):\n",
    "    def __init__(self, txt, labels):\n",
    "        self.labels = labels\n",
    "        self.text = txt\n",
    "        #self.city = city\n",
    "    def __len__(self):\n",
    "        return len(self.labels)\n",
    "    def __getitem__(self, idx):\n",
    "        label = self.labels[idx]\n",
    "        text = self.text[idx]\n",
    "        #city = self.city[idx]\n",
    "        sample = {\"Text\": text, \"Class\": label}\n",
    "        return (label, text)"
   ]
  },
  {
   "cell_type": "code",
   "execution_count": 71,
   "id": "c245ec72",
   "metadata": {},
   "outputs": [],
   "source": [
    "from torch.utils.data import Dataset, DataLoader\n",
    "from torch.nn.utils.rnn import pad_sequence\n",
    "\n",
    "\n",
    "def collate_fn(batch):\n",
    "    k = len(batch)\n",
    "    label_list, original_text, text_list = [], [], []\n",
    "    \n",
    "    max_words = 0\n",
    "    for i, (label, text) in enumerate(batch): \n",
    "        label_list.append(label)\n",
    "        original_text.append(str(text))\n",
    "        text = tokenizer(str(text), return_tensors = 'pt')\n",
    "        text_list.append(text)\n",
    "    label_list = torch.tensor(label_list, dtype = torch.int64)\n",
    "    #text_list = torch.tesnor(text)\n",
    "    return original_text, label_list, text_list"
   ]
  },
  {
   "cell_type": "code",
   "execution_count": 72,
   "id": "0d2966ff",
   "metadata": {},
   "outputs": [],
   "source": [
    "TD = CustomTextDataset(df['text_clean'], df['label'])"
   ]
  },
  {
   "cell_type": "code",
   "execution_count": 73,
   "id": "c2bf034b",
   "metadata": {},
   "outputs": [
    {
     "name": "stdout",
     "output_type": "stream",
     "text": [
      "0 torch.Size([1000]) 1000\n",
      "1 torch.Size([1000]) 1000\n",
      "2 torch.Size([1000]) 1000\n",
      "3 torch.Size([1000]) 1000\n",
      "4 torch.Size([1000]) 1000\n"
     ]
    }
   ],
   "source": [
    "dataloader = DataLoader(TD, batch_size=1000, shuffle=False, \n",
    "                        collate_fn=collate_fn)\n",
    "\n",
    "for idx, (_, lt, tt) in enumerate(dataloader):\n",
    "    print(idx, lt.shape, len(tt))\n",
    "    if idx == 4: \n",
    "        break"
   ]
  },
  {
   "cell_type": "code",
   "execution_count": 74,
   "id": "252d456a",
   "metadata": {},
   "outputs": [
    {
     "name": "stdout",
     "output_type": "stream",
     "text": [
      "beginning dataloader 0\n",
      "current accuracy: 0.729\n",
      "beginning dataloader 1\n",
      "current accuracy: 0.723\n",
      "beginning dataloader 2\n",
      "current accuracy: 0.724\n",
      "beginning dataloader 3\n",
      "current accuracy: 0.724\n",
      "beginning dataloader 4\n",
      "current accuracy: 0.7256\n",
      "beginning dataloader 5\n",
      "current accuracy: 0.7256666666666667\n",
      "beginning dataloader 6\n",
      "current accuracy: 0.7254285714285714\n",
      "beginning dataloader 7\n",
      "current accuracy: 0.72875\n",
      "beginning dataloader 8\n",
      "current accuracy: 0.7272222222222222\n",
      "beginning dataloader 9\n",
      "current accuracy: 0.7282\n",
      "beginning dataloader 10\n",
      "current accuracy: 0.7271818181818182\n",
      "beginning dataloader 11\n",
      "current accuracy: 0.7280833333333333\n",
      "beginning dataloader 12\n",
      "current accuracy: 0.7276153846153847\n",
      "beginning dataloader 13\n",
      "current accuracy: 0.7270714285714286\n",
      "beginning dataloader 14\n",
      "current accuracy: 0.7268\n",
      "beginning dataloader 15\n",
      "current accuracy: 0.7266875\n",
      "beginning dataloader 16\n",
      "current accuracy: 0.7261764705882353\n",
      "beginning dataloader 17\n",
      "current accuracy: 0.7264444444444444\n",
      "beginning dataloader 18\n",
      "current accuracy: 0.7279473684210527\n",
      "beginning dataloader 19\n",
      "current accuracy: 0.72805\n",
      "beginning dataloader 20\n",
      "current accuracy: 0.7283809523809524\n",
      "beginning dataloader 21\n",
      "current accuracy: 0.7286818181818182\n",
      "beginning dataloader 22\n",
      "current accuracy: 0.7291304347826087\n",
      "beginning dataloader 23\n",
      "current accuracy: 0.7284583333333333\n",
      "beginning dataloader 24\n",
      "current accuracy: 0.72844\n",
      "beginning dataloader 25\n",
      "current accuracy: 0.7279615384615384\n",
      "beginning dataloader 26\n",
      "current accuracy: 0.7272222222222222\n",
      "beginning dataloader 27\n",
      "current accuracy: 0.7270841672428223\n"
     ]
    }
   ],
   "source": [
    "preds = []\n",
    "correct = []\n",
    "correct_count = 0\n",
    "total = 0\n",
    "original_text = []\n",
    "\n",
    "for i, (ot, lt, tt) in enumerate(dataloader):\n",
    "    total += len(lt)\n",
    "    print(\"beginning dataloader\", i)\n",
    "    for i, t in enumerate(tt):\n",
    "        original_text.append(ot[i])\n",
    "        correct.append(lt[i])\n",
    "        output = model(**t)\n",
    "        scores = output[0][0].detach().numpy()\n",
    "        scores = softmax(scores)\n",
    "        prediction = np.argmax(scores)\n",
    "        preds.append(prediction)\n",
    "        if prediction == lt[i]:\n",
    "            correct_count += 1\n",
    "    print(\"current accuracy:\", correct_count/total)"
   ]
  },
  {
   "cell_type": "code",
   "execution_count": 77,
   "id": "0ec1771f",
   "metadata": {},
   "outputs": [],
   "source": [
    "from sklearn.metrics import confusion_matrix, ConfusionMatrixDisplay"
   ]
  },
  {
   "cell_type": "code",
   "execution_count": 78,
   "id": "e852b7dd",
   "metadata": {},
   "outputs": [],
   "source": [
    "cm = confusion_matrix(correct, preds)\n",
    "disp = ConfusionMatrixDisplay(confusion_matrix=cm)"
   ]
  },
  {
   "cell_type": "code",
   "execution_count": 84,
   "id": "0b21f973",
   "metadata": {},
   "outputs": [
    {
     "data": {
      "text/plain": [
       "<sklearn.metrics._plot.confusion_matrix.ConfusionMatrixDisplay at 0x7fc860bb2020>"
      ]
     },
     "execution_count": 84,
     "metadata": {},
     "output_type": "execute_result"
    },
    {
     "data": {
      "image/png": "[encoded data removed]",
      "text/plain": [
       "<Figure size 640x480 with 2 Axes>"
      ]
     },
     "metadata": {},
     "output_type": "display_data"
    }
   ],
   "source": [
    "disp.plot()"
   ]
  },
  {
   "cell_type": "markdown",
   "id": "410add7e",
   "metadata": {},
   "source": [
    "### Applying the Model to our City Tweets"
   ]
  },
  {
   "cell_type": "code",
   "execution_count": 116,
   "id": "f842a738",
   "metadata": {},
   "outputs": [],
   "source": [
    "#Create custom dataset\n",
    "from torch.utils.data import Dataset\n",
    "\n",
    "class CustomTextDataset(Dataset):\n",
    "    def __init__(self, txt, city, id_num):\n",
    "        self.text = txt\n",
    "        self.city = city\n",
    "        self.id = id_num\n",
    "    def __len__(self):\n",
    "        return len(self.id)\n",
    "    def __getitem__(self, idx):\n",
    "        text = self.text[idx]\n",
    "        city = self.city[idx]\n",
    "        id_num = self.id[idx]\n",
    "        #sample = {\"Text\": text, \"Class\": label}\n",
    "        return (text, city, id_num)"
   ]
  },
  {
   "cell_type": "code",
   "execution_count": 117,
   "id": "f1710d61",
   "metadata": {},
   "outputs": [],
   "source": [
    "def collate_fn(batch):\n",
    "    k = len(batch)\n",
    "    id_list, original_text, cities, text_list = [], [], [], []\n",
    "    \n",
    "    max_words = 0\n",
    "    for i, (text, city, id_num) in enumerate(batch): \n",
    "        #label_list.append(label)\n",
    "        original_text.append(str(text))\n",
    "        text = tokenizer(str(text), return_tensors = 'pt')\n",
    "        text_list.append(text)\n",
    "        id_list.append(id_num)\n",
    "        cities.append(city)\n",
    "    #label_list = torch.tensor(label_list, dtype = torch.int64)\n",
    "    #text_list = torch.tesnor(text)\n",
    "    return original_text, text_list, cities, id_list"
   ]
  },
  {
   "cell_type": "code",
   "execution_count": 118,
   "id": "42815298",
   "metadata": {},
   "outputs": [],
   "source": [
    "df = pd.read_csv(\"final_tweets_set.csv\")"
   ]
  },
  {
   "cell_type": "code",
   "execution_count": 119,
   "id": "f23f3a53",
   "metadata": {},
   "outputs": [],
   "source": [
    "df = df[[\"id\", \"text\", \"city\", \"inside\", \"text_clean\"]]"
   ]
  },
  {
   "cell_type": "code",
   "execution_count": 120,
   "id": "f1ed03f6",
   "metadata": {},
   "outputs": [],
   "source": [
    "TD = CustomTextDataset(df['text_clean'], df['city'], df['id'])"
   ]
  },
  {
   "cell_type": "code",
   "execution_count": 142,
   "id": "3fe2ee15",
   "metadata": {},
   "outputs": [],
   "source": [
    "dataloader = DataLoader(TD, batch_size=1000, shuffle=False, \n",
    "                        collate_fn=collate_fn)"
   ]
  },
  {
   "cell_type": "code",
   "execution_count": 143,
   "id": "74f88f07",
   "metadata": {},
   "outputs": [
    {
     "name": "stdout",
     "output_type": "stream",
     "text": [
      "beginning dataloader 0\n",
      "beginning dataloader 1\n",
      "beginning dataloader 2\n",
      "beginning dataloader 3\n",
      "beginning dataloader 4\n",
      "beginning dataloader 5\n",
      "beginning dataloader 6\n",
      "beginning dataloader 7\n",
      "beginning dataloader 8\n",
      "beginning dataloader 9\n",
      "beginning dataloader 10\n",
      "beginning dataloader 11\n",
      "beginning dataloader 12\n",
      "beginning dataloader 13\n",
      "beginning dataloader 14\n",
      "beginning dataloader 15\n",
      "beginning dataloader 16\n",
      "beginning dataloader 17\n",
      "beginning dataloader 18\n",
      "beginning dataloader 19\n",
      "beginning dataloader 20\n",
      "beginning dataloader 21\n",
      "beginning dataloader 22\n",
      "beginning dataloader 23\n",
      "beginning dataloader 24\n",
      "beginning dataloader 25\n",
      "beginning dataloader 26\n",
      "beginning dataloader 27\n"
     ]
    }
   ],
   "source": [
    "#label = []\n",
    "original_text = []\n",
    "cities = []\n",
    "preds = []\n",
    "ids = []\n",
    "for i, (ot, text_list, city, id_list) in enumerate(dataloader):\n",
    "    total += len(lt)\n",
    "    print(\"beginning dataloader\", i)\n",
    "    for i, t in enumerate(text_list):\n",
    "        original_text.append(ot[i])\n",
    "        #correct.append(lt[i])\n",
    "        output = model(**t)\n",
    "        scores = output[0][0].detach().numpy()\n",
    "        scores = softmax(scores)\n",
    "        prediction = np.argmax(scores)\n",
    "        preds.append(prediction)\n",
    "    cities.extend(city)\n",
    "    ids.extend(id_list)"
   ]
  },
  {
   "cell_type": "code",
   "execution_count": 126,
   "id": "f8cce844",
   "metadata": {},
   "outputs": [
    {
     "data": {
      "text/plain": [
       "54782"
      ]
     },
     "execution_count": 126,
     "metadata": {},
     "output_type": "execute_result"
    }
   ],
   "source": []
  },
  {
   "cell_type": "code",
   "execution_count": 144,
   "id": "ea96b3f2",
   "metadata": {},
   "outputs": [],
   "source": [
    "sent_tweets = {\"id\": ids, \"original_text\": original_text,\n",
    "               \"city\": cities, \"sentiment\": preds}"
   ]
  },
  {
   "cell_type": "code",
   "execution_count": 146,
   "id": "af1cdaa0",
   "metadata": {},
   "outputs": [
    {
     "data": {
      "text/plain": [
       "27200"
      ]
     },
     "execution_count": 146,
     "metadata": {},
     "output_type": "execute_result"
    }
   ],
   "source": [
    "len(ids)"
   ]
  },
  {
   "cell_type": "code",
   "execution_count": 147,
   "id": "04ee496f",
   "metadata": {},
   "outputs": [],
   "source": [
    "sent_tweets_df = pd.DataFrame(sent_tweets, columns = [\"id\", \"original_text\", \"city\", \"sentiment\"])"
   ]
  },
  {
   "cell_type": "code",
   "execution_count": 153,
   "id": "d65e4a1c",
   "metadata": {},
   "outputs": [],
   "source": [
    "out = sent_tweets_df.groupby(['city',])['sentiment'].value_counts(normalize=True)"
   ]
  },
  {
   "cell_type": "code",
   "execution_count": 167,
   "id": "049efb14",
   "metadata": {},
   "outputs": [
    {
     "data": {
      "text/html": [
       "<div>\n",
       "<style scoped>\n",
       "    .dataframe tbody tr th:only-of-type {\n",
       "        vertical-align: middle;\n",
       "    }\n",
       "\n",
       "    .dataframe tbody tr th {\n",
       "        vertical-align: top;\n",
       "    }\n",
       "\n",
       "    .dataframe thead th {\n",
       "        text-align: right;\n",
       "    }\n",
       "</style>\n",
       "<table border=\"1\" class=\"dataframe\">\n",
       "  <thead>\n",
       "    <tr style=\"text-align: right;\">\n",
       "      <th></th>\n",
       "      <th></th>\n",
       "      <th>sentiment</th>\n",
       "    </tr>\n",
       "    <tr>\n",
       "      <th>city</th>\n",
       "      <th>sentiment</th>\n",
       "      <th></th>\n",
       "    </tr>\n",
       "  </thead>\n",
       "  <tbody>\n",
       "    <tr>\n",
       "      <th rowspan=\"3\" valign=\"top\">Boston</th>\n",
       "      <th>1</th>\n",
       "      <td>0.481875</td>\n",
       "    </tr>\n",
       "    <tr>\n",
       "      <th>2</th>\n",
       "      <td>0.420625</td>\n",
       "    </tr>\n",
       "    <tr>\n",
       "      <th>0</th>\n",
       "      <td>0.097500</td>\n",
       "    </tr>\n",
       "    <tr>\n",
       "      <th rowspan=\"3\" valign=\"top\">Chicago</th>\n",
       "      <th>1</th>\n",
       "      <td>0.505625</td>\n",
       "    </tr>\n",
       "    <tr>\n",
       "      <th>2</th>\n",
       "      <td>0.398750</td>\n",
       "    </tr>\n",
       "    <tr>\n",
       "      <th>0</th>\n",
       "      <td>0.095625</td>\n",
       "    </tr>\n",
       "    <tr>\n",
       "      <th rowspan=\"3\" valign=\"top\">Fort Worth</th>\n",
       "      <th>1</th>\n",
       "      <td>0.675000</td>\n",
       "    </tr>\n",
       "    <tr>\n",
       "      <th>2</th>\n",
       "      <td>0.193750</td>\n",
       "    </tr>\n",
       "    <tr>\n",
       "      <th>0</th>\n",
       "      <td>0.131250</td>\n",
       "    </tr>\n",
       "    <tr>\n",
       "      <th rowspan=\"3\" valign=\"top\">Jacksonville</th>\n",
       "      <th>1</th>\n",
       "      <td>0.602500</td>\n",
       "    </tr>\n",
       "    <tr>\n",
       "      <th>2</th>\n",
       "      <td>0.341875</td>\n",
       "    </tr>\n",
       "    <tr>\n",
       "      <th>0</th>\n",
       "      <td>0.055625</td>\n",
       "    </tr>\n",
       "    <tr>\n",
       "      <th rowspan=\"3\" valign=\"top\">Kansas City</th>\n",
       "      <th>1</th>\n",
       "      <td>0.515000</td>\n",
       "    </tr>\n",
       "    <tr>\n",
       "      <th>2</th>\n",
       "      <td>0.424375</td>\n",
       "    </tr>\n",
       "    <tr>\n",
       "      <th>0</th>\n",
       "      <td>0.060625</td>\n",
       "    </tr>\n",
       "    <tr>\n",
       "      <th rowspan=\"3\" valign=\"top\">Las Vegas</th>\n",
       "      <th>1</th>\n",
       "      <td>0.548750</td>\n",
       "    </tr>\n",
       "    <tr>\n",
       "      <th>2</th>\n",
       "      <td>0.380625</td>\n",
       "    </tr>\n",
       "    <tr>\n",
       "      <th>0</th>\n",
       "      <td>0.070625</td>\n",
       "    </tr>\n",
       "    <tr>\n",
       "      <th rowspan=\"3\" valign=\"top\">Los Angeles</th>\n",
       "      <th>1</th>\n",
       "      <td>0.576875</td>\n",
       "    </tr>\n",
       "    <tr>\n",
       "      <th>2</th>\n",
       "      <td>0.360000</td>\n",
       "    </tr>\n",
       "    <tr>\n",
       "      <th>0</th>\n",
       "      <td>0.063125</td>\n",
       "    </tr>\n",
       "    <tr>\n",
       "      <th rowspan=\"3\" valign=\"top\">New Orleans</th>\n",
       "      <th>1</th>\n",
       "      <td>0.563125</td>\n",
       "    </tr>\n",
       "    <tr>\n",
       "      <th>2</th>\n",
       "      <td>0.376250</td>\n",
       "    </tr>\n",
       "    <tr>\n",
       "      <th>0</th>\n",
       "      <td>0.060625</td>\n",
       "    </tr>\n",
       "    <tr>\n",
       "      <th rowspan=\"3\" valign=\"top\">New York</th>\n",
       "      <th>1</th>\n",
       "      <td>0.577500</td>\n",
       "    </tr>\n",
       "    <tr>\n",
       "      <th>2</th>\n",
       "      <td>0.362500</td>\n",
       "    </tr>\n",
       "    <tr>\n",
       "      <th>0</th>\n",
       "      <td>0.060000</td>\n",
       "    </tr>\n",
       "    <tr>\n",
       "      <th rowspan=\"3\" valign=\"top\">Philadelphia</th>\n",
       "      <th>1</th>\n",
       "      <td>0.650000</td>\n",
       "    </tr>\n",
       "    <tr>\n",
       "      <th>2</th>\n",
       "      <td>0.215000</td>\n",
       "    </tr>\n",
       "    <tr>\n",
       "      <th>0</th>\n",
       "      <td>0.135000</td>\n",
       "    </tr>\n",
       "    <tr>\n",
       "      <th rowspan=\"3\" valign=\"top\">Phoenix</th>\n",
       "      <th>1</th>\n",
       "      <td>0.570000</td>\n",
       "    </tr>\n",
       "    <tr>\n",
       "      <th>2</th>\n",
       "      <td>0.351875</td>\n",
       "    </tr>\n",
       "    <tr>\n",
       "      <th>0</th>\n",
       "      <td>0.078125</td>\n",
       "    </tr>\n",
       "    <tr>\n",
       "      <th rowspan=\"3\" valign=\"top\">Pittsburgh</th>\n",
       "      <th>1</th>\n",
       "      <td>0.510625</td>\n",
       "    </tr>\n",
       "    <tr>\n",
       "      <th>2</th>\n",
       "      <td>0.413125</td>\n",
       "    </tr>\n",
       "    <tr>\n",
       "      <th>0</th>\n",
       "      <td>0.076250</td>\n",
       "    </tr>\n",
       "    <tr>\n",
       "      <th rowspan=\"3\" valign=\"top\">Raleigh</th>\n",
       "      <th>1</th>\n",
       "      <td>0.573750</td>\n",
       "    </tr>\n",
       "    <tr>\n",
       "      <th>2</th>\n",
       "      <td>0.373125</td>\n",
       "    </tr>\n",
       "    <tr>\n",
       "      <th>0</th>\n",
       "      <td>0.053125</td>\n",
       "    </tr>\n",
       "    <tr>\n",
       "      <th rowspan=\"3\" valign=\"top\">San Antonio</th>\n",
       "      <th>1</th>\n",
       "      <td>0.564375</td>\n",
       "    </tr>\n",
       "    <tr>\n",
       "      <th>2</th>\n",
       "      <td>0.366250</td>\n",
       "    </tr>\n",
       "    <tr>\n",
       "      <th>0</th>\n",
       "      <td>0.069375</td>\n",
       "    </tr>\n",
       "    <tr>\n",
       "      <th rowspan=\"3\" valign=\"top\">San Francisco</th>\n",
       "      <th>1</th>\n",
       "      <td>0.563125</td>\n",
       "    </tr>\n",
       "    <tr>\n",
       "      <th>2</th>\n",
       "      <td>0.368125</td>\n",
       "    </tr>\n",
       "    <tr>\n",
       "      <th>0</th>\n",
       "      <td>0.068750</td>\n",
       "    </tr>\n",
       "    <tr>\n",
       "      <th rowspan=\"3\" valign=\"top\">Tampa</th>\n",
       "      <th>1</th>\n",
       "      <td>0.574375</td>\n",
       "    </tr>\n",
       "    <tr>\n",
       "      <th>2</th>\n",
       "      <td>0.358750</td>\n",
       "    </tr>\n",
       "    <tr>\n",
       "      <th>0</th>\n",
       "      <td>0.066875</td>\n",
       "    </tr>\n",
       "    <tr>\n",
       "      <th rowspan=\"3\" valign=\"top\">Washington DC</th>\n",
       "      <th>1</th>\n",
       "      <td>0.519375</td>\n",
       "    </tr>\n",
       "    <tr>\n",
       "      <th>2</th>\n",
       "      <td>0.364375</td>\n",
       "    </tr>\n",
       "    <tr>\n",
       "      <th>0</th>\n",
       "      <td>0.116250</td>\n",
       "    </tr>\n",
       "  </tbody>\n",
       "</table>\n",
       "</div>"
      ],
      "text/plain": [
       "                         sentiment\n",
       "city          sentiment           \n",
       "Boston        1           0.481875\n",
       "              2           0.420625\n",
       "              0           0.097500\n",
       "Chicago       1           0.505625\n",
       "              2           0.398750\n",
       "              0           0.095625\n",
       "Fort Worth    1           0.675000\n",
       "              2           0.193750\n",
       "              0           0.131250\n",
       "Jacksonville  1           0.602500\n",
       "              2           0.341875\n",
       "              0           0.055625\n",
       "Kansas City   1           0.515000\n",
       "              2           0.424375\n",
       "              0           0.060625\n",
       "Las Vegas     1           0.548750\n",
       "              2           0.380625\n",
       "              0           0.070625\n",
       "Los Angeles   1           0.576875\n",
       "              2           0.360000\n",
       "              0           0.063125\n",
       "New Orleans   1           0.563125\n",
       "              2           0.376250\n",
       "              0           0.060625\n",
       "New York      1           0.577500\n",
       "              2           0.362500\n",
       "              0           0.060000\n",
       "Philadelphia  1           0.650000\n",
       "              2           0.215000\n",
       "              0           0.135000\n",
       "Phoenix       1           0.570000\n",
       "              2           0.351875\n",
       "              0           0.078125\n",
       "Pittsburgh    1           0.510625\n",
       "              2           0.413125\n",
       "              0           0.076250\n",
       "Raleigh       1           0.573750\n",
       "              2           0.373125\n",
       "              0           0.053125\n",
       "San Antonio   1           0.564375\n",
       "              2           0.366250\n",
       "              0           0.069375\n",
       "San Francisco 1           0.563125\n",
       "              2           0.368125\n",
       "              0           0.068750\n",
       "Tampa         1           0.574375\n",
       "              2           0.358750\n",
       "              0           0.066875\n",
       "Washington DC 1           0.519375\n",
       "              2           0.364375\n",
       "              0           0.116250"
      ]
     },
     "execution_count": 167,
     "metadata": {},
     "output_type": "execute_result"
    }
   ],
   "source": [
    "pd.DataFrame(out)"
   ]
  },
  {
   "cell_type": "code",
   "execution_count": 156,
   "id": "8f83cea8",
   "metadata": {},
   "outputs": [],
   "source": [
    "sent_sub = sent_tweets_df[[\"id\", \"sentiment\"]]"
   ]
  },
  {
   "cell_type": "code",
   "execution_count": 161,
   "id": "1d7aa223",
   "metadata": {},
   "outputs": [],
   "source": [
    "tweets_analysis = pd.read_csv(\"final_tweets_set.csv\")"
   ]
  },
  {
   "cell_type": "code",
   "execution_count": 163,
   "id": "9597b2ea",
   "metadata": {},
   "outputs": [],
   "source": [
    "new_tweets = tweets_analysis.merge(sent_sub, on = \"id\", how = \"inner\")"
   ]
  },
  {
   "cell_type": "code",
   "execution_count": 165,
   "id": "72b2ca09",
   "metadata": {},
   "outputs": [],
   "source": [
    "new_tweets.to_csv(\"final_tweets_set_roberta_sentiment.csv\")"
   ]
  }
 ],
 "metadata": {
  "kernelspec": {
   "display_name": "Python 3 (ipykernel)",
   "language": "python",
   "name": "python3"
  },
  "language_info": {
   "codemirror_mode": {
    "name": "ipython",
    "version": 3
   },
   "file_extension": ".py",
   "mimetype": "text/x-python",
   "name": "python",
   "nbconvert_exporter": "python",
   "pygments_lexer": "ipython3",
   "version": "3.10.10"
  }
 },
 "nbformat": 4,
 "nbformat_minor": 5
}
