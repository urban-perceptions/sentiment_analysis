{
  "cells": [
    {
      "cell_type": "code",
      "execution_count": 106,
      "metadata": {
        "colab": {
          "base_uri": "https://localhost:8080/"
        },
        "id": "9b2a2e56",
        "outputId": "49a4d405-ca14-4676-f0a1-2dabfc6ccc91"
      },
      "outputs": [
        {
          "output_type": "stream",
          "name": "stdout",
          "text": [
            "Looking in indexes: https://pypi.org/simple, https://us-python.pkg.dev/colab-wheels/public/simple/\n",
            "Requirement already satisfied: transformers in /usr/local/lib/python3.10/dist-packages (4.29.2)\n",
            "Requirement already satisfied: filelock in /usr/local/lib/python3.10/dist-packages (from transformers) (3.12.0)\n",
            "Requirement already satisfied: huggingface-hub<1.0,>=0.14.1 in /usr/local/lib/python3.10/dist-packages (from transformers) (0.14.1)\n",
            "Requirement already satisfied: numpy>=1.17 in /usr/local/lib/python3.10/dist-packages (from transformers) (1.22.4)\n",
            "Requirement already satisfied: packaging>=20.0 in /usr/local/lib/python3.10/dist-packages (from transformers) (23.1)\n",
            "Requirement already satisfied: pyyaml>=5.1 in /usr/local/lib/python3.10/dist-packages (from transformers) (6.0)\n",
            "Requirement already satisfied: regex!=2019.12.17 in /usr/local/lib/python3.10/dist-packages (from transformers) (2022.10.31)\n",
            "Requirement already satisfied: requests in /usr/local/lib/python3.10/dist-packages (from transformers) (2.27.1)\n",
            "Requirement already satisfied: tokenizers!=0.11.3,<0.14,>=0.11.1 in /usr/local/lib/python3.10/dist-packages (from transformers) (0.13.3)\n",
            "Requirement already satisfied: tqdm>=4.27 in /usr/local/lib/python3.10/dist-packages (from transformers) (4.65.0)\n",
            "Requirement already satisfied: fsspec in /usr/local/lib/python3.10/dist-packages (from huggingface-hub<1.0,>=0.14.1->transformers) (2023.4.0)\n",
            "Requirement already satisfied: typing-extensions>=3.7.4.3 in /usr/local/lib/python3.10/dist-packages (from huggingface-hub<1.0,>=0.14.1->transformers) (4.5.0)\n",
            "Requirement already satisfied: urllib3<1.27,>=1.21.1 in /usr/local/lib/python3.10/dist-packages (from requests->transformers) (1.26.15)\n",
            "Requirement already satisfied: certifi>=2017.4.17 in /usr/local/lib/python3.10/dist-packages (from requests->transformers) (2022.12.7)\n",
            "Requirement already satisfied: charset-normalizer~=2.0.0 in /usr/local/lib/python3.10/dist-packages (from requests->transformers) (2.0.12)\n",
            "Requirement already satisfied: idna<4,>=2.5 in /usr/local/lib/python3.10/dist-packages (from requests->transformers) (3.4)\n"
          ]
        }
      ],
      "source": [
        "!pip install transformers\n",
        "import torch\n",
        "import torch.nn as nn\n",
        "import transformers\n",
        "from transformers import BertModel\n",
        "from torch.utils.data import Dataset, DataLoader\n",
        "import numpy as np\n",
        "import matplotlib.pyplot as plt\n",
        "import pandas as pd\n",
        "from sklearn.model_selection import train_test_split"
      ],
      "id": "9b2a2e56"
    },
    {
      "cell_type": "code",
      "execution_count": 107,
      "metadata": {
        "colab": {
          "base_uri": "https://localhost:8080/"
        },
        "id": "c8239b8f",
        "outputId": "052709dc-391c-48f8-9ce2-f9faee359437"
      },
      "outputs": [
        {
          "output_type": "stream",
          "name": "stdout",
          "text": [
            "Using cuda.\n",
            "Drive already mounted at /content/gdrive; to attempt to forcibly remount, call drive.mount(\"/content/gdrive\", force_remount=True).\n"
          ]
        }
      ],
      "source": [
        "USE_CUDA = torch.cuda.is_available()\n",
        "\n",
        "if USE_CUDA:\n",
        "    DEVICE = torch.device('cuda')\n",
        "    print(\"Using cuda.\")\n",
        "\n",
        "SEED = 30255\n",
        "MODEL_NAME = 'bert-base-uncased'\n",
        "np.random.seed(SEED)\n",
        "torch.manual_seed(SEED)\n",
        "if USE_CUDA:\n",
        "    torch.cuda.manual_seed(SEED)\n",
        "\n",
        "COLAB = True\n",
        "\n",
        "if COLAB:\n",
        "    from google.colab import drive \n",
        "    drive.mount('/content/gdrive')\n",
        "    PATH = \"gdrive/MyDrive/NLP Project/\"\n",
        "else:\n",
        "  PATH = \"\"\n"
      ],
      "id": "c8239b8f"
    },
    {
      "cell_type": "code",
      "execution_count": 108,
      "metadata": {
        "id": "29865ab5"
      },
      "outputs": [],
      "source": [
        "tweets1 = pd.read_csv(PATH + \"data/tweet_eval_clean.csv\")"
      ],
      "id": "29865ab5"
    },
    {
      "cell_type": "code",
      "execution_count": 109,
      "metadata": {
        "colab": {
          "base_uri": "https://localhost:8080/",
          "height": 354
        },
        "id": "b9196847",
        "outputId": "9cb38717-7a8a-4da9-cde8-0f866a85b5be"
      },
      "outputs": [
        {
          "output_type": "execute_result",
          "data": {
            "text/plain": [
              "   Unnamed: 0                                               text  label  \\\n",
              "0           0  Dark Souls 3 April Launch Date Confirmed With ...      1   \n",
              "1           1  \"National hot dog day, national tequila day, t...      2   \n",
              "2           2  When girls become bandwagon fans of the Packer...      0   \n",
              "3           3  @user I may or may not have searched it up on ...      1   \n",
              "4           4  Here's your starting TUESDAY MORNING Line up a...      1   \n",
              "\n",
              "                                          text_clean  \n",
              "0  dark souls april launch date confirmed with ne...  \n",
              "1   national hot dog day national tequila day the...  \n",
              "2  when girls become bandwagon fans of the packer...  \n",
              "3     i may or may not have searched it up on google  \n",
              "4  here s your starting tuesday morning line up a...  "
            ],
            "text/html": [
              "\n",
              "  <div id=\"df-d94a456a-fb33-4e3e-8d52-315cea44c421\">\n",
              "    <div class=\"colab-df-container\">\n",
              "      <div>\n",
              "<style scoped>\n",
              "    .dataframe tbody tr th:only-of-type {\n",
              "        vertical-align: middle;\n",
              "    }\n",
              "\n",
              "    .dataframe tbody tr th {\n",
              "        vertical-align: top;\n",
              "    }\n",
              "\n",
              "    .dataframe thead th {\n",
              "        text-align: right;\n",
              "    }\n",
              "</style>\n",
              "<table border=\"1\" class=\"dataframe\">\n",
              "  <thead>\n",
              "    <tr style=\"text-align: right;\">\n",
              "      <th></th>\n",
              "      <th>Unnamed: 0</th>\n",
              "      <th>text</th>\n",
              "      <th>label</th>\n",
              "      <th>text_clean</th>\n",
              "    </tr>\n",
              "  </thead>\n",
              "  <tbody>\n",
              "    <tr>\n",
              "      <th>0</th>\n",
              "      <td>0</td>\n",
              "      <td>Dark Souls 3 April Launch Date Confirmed With ...</td>\n",
              "      <td>1</td>\n",
              "      <td>dark souls april launch date confirmed with ne...</td>\n",
              "    </tr>\n",
              "    <tr>\n",
              "      <th>1</th>\n",
              "      <td>1</td>\n",
              "      <td>\"National hot dog day, national tequila day, t...</td>\n",
              "      <td>2</td>\n",
              "      <td>national hot dog day national tequila day the...</td>\n",
              "    </tr>\n",
              "    <tr>\n",
              "      <th>2</th>\n",
              "      <td>2</td>\n",
              "      <td>When girls become bandwagon fans of the Packer...</td>\n",
              "      <td>0</td>\n",
              "      <td>when girls become bandwagon fans of the packer...</td>\n",
              "    </tr>\n",
              "    <tr>\n",
              "      <th>3</th>\n",
              "      <td>3</td>\n",
              "      <td>@user I may or may not have searched it up on ...</td>\n",
              "      <td>1</td>\n",
              "      <td>i may or may not have searched it up on google</td>\n",
              "    </tr>\n",
              "    <tr>\n",
              "      <th>4</th>\n",
              "      <td>4</td>\n",
              "      <td>Here's your starting TUESDAY MORNING Line up a...</td>\n",
              "      <td>1</td>\n",
              "      <td>here s your starting tuesday morning line up a...</td>\n",
              "    </tr>\n",
              "  </tbody>\n",
              "</table>\n",
              "</div>\n",
              "      <button class=\"colab-df-convert\" onclick=\"convertToInteractive('df-d94a456a-fb33-4e3e-8d52-315cea44c421')\"\n",
              "              title=\"Convert this dataframe to an interactive table.\"\n",
              "              style=\"display:none;\">\n",
              "        \n",
              "  <svg xmlns=\"http://www.w3.org/2000/svg\" height=\"24px\"viewBox=\"0 0 24 24\"\n",
              "       width=\"24px\">\n",
              "    <path d=\"M0 0h24v24H0V0z\" fill=\"none\"/>\n",
              "    <path d=\"M18.56 5.44l.94 2.06.94-2.06 2.06-.94-2.06-.94-.94-2.06-.94 2.06-2.06.94zm-11 1L8.5 8.5l.94-2.06 2.06-.94-2.06-.94L8.5 2.5l-.94 2.06-2.06.94zm10 10l.94 2.06.94-2.06 2.06-.94-2.06-.94-.94-2.06-.94 2.06-2.06.94z\"/><path d=\"M17.41 7.96l-1.37-1.37c-.4-.4-.92-.59-1.43-.59-.52 0-1.04.2-1.43.59L10.3 9.45l-7.72 7.72c-.78.78-.78 2.05 0 2.83L4 21.41c.39.39.9.59 1.41.59.51 0 1.02-.2 1.41-.59l7.78-7.78 2.81-2.81c.8-.78.8-2.07 0-2.86zM5.41 20L4 18.59l7.72-7.72 1.47 1.35L5.41 20z\"/>\n",
              "  </svg>\n",
              "      </button>\n",
              "      \n",
              "  <style>\n",
              "    .colab-df-container {\n",
              "      display:flex;\n",
              "      flex-wrap:wrap;\n",
              "      gap: 12px;\n",
              "    }\n",
              "\n",
              "    .colab-df-convert {\n",
              "      background-color: #E8F0FE;\n",
              "      border: none;\n",
              "      border-radius: 50%;\n",
              "      cursor: pointer;\n",
              "      display: none;\n",
              "      fill: #1967D2;\n",
              "      height: 32px;\n",
              "      padding: 0 0 0 0;\n",
              "      width: 32px;\n",
              "    }\n",
              "\n",
              "    .colab-df-convert:hover {\n",
              "      background-color: #E2EBFA;\n",
              "      box-shadow: 0px 1px 2px rgba(60, 64, 67, 0.3), 0px 1px 3px 1px rgba(60, 64, 67, 0.15);\n",
              "      fill: #174EA6;\n",
              "    }\n",
              "\n",
              "    [theme=dark] .colab-df-convert {\n",
              "      background-color: #3B4455;\n",
              "      fill: #D2E3FC;\n",
              "    }\n",
              "\n",
              "    [theme=dark] .colab-df-convert:hover {\n",
              "      background-color: #434B5C;\n",
              "      box-shadow: 0px 1px 3px 1px rgba(0, 0, 0, 0.15);\n",
              "      filter: drop-shadow(0px 1px 2px rgba(0, 0, 0, 0.3));\n",
              "      fill: #FFFFFF;\n",
              "    }\n",
              "  </style>\n",
              "\n",
              "      <script>\n",
              "        const buttonEl =\n",
              "          document.querySelector('#df-d94a456a-fb33-4e3e-8d52-315cea44c421 button.colab-df-convert');\n",
              "        buttonEl.style.display =\n",
              "          google.colab.kernel.accessAllowed ? 'block' : 'none';\n",
              "\n",
              "        async function convertToInteractive(key) {\n",
              "          const element = document.querySelector('#df-d94a456a-fb33-4e3e-8d52-315cea44c421');\n",
              "          const dataTable =\n",
              "            await google.colab.kernel.invokeFunction('convertToInteractive',\n",
              "                                                     [key], {});\n",
              "          if (!dataTable) return;\n",
              "\n",
              "          const docLinkHtml = 'Like what you see? Visit the ' +\n",
              "            '<a target=\"_blank\" href=https://colab.research.google.com/notebooks/data_table.ipynb>data table notebook</a>'\n",
              "            + ' to learn more about interactive tables.';\n",
              "          element.innerHTML = '';\n",
              "          dataTable['output_type'] = 'display_data';\n",
              "          await google.colab.output.renderOutput(dataTable, element);\n",
              "          const docLink = document.createElement('div');\n",
              "          docLink.innerHTML = docLinkHtml;\n",
              "          element.appendChild(docLink);\n",
              "        }\n",
              "      </script>\n",
              "    </div>\n",
              "  </div>\n",
              "  "
            ]
          },
          "metadata": {},
          "execution_count": 109
        }
      ],
      "source": [
        "tweets1.head()"
      ],
      "id": "b9196847"
    },
    {
      "cell_type": "code",
      "execution_count": 110,
      "metadata": {
        "id": "5e6b01e4"
      },
      "outputs": [],
      "source": [
        "tweets2 = pd.read_csv(PATH + \"data/kaggle_clean.csv\")\n",
        "tweets2['label'] = np.where(tweets2.sentiment == 'negative', 0, np.where(tweets2.sentiment == 'neutral', 1, 2))"
      ],
      "id": "5e6b01e4"
    },
    {
      "cell_type": "code",
      "execution_count": 111,
      "metadata": {
        "id": "edfbf8f8"
      },
      "outputs": [],
      "source": [
        "tweets = pd.concat([tweets1, tweets2])"
      ],
      "id": "edfbf8f8"
    },
    {
      "cell_type": "code",
      "execution_count": 112,
      "metadata": {
        "id": "2988e0d1",
        "colab": {
          "base_uri": "https://localhost:8080/"
        },
        "outputId": "de1508d0-f8b2-46d2-b121-babd49c1f140"
      },
      "outputs": [
        {
          "output_type": "execute_result",
          "data": {
            "text/plain": [
              "1    38580\n",
              "2    29617\n",
              "0    19158\n",
              "Name: label, dtype: int64"
            ]
          },
          "metadata": {},
          "execution_count": 112
        }
      ],
      "source": [
        "tweets.label.value_counts()"
      ],
      "id": "2988e0d1"
    },
    {
      "cell_type": "code",
      "execution_count": 113,
      "metadata": {
        "colab": {
          "base_uri": "https://localhost:8080/"
        },
        "id": "be6546ff",
        "outputId": "fa820438-3e0d-47ec-d0ce-66c927a7eae6"
      },
      "outputs": [
        {
          "output_type": "execute_result",
          "data": {
            "text/plain": [
              "87355"
            ]
          },
          "metadata": {},
          "execution_count": 113
        }
      ],
      "source": [
        "len(tweets)"
      ],
      "id": "be6546ff"
    },
    {
      "cell_type": "code",
      "execution_count": 114,
      "metadata": {
        "id": "49cd3307"
      },
      "outputs": [],
      "source": [
        "tweets.dropna(inplace=True, subset=['text_clean'])"
      ],
      "id": "49cd3307"
    },
    {
      "cell_type": "code",
      "execution_count": 115,
      "metadata": {
        "colab": {
          "base_uri": "https://localhost:8080/"
        },
        "id": "9b2c1760",
        "outputId": "1de138b9-e560-4538-85c9-94e3a3faa80a"
      },
      "outputs": [
        {
          "output_type": "execute_result",
          "data": {
            "text/plain": [
              "87352"
            ]
          },
          "metadata": {},
          "execution_count": 115
        }
      ],
      "source": [
        "len(tweets)"
      ],
      "id": "9b2c1760"
    },
    {
      "cell_type": "code",
      "execution_count": 116,
      "metadata": {
        "id": "12848417"
      },
      "outputs": [],
      "source": [
        "tweets['word_counts'] = tweets.text_clean.str.split().map(len)"
      ],
      "id": "12848417"
    },
    {
      "cell_type": "code",
      "execution_count": 117,
      "metadata": {
        "colab": {
          "base_uri": "https://localhost:8080/",
          "height": 447
        },
        "id": "f5bfed57",
        "outputId": "391e2118-1f94-4ea5-901a-005fe668c3a3"
      },
      "outputs": [
        {
          "output_type": "execute_result",
          "data": {
            "text/plain": [
              "<Axes: >"
            ]
          },
          "metadata": {},
          "execution_count": 117
        },
        {
          "output_type": "display_data",
          "data": {
            "text/plain": [
              "<Figure size 640x480 with 1 Axes>"
            ],
            "image/png": "[encoded data removed]"
          },
          "metadata": {}
        }
      ],
      "source": [
        "tweets.word_counts.hist()"
      ],
      "id": "f5bfed57"
    },
    {
      "cell_type": "code",
      "execution_count": 118,
      "metadata": {
        "id": "2ef7ea79"
      },
      "outputs": [],
      "source": [
        "MAX_LENGTH = 32"
      ],
      "id": "2ef7ea79"
    },
    {
      "cell_type": "code",
      "execution_count": 119,
      "metadata": {
        "colab": {
          "base_uri": "https://localhost:8080/"
        },
        "id": "64605952",
        "outputId": "f7f30d3b-c3b8-4b7e-b23d-203a328af05c"
      },
      "outputs": [
        {
          "output_type": "stream",
          "name": "stdout",
          "text": [
            "(69881, 10) (8736, 10) (8735, 10)\n"
          ]
        }
      ],
      "source": [
        "train_df , test_df  = train_test_split(tweets, test_size = 0.2, random_state = SEED, shuffle = True)\n",
        "val_df , test_df  = train_test_split(test_df, test_size = 0.5, random_state = SEED, shuffle = True)\n",
        "\n",
        "print(train_df.shape , test_df.shape , val_df.shape)"
      ],
      "id": "64605952"
    },
    {
      "cell_type": "code",
      "execution_count": 120,
      "metadata": {
        "id": "c6e343df"
      },
      "outputs": [],
      "source": [
        "class Tweets(Dataset):\n",
        "    def __init__(self, text, target, tokenizer, max_len):\n",
        "        self.text = text\n",
        "        self.target = target\n",
        "        self.tokenizer = tokenizer\n",
        "        self.max_len = max_len\n",
        "        \n",
        "    def __len__(self):\n",
        "        return len(self.text)\n",
        "    \n",
        "    def __getitem__(self,idx):\n",
        "        text = self.text[idx]\n",
        "        encoding = self.tokenizer.encode_plus(\n",
        "                          text,\n",
        "                          add_special_tokens=True,\n",
        "                          max_length=self.max_len,\n",
        "                          truncation=True,\n",
        "                          return_token_type_ids=False,\n",
        "                          pad_to_max_length=True,\n",
        "                          return_attention_mask=True,\n",
        "                          return_tensors='pt')\n",
        "        \n",
        "        return {'text' : text,\n",
        "                'input_id': encoding['input_ids'].flatten(),\n",
        "                'attention_mask':encoding['attention_mask'].flatten(),\n",
        "                'target': torch.tensor(self.target[idx], dtype = torch.long)\n",
        "               }\n",
        "        "
      ],
      "id": "c6e343df"
    },
    {
      "cell_type": "code",
      "execution_count": 121,
      "metadata": {
        "id": "925b5b7a"
      },
      "outputs": [],
      "source": [
        "tokenizer = transformers.BertTokenizer.from_pretrained(MODEL_NAME)\n",
        "\n",
        "training_data = Tweets(text = train_df.text_clean.to_numpy(),\n",
        "                               target = train_df.label.to_numpy(),\n",
        "                               tokenizer = tokenizer,\n",
        "                               max_len = MAX_LENGTH)\n",
        "\n",
        "validation_data = Tweets(text = val_df.text_clean.to_numpy(),\n",
        "                               target = val_df.label.to_numpy(),\n",
        "                               tokenizer = tokenizer,\n",
        "                               max_len = MAX_LENGTH)\n",
        "\n",
        "test_data = Tweets(text = test_df.text_clean.to_numpy(),\n",
        "                               target = test_df.label.to_numpy(),\n",
        "                               tokenizer = tokenizer,\n",
        "                               max_len = MAX_LENGTH)"
      ],
      "id": "925b5b7a"
    },
    {
      "cell_type": "code",
      "execution_count": 122,
      "metadata": {
        "id": "4e80eac5"
      },
      "outputs": [],
      "source": [
        "BATCH_SIZE = 64\n",
        "train_loader = DataLoader(training_data , batch_size = BATCH_SIZE , shuffle = True)\n",
        "test_loader = DataLoader(test_data , batch_size = BATCH_SIZE , shuffle = False)\n",
        "val_loader = DataLoader(validation_data , batch_size = BATCH_SIZE , shuffle = False)"
      ],
      "id": "4e80eac5"
    },
    {
      "cell_type": "code",
      "execution_count": 123,
      "metadata": {
        "id": "2250475b"
      },
      "outputs": [],
      "source": [
        "class TweetSentimentClassifier(nn.Module):\n",
        "    def __init__(self, num_classes, hid_dim, dropout=0.3):\n",
        "        super(TweetSentimentClassifier,self).__init__()\n",
        "        self.bert = BertModel.from_pretrained(MODEL_NAME, hidden_dropout_prob=0.2, attention_probs_dropout_prob=0.2)\n",
        "        self.RNN = nn.RNN(self.bert.config.hidden_size, hid_dim, dropout=dropout, num_layers=2)\n",
        "        self.hidden = nn.Linear(hid_dim, num_classes)\n",
        "        self.dropout = nn.Dropout(p=dropout)\n",
        "        \n",
        "    def forward(self,input_ids , attention_mask, hidden0=None):\n",
        "        bert_out = self.bert(input_ids, attention_mask)[0] \n",
        "        rnn_out, hidden1 = self.RNN(bert_out, hidden0)\n",
        "        dropout_out = self.dropout(rnn_out)\n",
        "        hidden_out = self.hidden(dropout_out)\n",
        "        final_out = nn.functional.log_softmax(hidden_out, dim=1)          \n",
        "        return final_out[:, -1, :], hidden1"
      ],
      "id": "2250475b"
    },
    {
      "cell_type": "code",
      "execution_count": 124,
      "metadata": {
        "colab": {
          "base_uri": "https://localhost:8080/"
        },
        "id": "5506f55d",
        "outputId": "17061d1c-d924-48b8-85dc-74f0bee892ec"
      },
      "outputs": [
        {
          "output_type": "stream",
          "name": "stderr",
          "text": [
            "Some weights of the model checkpoint at bert-base-uncased were not used when initializing BertModel: ['cls.predictions.bias', 'cls.predictions.transform.LayerNorm.weight', 'cls.predictions.transform.dense.weight', 'cls.seq_relationship.weight', 'cls.predictions.decoder.weight', 'cls.predictions.transform.LayerNorm.bias', 'cls.predictions.transform.dense.bias', 'cls.seq_relationship.bias']\n",
            "- This IS expected if you are initializing BertModel from the checkpoint of a model trained on another task or with another architecture (e.g. initializing a BertForSequenceClassification model from a BertForPreTraining model).\n",
            "- This IS NOT expected if you are initializing BertModel from the checkpoint of a model that you expect to be exactly identical (initializing a BertForSequenceClassification model from a BertForSequenceClassification model).\n"
          ]
        }
      ],
      "source": [
        "NUM_CLASSES = 3\n",
        "HIDDEN_DIM = 128\n",
        "\n",
        "model = TweetSentimentClassifier(NUM_CLASSES, HIDDEN_DIM)\n",
        "\n",
        "if USE_CUDA:\n",
        "  model = model.cuda()"
      ],
      "id": "5506f55d"
    },
    {
      "cell_type": "code",
      "execution_count": 125,
      "metadata": {
        "colab": {
          "base_uri": "https://localhost:8080/"
        },
        "id": "08fd6765",
        "outputId": "3108239d-40ad-493c-9345-2bdda649d27e"
      },
      "outputs": [
        {
          "output_type": "stream",
          "name": "stderr",
          "text": [
            "/usr/local/lib/python3.10/dist-packages/transformers/optimization.py:407: FutureWarning: This implementation of AdamW is deprecated and will be removed in a future version. Use the PyTorch implementation torch.optim.AdamW instead, or set `no_deprecation_warning=True` to disable this warning\n",
            "  warnings.warn(\n"
          ]
        }
      ],
      "source": [
        "learning_rate = 2e-5\n",
        "EPOCHS = 10\n",
        "total_steps = len(train_loader) * EPOCHS\n",
        "\n",
        "loss_fn = torch.nn.CrossEntropyLoss()\n",
        "\n",
        "optimizer = transformers.AdamW(params = model.parameters(),lr = learning_rate, correct_bias= False)\n",
        "\n",
        "scheduler = transformers.get_linear_schedule_with_warmup(optimizer = optimizer,\n",
        "                                                        num_warmup_steps = 0,\n",
        "                                                        num_training_steps = total_steps)"
      ],
      "id": "08fd6765"
    },
    {
      "cell_type": "code",
      "execution_count": 126,
      "metadata": {
        "id": "684807f1"
      },
      "outputs": [],
      "source": [
        "def evaluate(model, data_loader, n_examples):\n",
        "    model.eval()  \n",
        "    correct_pred = 0\n",
        "    \n",
        "    with torch.no_grad():\n",
        "        hidden = None\n",
        "        for batch in data_loader:\n",
        "            input_ids = batch['input_id']\n",
        "            attention_masks = batch['attention_mask']\n",
        "            targets = batch['target']\n",
        "            if USE_CUDA:\n",
        "              input_ids = input_ids.cuda()\n",
        "              attention_masks = attention_masks.cuda()\n",
        "              targets = targets.cuda()\n",
        "\n",
        "            output, hidden = model(input_ids, attention_masks, hidden)\n",
        "            _,pred_classes = torch.max(output, dim=1)\n",
        "\n",
        "            correct_pred += torch.sum(pred_classes==targets)\n",
        "            \n",
        "    return correct_pred / n_examples"
      ],
      "id": "684807f1"
    },
    {
      "cell_type": "code",
      "execution_count": 127,
      "metadata": {
        "id": "e92f416f"
      },
      "outputs": [],
      "source": [
        "def repackage_hidden(h):\n",
        "    \"\"\"Wraps hidden states in new Tensors, to detach them from their history.\"\"\"\n",
        "    if h is None:\n",
        "        return None\n",
        "    elif isinstance(h, torch.Tensor):\n",
        "        return h.detach()\n",
        "    else:\n",
        "        return tuple(repackage_hidden(v) for v in h)\n",
        "\n",
        "def train_model(model, data_loader, criterion, optimizer, scheduler, n_examples, train_log_interval):\n",
        "    \n",
        "    model.train()\n",
        "    correct_pred = 0\n",
        "    hidden = None\n",
        "    for i, batch in enumerate(data_loader):\n",
        "        input_ids = batch['input_id']\n",
        "        attention_masks = batch['attention_mask']\n",
        "        targets = batch['target']\n",
        "\n",
        "        if USE_CUDA:\n",
        "            input_ids = input_ids.cuda()\n",
        "            attention_masks = attention_masks.cuda()\n",
        "            targets = targets.cuda()\n",
        "        hidden = repackage_hidden(hidden)\n",
        "        output, hidden = model(input_ids , attention_masks, hidden)\n",
        "        #outputs = model(input_ids , attention_masks, labels=targets)\n",
        "\n",
        "        loss = criterion(output, targets)\n",
        "        _, pred_classes = torch.max(output, dim=1)\n",
        "        #loss = outputs.loss\n",
        "        loss.backward()\n",
        "        nn.utils.clip_grad_norm_(model.parameters(), max_norm=1.0) # hack to avoid gradient explotion\n",
        "        optimizer.step()\n",
        "        scheduler.step()\n",
        "        optimizer.zero_grad()\n",
        "        \n",
        "        correct_pred += torch.sum(pred_classes==targets)\n",
        "\n",
        "        if (i + 1) % train_log_interval == 0:\n",
        "            print(f\"At iteration {i + 1} the train loss is {loss:.3f}.\")\n",
        "    \n",
        "    return correct_pred / n_examples\n",
        "   "
      ],
      "id": "e92f416f"
    },
    {
      "cell_type": "code",
      "execution_count": 128,
      "metadata": {
        "id": "7e9d67ef"
      },
      "outputs": [],
      "source": [
        "TRAIN_LOG_INTERVAL = 300\n",
        "MODEL_PATH = PATH + \"best_sentiment_classifier_x.pt\"\n",
        "\n",
        "def run_training_loops(model, train_loader, val_loader, criterion, optimizer, scheduler, epochs):\n",
        "    train_accs = []\n",
        "    valid_accs = []\n",
        "    best_valid_acc = 0\n",
        "    \n",
        "    for epoch in range(epochs):\n",
        "        train_acc = train_model(model, train_loader, criterion, optimizer, scheduler, len(train_df), TRAIN_LOG_INTERVAL)\n",
        "        valid_acc = evaluate(model, val_loader, len(val_df))\n",
        "        train_accs.append(train_acc)\n",
        "        valid_accs.append(valid_acc)\n",
        "        \n",
        "        print(f\"After epoch {epoch+1} training accuracy is {train_acc}\")\n",
        "        print(f\"After epoch {epoch+1} validation accuracy is {valid_acc}\")\n",
        "        \n",
        "        if valid_acc > best_valid_acc:\n",
        "            best_valid_acc = valid_acc\n",
        "            torch.save(model.state_dict(), MODEL_PATH)\n",
        "            \n",
        "            \n",
        "    return train_accs, valid_accs\n",
        "        \n",
        "\n",
        "        \n",
        "    "
      ],
      "id": "7e9d67ef"
    },
    {
      "cell_type": "code",
      "execution_count": 129,
      "metadata": {
        "colab": {
          "base_uri": "https://localhost:8080/"
        },
        "id": "cc386838",
        "outputId": "6742bcc5-0f36-4bce-ae2e-c82d58676c88"
      },
      "outputs": [
        {
          "output_type": "stream",
          "name": "stderr",
          "text": [
            "/usr/local/lib/python3.10/dist-packages/transformers/tokenization_utils_base.py:2364: FutureWarning: The `pad_to_max_length` argument is deprecated and will be removed in a future version, use `padding=True` or `padding='longest'` to pad to the longest sequence in the batch, or use `padding='max_length'` to pad to a max length. In this case, you can give a specific length with `max_length` (e.g. `max_length=45`) or leave max_length to None to pad to the maximal input size of the model (e.g. 512 for Bert).\n",
            "  warnings.warn(\n"
          ]
        },
        {
          "output_type": "stream",
          "name": "stdout",
          "text": [
            "At iteration 300 the train loss is 0.645.\n",
            "At iteration 600 the train loss is 0.672.\n",
            "At iteration 900 the train loss is 0.581.\n",
            "After epoch 1 training accuracy is 0.684649646282196\n",
            "After epoch 1 validation accuracy is 0.7303949594497681\n",
            "At iteration 300 the train loss is 0.545.\n",
            "At iteration 600 the train loss is 0.650.\n",
            "At iteration 900 the train loss is 0.385.\n",
            "After epoch 2 training accuracy is 0.7568008303642273\n",
            "After epoch 2 validation accuracy is 0.7337149381637573\n",
            "At iteration 300 the train loss is 0.597.\n",
            "At iteration 600 the train loss is 0.456.\n",
            "At iteration 900 the train loss is 0.485.\n",
            "After epoch 3 training accuracy is 0.7882686257362366\n",
            "After epoch 3 validation accuracy is 0.7308529019355774\n",
            "At iteration 300 the train loss is 0.540.\n",
            "At iteration 600 the train loss is 0.486.\n",
            "At iteration 900 the train loss is 0.328.\n",
            "After epoch 4 training accuracy is 0.8172321319580078\n",
            "After epoch 4 validation accuracy is 0.7331425547599792\n",
            "At iteration 300 the train loss is 0.386.\n",
            "At iteration 600 the train loss is 0.322.\n",
            "At iteration 900 the train loss is 0.445.\n",
            "After epoch 5 training accuracy is 0.8403571844100952\n",
            "After epoch 5 validation accuracy is 0.7252432703971863\n",
            "At iteration 300 the train loss is 0.437.\n",
            "At iteration 600 the train loss is 0.375.\n",
            "At iteration 900 the train loss is 0.505.\n",
            "After epoch 6 training accuracy is 0.8586024641990662\n",
            "After epoch 6 validation accuracy is 0.7340583801269531\n",
            "At iteration 300 the train loss is 0.314.\n",
            "At iteration 600 the train loss is 0.169.\n",
            "At iteration 900 the train loss is 0.402.\n",
            "After epoch 7 training accuracy is 0.877792239189148\n",
            "After epoch 7 validation accuracy is 0.721923291683197\n",
            "At iteration 300 the train loss is 0.256.\n",
            "At iteration 600 the train loss is 0.318.\n",
            "At iteration 900 the train loss is 0.300.\n",
            "After epoch 8 training accuracy is 0.8890542387962341\n",
            "After epoch 8 validation accuracy is 0.7279908657073975\n",
            "At iteration 300 the train loss is 0.237.\n",
            "At iteration 600 the train loss is 0.168.\n",
            "At iteration 900 the train loss is 0.303.\n",
            "After epoch 9 training accuracy is 0.8981268405914307\n",
            "After epoch 9 validation accuracy is 0.725014328956604\n",
            "At iteration 300 the train loss is 0.292.\n",
            "At iteration 600 the train loss is 0.264.\n",
            "At iteration 900 the train loss is 0.206.\n",
            "After epoch 10 training accuracy is 0.9054964780807495\n",
            "After epoch 10 validation accuracy is 0.7242129445075989\n"
          ]
        }
      ],
      "source": [
        "training_accuracy, validation_accuracy = run_training_loops(model, train_loader, val_loader, loss_fn, optimizer, scheduler, EPOCHS)"
      ],
      "id": "cc386838"
    },
    {
      "cell_type": "code",
      "execution_count": 130,
      "metadata": {
        "id": "db5423e4"
      },
      "outputs": [],
      "source": [
        "def get_predictions(model, data_loader):\n",
        "    model = model.eval()\n",
        "\n",
        "    tweets = []\n",
        "    predictions = []\n",
        "    prediction_probs = []\n",
        "    real_values = []\n",
        "\n",
        "    with torch.no_grad():\n",
        "        hidden = None\n",
        "        for batch in data_loader:\n",
        "\n",
        "            texts = batch[\"text\"]\n",
        "            input_ids = batch[\"input_id\"]\n",
        "            attention_masks = batch[\"attention_mask\"]\n",
        "            targets = batch[\"target\"]\n",
        "\n",
        "            if USE_CUDA:\n",
        "              input_ids = input_ids.cuda()\n",
        "              attention_masks = attention_masks.cuda()\n",
        "              targets = targets.cuda()\n",
        "\n",
        "            outputs, hidden = model(input_ids,attention_masks, hidden)\n",
        "            \n",
        "            _, preds = torch.max(outputs, dim=1)\n",
        "\n",
        "            probs = nn.functional.softmax(outputs, dim=1)\n",
        "\n",
        "            tweets.extend(texts)\n",
        "            predictions.extend(preds)\n",
        "            prediction_probs.extend(probs)\n",
        "            real_values.extend(targets)\n",
        "\n",
        "    predictions = torch.stack(predictions).cuda()\n",
        "    prediction_probs = torch.stack(prediction_probs).cuda()\n",
        "    real_values = torch.stack(real_values).cuda()\n",
        "    return tweets, predictions, prediction_probs, real_values"
      ],
      "id": "db5423e4"
    },
    {
      "cell_type": "code",
      "execution_count": 131,
      "metadata": {
        "colab": {
          "base_uri": "https://localhost:8080/"
        },
        "id": "zubkYYTwbHXd",
        "outputId": "66b18eeb-94e3-4d02-913d-971d1ed9ada4"
      },
      "outputs": [
        {
          "output_type": "execute_result",
          "data": {
            "text/plain": [
              "<All keys matched successfully>"
            ]
          },
          "metadata": {},
          "execution_count": 131
        }
      ],
      "source": [
        "model.load_state_dict(torch.load(MODEL_PATH))"
      ],
      "id": "zubkYYTwbHXd"
    },
    {
      "cell_type": "code",
      "execution_count": 132,
      "metadata": {
        "id": "RlJaXiN6M76-"
      },
      "outputs": [],
      "source": [
        "y_tweets, y_pred, y_pred_probs, y_test = get_predictions(model,test_loader)"
      ],
      "id": "RlJaXiN6M76-"
    },
    {
      "cell_type": "code",
      "execution_count": 133,
      "metadata": {
        "colab": {
          "base_uri": "https://localhost:8080/",
          "height": 466
        },
        "id": "p9SYY09lMVh8",
        "outputId": "af84a1d2-85d6-486d-e5a3-d809178b6fc0"
      },
      "outputs": [
        {
          "output_type": "execute_result",
          "data": {
            "text/plain": [
              "<sklearn.metrics._plot.confusion_matrix.ConfusionMatrixDisplay at 0x7fa4411d14e0>"
            ]
          },
          "metadata": {},
          "execution_count": 133
        },
        {
          "output_type": "display_data",
          "data": {
            "text/plain": [
              "<Figure size 640x480 with 2 Axes>"
            ],
            "image/png": "[encoded data removed]"
          },
          "metadata": {}
        }
      ],
      "source": [
        "from sklearn.metrics import confusion_matrix, ConfusionMatrixDisplay\n",
        "\n",
        "y_test = y_test.cpu()\n",
        "y_pred = y_pred.cpu()\n",
        "\n",
        "cm = confusion_matrix(y_test, y_pred)\n",
        "\n",
        "disp = ConfusionMatrixDisplay(confusion_matrix=cm, display_labels=['Negative', 'Neutral', \"Positive\"])\n",
        "disp.plot()"
      ],
      "id": "p9SYY09lMVh8"
    },
    {
      "cell_type": "code",
      "execution_count": 134,
      "metadata": {
        "colab": {
          "base_uri": "https://localhost:8080/"
        },
        "id": "gRhuOl73OMfb",
        "outputId": "26390387-fc85-4920-e155-121c41bb739b"
      },
      "outputs": [
        {
          "output_type": "stream",
          "name": "stdout",
          "text": [
            "Test Accuracy: 0.7313416004180908\n"
          ]
        }
      ],
      "source": [
        "print(f\"Test Accuracy: {(y_test == y_pred).sum()/len(y_test)}\")"
      ],
      "id": "gRhuOl73OMfb"
    },
    {
      "cell_type": "code",
      "execution_count": 135,
      "metadata": {
        "id": "eLtoLVz5cJNB"
      },
      "outputs": [],
      "source": [
        "accuarcy_df = pd.DataFrame({\"training_accuarcy\": [t.detach().cpu() for t in training_accuracy], })"
      ],
      "id": "eLtoLVz5cJNB"
    },
    {
      "cell_type": "code",
      "execution_count": 136,
      "metadata": {
        "colab": {
          "base_uri": "https://localhost:8080/",
          "height": 449
        },
        "id": "CidI2bdbdESh",
        "outputId": "5da707c0-5425-48d2-ef8f-22ca76db7347"
      },
      "outputs": [
        {
          "output_type": "display_data",
          "data": {
            "text/plain": [
              "<Figure size 640x480 with 1 Axes>"
            ],
            "image/png": "[encoded data removed]"
          },
          "metadata": {}
        }
      ],
      "source": [
        "plt.plot(range(1, len(training_accuracy) + 1),[t.detach().cpu() for t in training_accuracy], label=\"Training\" )\n",
        "plt.plot(range(1, len(validation_accuracy) + 1),[t.detach().cpu() for t in validation_accuracy], label=\"Validation\" )\n",
        "plt.legend()\n",
        "plt.xlabel(\"Epochs\")\n",
        "plt.ylabel(\"Accuracy\")\n",
        "plt.savefig(PATH + \"sentiment_classifier_accuracy1.png\")"
      ],
      "id": "CidI2bdbdESh"
    },
    {
      "cell_type": "code",
      "execution_count": 137,
      "metadata": {
        "id": "nFsAq1YXcS4c"
      },
      "outputs": [],
      "source": [
        "from sklearn.metrics import precision_recall_fscore_support"
      ],
      "id": "nFsAq1YXcS4c"
    },
    {
      "cell_type": "code",
      "source": [
        "precision_recall_fscore_support(y_test, y_pred)"
      ],
      "metadata": {
        "colab": {
          "base_uri": "https://localhost:8080/"
        },
        "id": "s-ly5BPJQ0et",
        "outputId": "bcd50721-aaea-40fa-e019-c7f99bd63626"
      },
      "id": "s-ly5BPJQ0et",
      "execution_count": 138,
      "outputs": [
        {
          "output_type": "execute_result",
          "data": {
            "text/plain": [
              "(array([0.75358852, 0.71600418, 0.73796296]),\n",
              " array([0.66037736, 0.70895909, 0.80613621]),\n",
              " array([0.70391061, 0.71246422, 0.77054463]),\n",
              " array([1908, 3862, 2966]))"
            ]
          },
          "metadata": {},
          "execution_count": 138
        }
      ]
    },
    {
      "cell_type": "code",
      "source": [
        "res = torch.max(y_pred_probs, dim=1) "
      ],
      "metadata": {
        "id": "KrQWk6fxRxCD"
      },
      "id": "KrQWk6fxRxCD",
      "execution_count": 139,
      "outputs": []
    },
    {
      "cell_type": "code",
      "source": [
        "y_pred2 = torch.where(res[0] > .75, res[1], 1) "
      ],
      "metadata": {
        "id": "I_LJcfVeSj2M"
      },
      "id": "I_LJcfVeSj2M",
      "execution_count": 140,
      "outputs": []
    },
    {
      "cell_type": "code",
      "source": [
        "y_pred2 = y_pred2.cpu()\n",
        "cm = confusion_matrix(y_test, y_pred2)\n",
        "\n",
        "disp = ConfusionMatrixDisplay(confusion_matrix=cm, display_labels=['Negative', 'Neutral', \"Positive\"])\n",
        "disp.plot()"
      ],
      "metadata": {
        "colab": {
          "base_uri": "https://localhost:8080/",
          "height": 466
        },
        "id": "OAaGPplzS20v",
        "outputId": "cca17043-181d-4532-a8c6-0f1607f4f2a6"
      },
      "id": "OAaGPplzS20v",
      "execution_count": 141,
      "outputs": [
        {
          "output_type": "execute_result",
          "data": {
            "text/plain": [
              "<sklearn.metrics._plot.confusion_matrix.ConfusionMatrixDisplay at 0x7fa3d2837760>"
            ]
          },
          "metadata": {},
          "execution_count": 141
        },
        {
          "output_type": "display_data",
          "data": {
            "text/plain": [
              "<Figure size 640x480 with 2 Axes>"
            ],
            "image/png": "[encoded data removed]"
          },
          "metadata": {}
        }
      ]
    },
    {
      "cell_type": "code",
      "source": [
        "precision_recall_fscore_support(y_test, y_pred2)"
      ],
      "metadata": {
        "colab": {
          "base_uri": "https://localhost:8080/"
        },
        "id": "3Bd0_6BDTL94",
        "outputId": "fccd8e99-7851-4647-fdc9-3ce33c990844"
      },
      "id": "3Bd0_6BDTL94",
      "execution_count": 142,
      "outputs": [
        {
          "output_type": "execute_result",
          "data": {
            "text/plain": [
              "(array([0.80586907, 0.66346154, 0.78804547]),\n",
              " array([0.56132075, 0.80398757, 0.72454484]),\n",
              " array([0.66172382, 0.72699602, 0.75496223]),\n",
              " array([1908, 3862, 2966]))"
            ]
          },
          "metadata": {},
          "execution_count": 142
        }
      ]
    },
    {
      "cell_type": "code",
      "source": [
        "our_tweets = pd.read_csv(PATH + 'data/tweets_with_topics.csv', sep='\\t')"
      ],
      "metadata": {
        "id": "sDMta8iWiAoh"
      },
      "id": "sDMta8iWiAoh",
      "execution_count": 151,
      "outputs": []
    },
    {
      "cell_type": "code",
      "source": [
        "our_tweets.head()"
      ],
      "metadata": {
        "colab": {
          "base_uri": "https://localhost:8080/",
          "height": 548
        },
        "id": "_C0McEMliYlj",
        "outputId": "6b2067f4-cadf-4046-8d5e-b388e479c84f"
      },
      "id": "_C0McEMliYlj",
      "execution_count": 153,
      "outputs": [
        {
          "output_type": "execute_result",
          "data": {
            "text/plain": [
              "   Unnamed: 0.1  Unnamed: 0   edit_history_tweet_ids            author_id  \\\n",
              "0             0        1268  ['1391443346443411457']  1267945445084598274   \n",
              "1             1        4672  ['1311653244112957440']              5445832   \n",
              "2             2        2327  ['1423822631577456648']             41679815   \n",
              "3             3          66  ['1287040376738635776']            347029713   \n",
              "4             4        2525  ['1376576317903241217']             41679815   \n",
              "\n",
              "                 created_at      conversation_id            id  \\\n",
              "0  2021-05-09T17:22:00.000Z  1391443346443411457  1.391443e+18   \n",
              "1  2020-10-01T13:04:37.000Z  1311653244112957440  1.311653e+18   \n",
              "2  2021-08-07T01:45:43.000Z  1423822631577456648  1.423823e+18   \n",
              "3  2020-07-25T15:01:52.000Z  1287040376738635776  1.287040e+18   \n",
              "4  2021-03-29T16:45:44.000Z  1376576317903241217  1.376576e+18   \n",
              "\n",
              "                                                text      geo.place_id  \\\n",
              "0  Does #FortWorth ever cross your mind? \\nhttps:...               NaN   \n",
              "1  P.F.L. Always! 2004-06\\n.\\n.\\nFollow @playarab...  42e46bc3663a4b5f   \n",
              "2  Disabled vehicle, right lane blocked in #FortW...  42e46bc3663a4b5f   \n",
              "3  Pickup Man the Cowboy’s Cowboy🤠  #stockyardsch...  42e46bc3663a4b5f   \n",
              "4  Accident. two left lanes blocked. in #FortWort...  42e46bc3663a4b5f   \n",
              "\n",
              "  referenced_tweets        city  inside withheld.copyright  \\\n",
              "0               NaN  Fort Worth     1.0                NaN   \n",
              "1               NaN  Fort Worth     1.0                NaN   \n",
              "2               NaN  Fort Worth     1.0                NaN   \n",
              "3               NaN  Fort Worth     1.0                NaN   \n",
              "4               NaN  Fort Worth     1.0                NaN   \n",
              "\n",
              "  withheld.country_codes  withheld.scope  \\\n",
              "0                    NaN             NaN   \n",
              "1                    NaN             NaN   \n",
              "2                    NaN             NaN   \n",
              "3                    NaN             NaN   \n",
              "4                    NaN             NaN   \n",
              "\n",
              "                                             hashtag  \\\n",
              "0         ['FortWorth', 'Stockyards', 'SUV', 'Limo']   \n",
              "1  ['playarabbit', 'theparksmall', 'fortworth', '...   \n",
              "2                        ['FortWorth', 'DFWTraffic']   \n",
              "3  ['stockyardschampionshiprodeo', 'stockyardspro...   \n",
              "4                        ['FortWorth', 'DFWTraffic']   \n",
              "\n",
              "                                     text_hash_split  \\\n",
              "0  Does fort worth ever cross your mind? \\nhttps:...   \n",
              "1  P.F.L. Always! 2004-06\\n.\\n.\\nFollow @playarab...   \n",
              "2  Disabled vehicle, right lane blocked in fort w...   \n",
              "3  Pickup Man the Cowboy’s Cowboy🤠  stockyardscha...   \n",
              "4  Accident. two left lanes blocked. in fort wort...   \n",
              "\n",
              "                                          text_clean  dominant_topic  \n",
              "0  does fort worth ever cross your mind and 469 2...               ?  \n",
              "1  p f l always 06 follow play a rabbit the park ...          social  \n",
              "2  disabled vehicle right lane blocked in fort wo...  transportation  \n",
              "3  pickup man the cowboys cowboy stockyardschampi...           music  \n",
              "4  accident two left lanes blocked in fort worth ...  transportation  "
            ],
            "text/html": [
              "\n",
              "  <div id=\"df-36164c51-49fa-43af-81c8-757a8f021244\">\n",
              "    <div class=\"colab-df-container\">\n",
              "      <div>\n",
              "<style scoped>\n",
              "    .dataframe tbody tr th:only-of-type {\n",
              "        vertical-align: middle;\n",
              "    }\n",
              "\n",
              "    .dataframe tbody tr th {\n",
              "        vertical-align: top;\n",
              "    }\n",
              "\n",
              "    .dataframe thead th {\n",
              "        text-align: right;\n",
              "    }\n",
              "</style>\n",
              "<table border=\"1\" class=\"dataframe\">\n",
              "  <thead>\n",
              "    <tr style=\"text-align: right;\">\n",
              "      <th></th>\n",
              "      <th>Unnamed: 0.1</th>\n",
              "      <th>Unnamed: 0</th>\n",
              "      <th>edit_history_tweet_ids</th>\n",
              "      <th>author_id</th>\n",
              "      <th>created_at</th>\n",
              "      <th>conversation_id</th>\n",
              "      <th>id</th>\n",
              "      <th>text</th>\n",
              "      <th>geo.place_id</th>\n",
              "      <th>referenced_tweets</th>\n",
              "      <th>city</th>\n",
              "      <th>inside</th>\n",
              "      <th>withheld.copyright</th>\n",
              "      <th>withheld.country_codes</th>\n",
              "      <th>withheld.scope</th>\n",
              "      <th>hashtag</th>\n",
              "      <th>text_hash_split</th>\n",
              "      <th>text_clean</th>\n",
              "      <th>dominant_topic</th>\n",
              "    </tr>\n",
              "  </thead>\n",
              "  <tbody>\n",
              "    <tr>\n",
              "      <th>0</th>\n",
              "      <td>0</td>\n",
              "      <td>1268</td>\n",
              "      <td>['1391443346443411457']</td>\n",
              "      <td>1267945445084598274</td>\n",
              "      <td>2021-05-09T17:22:00.000Z</td>\n",
              "      <td>1391443346443411457</td>\n",
              "      <td>1.391443e+18</td>\n",
              "      <td>Does #FortWorth ever cross your mind? \\nhttps:...</td>\n",
              "      <td>NaN</td>\n",
              "      <td>NaN</td>\n",
              "      <td>Fort Worth</td>\n",
              "      <td>1.0</td>\n",
              "      <td>NaN</td>\n",
              "      <td>NaN</td>\n",
              "      <td>NaN</td>\n",
              "      <td>['FortWorth', 'Stockyards', 'SUV', 'Limo']</td>\n",
              "      <td>Does fort worth ever cross your mind? \\nhttps:...</td>\n",
              "      <td>does fort worth ever cross your mind and 469 2...</td>\n",
              "      <td>?</td>\n",
              "    </tr>\n",
              "    <tr>\n",
              "      <th>1</th>\n",
              "      <td>1</td>\n",
              "      <td>4672</td>\n",
              "      <td>['1311653244112957440']</td>\n",
              "      <td>5445832</td>\n",
              "      <td>2020-10-01T13:04:37.000Z</td>\n",
              "      <td>1311653244112957440</td>\n",
              "      <td>1.311653e+18</td>\n",
              "      <td>P.F.L. Always! 2004-06\\n.\\n.\\nFollow @playarab...</td>\n",
              "      <td>42e46bc3663a4b5f</td>\n",
              "      <td>NaN</td>\n",
              "      <td>Fort Worth</td>\n",
              "      <td>1.0</td>\n",
              "      <td>NaN</td>\n",
              "      <td>NaN</td>\n",
              "      <td>NaN</td>\n",
              "      <td>['playarabbit', 'theparksmall', 'fortworth', '...</td>\n",
              "      <td>P.F.L. Always! 2004-06\\n.\\n.\\nFollow @playarab...</td>\n",
              "      <td>p f l always 06 follow play a rabbit the park ...</td>\n",
              "      <td>social</td>\n",
              "    </tr>\n",
              "    <tr>\n",
              "      <th>2</th>\n",
              "      <td>2</td>\n",
              "      <td>2327</td>\n",
              "      <td>['1423822631577456648']</td>\n",
              "      <td>41679815</td>\n",
              "      <td>2021-08-07T01:45:43.000Z</td>\n",
              "      <td>1423822631577456648</td>\n",
              "      <td>1.423823e+18</td>\n",
              "      <td>Disabled vehicle, right lane blocked in #FortW...</td>\n",
              "      <td>42e46bc3663a4b5f</td>\n",
              "      <td>NaN</td>\n",
              "      <td>Fort Worth</td>\n",
              "      <td>1.0</td>\n",
              "      <td>NaN</td>\n",
              "      <td>NaN</td>\n",
              "      <td>NaN</td>\n",
              "      <td>['FortWorth', 'DFWTraffic']</td>\n",
              "      <td>Disabled vehicle, right lane blocked in fort w...</td>\n",
              "      <td>disabled vehicle right lane blocked in fort wo...</td>\n",
              "      <td>transportation</td>\n",
              "    </tr>\n",
              "    <tr>\n",
              "      <th>3</th>\n",
              "      <td>3</td>\n",
              "      <td>66</td>\n",
              "      <td>['1287040376738635776']</td>\n",
              "      <td>347029713</td>\n",
              "      <td>2020-07-25T15:01:52.000Z</td>\n",
              "      <td>1287040376738635776</td>\n",
              "      <td>1.287040e+18</td>\n",
              "      <td>Pickup Man the Cowboy’s Cowboy🤠  #stockyardsch...</td>\n",
              "      <td>42e46bc3663a4b5f</td>\n",
              "      <td>NaN</td>\n",
              "      <td>Fort Worth</td>\n",
              "      <td>1.0</td>\n",
              "      <td>NaN</td>\n",
              "      <td>NaN</td>\n",
              "      <td>NaN</td>\n",
              "      <td>['stockyardschampionshiprodeo', 'stockyardspro...</td>\n",
              "      <td>Pickup Man the Cowboy’s Cowboy🤠  stockyardscha...</td>\n",
              "      <td>pickup man the cowboys cowboy stockyardschampi...</td>\n",
              "      <td>music</td>\n",
              "    </tr>\n",
              "    <tr>\n",
              "      <th>4</th>\n",
              "      <td>4</td>\n",
              "      <td>2525</td>\n",
              "      <td>['1376576317903241217']</td>\n",
              "      <td>41679815</td>\n",
              "      <td>2021-03-29T16:45:44.000Z</td>\n",
              "      <td>1376576317903241217</td>\n",
              "      <td>1.376576e+18</td>\n",
              "      <td>Accident. two left lanes blocked. in #FortWort...</td>\n",
              "      <td>42e46bc3663a4b5f</td>\n",
              "      <td>NaN</td>\n",
              "      <td>Fort Worth</td>\n",
              "      <td>1.0</td>\n",
              "      <td>NaN</td>\n",
              "      <td>NaN</td>\n",
              "      <td>NaN</td>\n",
              "      <td>['FortWorth', 'DFWTraffic']</td>\n",
              "      <td>Accident. two left lanes blocked. in fort wort...</td>\n",
              "      <td>accident two left lanes blocked in fort worth ...</td>\n",
              "      <td>transportation</td>\n",
              "    </tr>\n",
              "  </tbody>\n",
              "</table>\n",
              "</div>\n",
              "      <button class=\"colab-df-convert\" onclick=\"convertToInteractive('df-36164c51-49fa-43af-81c8-757a8f021244')\"\n",
              "              title=\"Convert this dataframe to an interactive table.\"\n",
              "              style=\"display:none;\">\n",
              "        \n",
              "  <svg xmlns=\"http://www.w3.org/2000/svg\" height=\"24px\"viewBox=\"0 0 24 24\"\n",
              "       width=\"24px\">\n",
              "    <path d=\"M0 0h24v24H0V0z\" fill=\"none\"/>\n",
              "    <path d=\"M18.56 5.44l.94 2.06.94-2.06 2.06-.94-2.06-.94-.94-2.06-.94 2.06-2.06.94zm-11 1L8.5 8.5l.94-2.06 2.06-.94-2.06-.94L8.5 2.5l-.94 2.06-2.06.94zm10 10l.94 2.06.94-2.06 2.06-.94-2.06-.94-.94-2.06-.94 2.06-2.06.94z\"/><path d=\"M17.41 7.96l-1.37-1.37c-.4-.4-.92-.59-1.43-.59-.52 0-1.04.2-1.43.59L10.3 9.45l-7.72 7.72c-.78.78-.78 2.05 0 2.83L4 21.41c.39.39.9.59 1.41.59.51 0 1.02-.2 1.41-.59l7.78-7.78 2.81-2.81c.8-.78.8-2.07 0-2.86zM5.41 20L4 18.59l7.72-7.72 1.47 1.35L5.41 20z\"/>\n",
              "  </svg>\n",
              "      </button>\n",
              "      \n",
              "  <style>\n",
              "    .colab-df-container {\n",
              "      display:flex;\n",
              "      flex-wrap:wrap;\n",
              "      gap: 12px;\n",
              "    }\n",
              "\n",
              "    .colab-df-convert {\n",
              "      background-color: #E8F0FE;\n",
              "      border: none;\n",
              "      border-radius: 50%;\n",
              "      cursor: pointer;\n",
              "      display: none;\n",
              "      fill: #1967D2;\n",
              "      height: 32px;\n",
              "      padding: 0 0 0 0;\n",
              "      width: 32px;\n",
              "    }\n",
              "\n",
              "    .colab-df-convert:hover {\n",
              "      background-color: #E2EBFA;\n",
              "      box-shadow: 0px 1px 2px rgba(60, 64, 67, 0.3), 0px 1px 3px 1px rgba(60, 64, 67, 0.15);\n",
              "      fill: #174EA6;\n",
              "    }\n",
              "\n",
              "    [theme=dark] .colab-df-convert {\n",
              "      background-color: #3B4455;\n",
              "      fill: #D2E3FC;\n",
              "    }\n",
              "\n",
              "    [theme=dark] .colab-df-convert:hover {\n",
              "      background-color: #434B5C;\n",
              "      box-shadow: 0px 1px 3px 1px rgba(0, 0, 0, 0.15);\n",
              "      filter: drop-shadow(0px 1px 2px rgba(0, 0, 0, 0.3));\n",
              "      fill: #FFFFFF;\n",
              "    }\n",
              "  </style>\n",
              "\n",
              "      <script>\n",
              "        const buttonEl =\n",
              "          document.querySelector('#df-36164c51-49fa-43af-81c8-757a8f021244 button.colab-df-convert');\n",
              "        buttonEl.style.display =\n",
              "          google.colab.kernel.accessAllowed ? 'block' : 'none';\n",
              "\n",
              "        async function convertToInteractive(key) {\n",
              "          const element = document.querySelector('#df-36164c51-49fa-43af-81c8-757a8f021244');\n",
              "          const dataTable =\n",
              "            await google.colab.kernel.invokeFunction('convertToInteractive',\n",
              "                                                     [key], {});\n",
              "          if (!dataTable) return;\n",
              "\n",
              "          const docLinkHtml = 'Like what you see? Visit the ' +\n",
              "            '<a target=\"_blank\" href=https://colab.research.google.com/notebooks/data_table.ipynb>data table notebook</a>'\n",
              "            + ' to learn more about interactive tables.';\n",
              "          element.innerHTML = '';\n",
              "          dataTable['output_type'] = 'display_data';\n",
              "          await google.colab.output.renderOutput(dataTable, element);\n",
              "          const docLink = document.createElement('div');\n",
              "          docLink.innerHTML = docLinkHtml;\n",
              "          element.appendChild(docLink);\n",
              "        }\n",
              "      </script>\n",
              "    </div>\n",
              "  </div>\n",
              "  "
            ]
          },
          "metadata": {},
          "execution_count": 153
        }
      ]
    },
    {
      "cell_type": "code",
      "source": [
        "our_data = Tweets(text = our_tweets.text_clean.to_numpy(),\n",
        "                               target = np.zeros(len(our_tweets)),\n",
        "                               tokenizer = tokenizer,\n",
        "                               max_len = MAX_LENGTH)"
      ],
      "metadata": {
        "id": "yalvLC1sj2G7"
      },
      "id": "yalvLC1sj2G7",
      "execution_count": 155,
      "outputs": []
    },
    {
      "cell_type": "code",
      "source": [
        "data_loader = DataLoader(our_data , batch_size = BATCH_SIZE , shuffle = False)"
      ],
      "metadata": {
        "id": "NNZ0-OLxkfKx"
      },
      "id": "NNZ0-OLxkfKx",
      "execution_count": 156,
      "outputs": []
    },
    {
      "cell_type": "code",
      "source": [
        "y_tweets_final, y_pred_final, y_pred_probs_final, y_test_final = get_predictions(model,data_loader)"
      ],
      "metadata": {
        "colab": {
          "base_uri": "https://localhost:8080/"
        },
        "id": "P78yErSilGaM",
        "outputId": "f4fb6923-d28c-4d77-824f-96b2bdcdb658"
      },
      "id": "P78yErSilGaM",
      "execution_count": 157,
      "outputs": [
        {
          "output_type": "stream",
          "name": "stderr",
          "text": [
            "/usr/local/lib/python3.10/dist-packages/transformers/tokenization_utils_base.py:2364: FutureWarning: The `pad_to_max_length` argument is deprecated and will be removed in a future version, use `padding=True` or `padding='longest'` to pad to the longest sequence in the batch, or use `padding='max_length'` to pad to a max length. In this case, you can give a specific length with `max_length` (e.g. `max_length=45`) or leave max_length to None to pad to the maximal input size of the model (e.g. 512 for Bert).\n",
            "  warnings.warn(\n"
          ]
        }
      ]
    },
    {
      "cell_type": "code",
      "source": [
        "sentiment_class = y_pred_final.cpu().numpy()\n",
        "probs = y_pred_probs_final.cpu().numpy()"
      ],
      "metadata": {
        "id": "jYRx-9n8loYJ"
      },
      "id": "jYRx-9n8loYJ",
      "execution_count": 168,
      "outputs": []
    },
    {
      "cell_type": "code",
      "source": [
        "our_tweets[['neg_prob', 'neu_prob', 'pos_prob']] = probs"
      ],
      "metadata": {
        "id": "RnM3LkQKmXGp"
      },
      "id": "RnM3LkQKmXGp",
      "execution_count": 170,
      "outputs": []
    },
    {
      "cell_type": "code",
      "source": [
        "our_tweets.head()"
      ],
      "metadata": {
        "colab": {
          "base_uri": "https://localhost:8080/",
          "height": 577
        },
        "id": "WVOw2j2imlbz",
        "outputId": "44261d8f-36b3-4755-8472-cea33574d7c4"
      },
      "id": "WVOw2j2imlbz",
      "execution_count": 171,
      "outputs": [
        {
          "output_type": "execute_result",
          "data": {
            "text/plain": [
              "   Unnamed: 0.1  Unnamed: 0   edit_history_tweet_ids            author_id  \\\n",
              "0             0        1268  ['1391443346443411457']  1267945445084598274   \n",
              "1             1        4672  ['1311653244112957440']              5445832   \n",
              "2             2        2327  ['1423822631577456648']             41679815   \n",
              "3             3          66  ['1287040376738635776']            347029713   \n",
              "4             4        2525  ['1376576317903241217']             41679815   \n",
              "\n",
              "                 created_at      conversation_id            id  \\\n",
              "0  2021-05-09T17:22:00.000Z  1391443346443411457  1.391443e+18   \n",
              "1  2020-10-01T13:04:37.000Z  1311653244112957440  1.311653e+18   \n",
              "2  2021-08-07T01:45:43.000Z  1423822631577456648  1.423823e+18   \n",
              "3  2020-07-25T15:01:52.000Z  1287040376738635776  1.287040e+18   \n",
              "4  2021-03-29T16:45:44.000Z  1376576317903241217  1.376576e+18   \n",
              "\n",
              "                                                text      geo.place_id  \\\n",
              "0  Does #FortWorth ever cross your mind? \\nhttps:...               NaN   \n",
              "1  P.F.L. Always! 2004-06\\n.\\n.\\nFollow @playarab...  42e46bc3663a4b5f   \n",
              "2  Disabled vehicle, right lane blocked in #FortW...  42e46bc3663a4b5f   \n",
              "3  Pickup Man the Cowboy’s Cowboy🤠  #stockyardsch...  42e46bc3663a4b5f   \n",
              "4  Accident. two left lanes blocked. in #FortWort...  42e46bc3663a4b5f   \n",
              "\n",
              "  referenced_tweets  ... withheld.copyright  withheld.country_codes  \\\n",
              "0               NaN  ...                NaN                     NaN   \n",
              "1               NaN  ...                NaN                     NaN   \n",
              "2               NaN  ...                NaN                     NaN   \n",
              "3               NaN  ...                NaN                     NaN   \n",
              "4               NaN  ...                NaN                     NaN   \n",
              "\n",
              "  withheld.scope                                            hashtag  \\\n",
              "0            NaN         ['FortWorth', 'Stockyards', 'SUV', 'Limo']   \n",
              "1            NaN  ['playarabbit', 'theparksmall', 'fortworth', '...   \n",
              "2            NaN                        ['FortWorth', 'DFWTraffic']   \n",
              "3            NaN  ['stockyardschampionshiprodeo', 'stockyardspro...   \n",
              "4            NaN                        ['FortWorth', 'DFWTraffic']   \n",
              "\n",
              "                                     text_hash_split  \\\n",
              "0  Does fort worth ever cross your mind? \\nhttps:...   \n",
              "1  P.F.L. Always! 2004-06\\n.\\n.\\nFollow @playarab...   \n",
              "2  Disabled vehicle, right lane blocked in fort w...   \n",
              "3  Pickup Man the Cowboy’s Cowboy🤠  stockyardscha...   \n",
              "4  Accident. two left lanes blocked. in fort wort...   \n",
              "\n",
              "                                          text_clean  dominant_topic  \\\n",
              "0  does fort worth ever cross your mind and 469 2...               ?   \n",
              "1  p f l always 06 follow play a rabbit the park ...          social   \n",
              "2  disabled vehicle right lane blocked in fort wo...  transportation   \n",
              "3  pickup man the cowboys cowboy stockyardschampi...           music   \n",
              "4  accident two left lanes blocked in fort worth ...  transportation   \n",
              "\n",
              "   neg_prob  neu_prob  pos_prob  \n",
              "0  0.001040  0.904702  0.094258  \n",
              "1  0.000935  0.831729  0.167336  \n",
              "2  0.028353  0.968561  0.003086  \n",
              "3  0.001861  0.932366  0.065773  \n",
              "4  0.218750  0.771273  0.009977  \n",
              "\n",
              "[5 rows x 22 columns]"
            ],
            "text/html": [
              "\n",
              "  <div id=\"df-bb1c366d-bc21-46a3-a6d6-ca62d2ba8176\">\n",
              "    <div class=\"colab-df-container\">\n",
              "      <div>\n",
              "<style scoped>\n",
              "    .dataframe tbody tr th:only-of-type {\n",
              "        vertical-align: middle;\n",
              "    }\n",
              "\n",
              "    .dataframe tbody tr th {\n",
              "        vertical-align: top;\n",
              "    }\n",
              "\n",
              "    .dataframe thead th {\n",
              "        text-align: right;\n",
              "    }\n",
              "</style>\n",
              "<table border=\"1\" class=\"dataframe\">\n",
              "  <thead>\n",
              "    <tr style=\"text-align: right;\">\n",
              "      <th></th>\n",
              "      <th>Unnamed: 0.1</th>\n",
              "      <th>Unnamed: 0</th>\n",
              "      <th>edit_history_tweet_ids</th>\n",
              "      <th>author_id</th>\n",
              "      <th>created_at</th>\n",
              "      <th>conversation_id</th>\n",
              "      <th>id</th>\n",
              "      <th>text</th>\n",
              "      <th>geo.place_id</th>\n",
              "      <th>referenced_tweets</th>\n",
              "      <th>...</th>\n",
              "      <th>withheld.copyright</th>\n",
              "      <th>withheld.country_codes</th>\n",
              "      <th>withheld.scope</th>\n",
              "      <th>hashtag</th>\n",
              "      <th>text_hash_split</th>\n",
              "      <th>text_clean</th>\n",
              "      <th>dominant_topic</th>\n",
              "      <th>neg_prob</th>\n",
              "      <th>neu_prob</th>\n",
              "      <th>pos_prob</th>\n",
              "    </tr>\n",
              "  </thead>\n",
              "  <tbody>\n",
              "    <tr>\n",
              "      <th>0</th>\n",
              "      <td>0</td>\n",
              "      <td>1268</td>\n",
              "      <td>['1391443346443411457']</td>\n",
              "      <td>1267945445084598274</td>\n",
              "      <td>2021-05-09T17:22:00.000Z</td>\n",
              "      <td>1391443346443411457</td>\n",
              "      <td>1.391443e+18</td>\n",
              "      <td>Does #FortWorth ever cross your mind? \\nhttps:...</td>\n",
              "      <td>NaN</td>\n",
              "      <td>NaN</td>\n",
              "      <td>...</td>\n",
              "      <td>NaN</td>\n",
              "      <td>NaN</td>\n",
              "      <td>NaN</td>\n",
              "      <td>['FortWorth', 'Stockyards', 'SUV', 'Limo']</td>\n",
              "      <td>Does fort worth ever cross your mind? \\nhttps:...</td>\n",
              "      <td>does fort worth ever cross your mind and 469 2...</td>\n",
              "      <td>?</td>\n",
              "      <td>0.001040</td>\n",
              "      <td>0.904702</td>\n",
              "      <td>0.094258</td>\n",
              "    </tr>\n",
              "    <tr>\n",
              "      <th>1</th>\n",
              "      <td>1</td>\n",
              "      <td>4672</td>\n",
              "      <td>['1311653244112957440']</td>\n",
              "      <td>5445832</td>\n",
              "      <td>2020-10-01T13:04:37.000Z</td>\n",
              "      <td>1311653244112957440</td>\n",
              "      <td>1.311653e+18</td>\n",
              "      <td>P.F.L. Always! 2004-06\\n.\\n.\\nFollow @playarab...</td>\n",
              "      <td>42e46bc3663a4b5f</td>\n",
              "      <td>NaN</td>\n",
              "      <td>...</td>\n",
              "      <td>NaN</td>\n",
              "      <td>NaN</td>\n",
              "      <td>NaN</td>\n",
              "      <td>['playarabbit', 'theparksmall', 'fortworth', '...</td>\n",
              "      <td>P.F.L. Always! 2004-06\\n.\\n.\\nFollow @playarab...</td>\n",
              "      <td>p f l always 06 follow play a rabbit the park ...</td>\n",
              "      <td>social</td>\n",
              "      <td>0.000935</td>\n",
              "      <td>0.831729</td>\n",
              "      <td>0.167336</td>\n",
              "    </tr>\n",
              "    <tr>\n",
              "      <th>2</th>\n",
              "      <td>2</td>\n",
              "      <td>2327</td>\n",
              "      <td>['1423822631577456648']</td>\n",
              "      <td>41679815</td>\n",
              "      <td>2021-08-07T01:45:43.000Z</td>\n",
              "      <td>1423822631577456648</td>\n",
              "      <td>1.423823e+18</td>\n",
              "      <td>Disabled vehicle, right lane blocked in #FortW...</td>\n",
              "      <td>42e46bc3663a4b5f</td>\n",
              "      <td>NaN</td>\n",
              "      <td>...</td>\n",
              "      <td>NaN</td>\n",
              "      <td>NaN</td>\n",
              "      <td>NaN</td>\n",
              "      <td>['FortWorth', 'DFWTraffic']</td>\n",
              "      <td>Disabled vehicle, right lane blocked in fort w...</td>\n",
              "      <td>disabled vehicle right lane blocked in fort wo...</td>\n",
              "      <td>transportation</td>\n",
              "      <td>0.028353</td>\n",
              "      <td>0.968561</td>\n",
              "      <td>0.003086</td>\n",
              "    </tr>\n",
              "    <tr>\n",
              "      <th>3</th>\n",
              "      <td>3</td>\n",
              "      <td>66</td>\n",
              "      <td>['1287040376738635776']</td>\n",
              "      <td>347029713</td>\n",
              "      <td>2020-07-25T15:01:52.000Z</td>\n",
              "      <td>1287040376738635776</td>\n",
              "      <td>1.287040e+18</td>\n",
              "      <td>Pickup Man the Cowboy’s Cowboy🤠  #stockyardsch...</td>\n",
              "      <td>42e46bc3663a4b5f</td>\n",
              "      <td>NaN</td>\n",
              "      <td>...</td>\n",
              "      <td>NaN</td>\n",
              "      <td>NaN</td>\n",
              "      <td>NaN</td>\n",
              "      <td>['stockyardschampionshiprodeo', 'stockyardspro...</td>\n",
              "      <td>Pickup Man the Cowboy’s Cowboy🤠  stockyardscha...</td>\n",
              "      <td>pickup man the cowboys cowboy stockyardschampi...</td>\n",
              "      <td>music</td>\n",
              "      <td>0.001861</td>\n",
              "      <td>0.932366</td>\n",
              "      <td>0.065773</td>\n",
              "    </tr>\n",
              "    <tr>\n",
              "      <th>4</th>\n",
              "      <td>4</td>\n",
              "      <td>2525</td>\n",
              "      <td>['1376576317903241217']</td>\n",
              "      <td>41679815</td>\n",
              "      <td>2021-03-29T16:45:44.000Z</td>\n",
              "      <td>1376576317903241217</td>\n",
              "      <td>1.376576e+18</td>\n",
              "      <td>Accident. two left lanes blocked. in #FortWort...</td>\n",
              "      <td>42e46bc3663a4b5f</td>\n",
              "      <td>NaN</td>\n",
              "      <td>...</td>\n",
              "      <td>NaN</td>\n",
              "      <td>NaN</td>\n",
              "      <td>NaN</td>\n",
              "      <td>['FortWorth', 'DFWTraffic']</td>\n",
              "      <td>Accident. two left lanes blocked. in fort wort...</td>\n",
              "      <td>accident two left lanes blocked in fort worth ...</td>\n",
              "      <td>transportation</td>\n",
              "      <td>0.218750</td>\n",
              "      <td>0.771273</td>\n",
              "      <td>0.009977</td>\n",
              "    </tr>\n",
              "  </tbody>\n",
              "</table>\n",
              "<p>5 rows × 22 columns</p>\n",
              "</div>\n",
              "      <button class=\"colab-df-convert\" onclick=\"convertToInteractive('df-bb1c366d-bc21-46a3-a6d6-ca62d2ba8176')\"\n",
              "              title=\"Convert this dataframe to an interactive table.\"\n",
              "              style=\"display:none;\">\n",
              "        \n",
              "  <svg xmlns=\"http://www.w3.org/2000/svg\" height=\"24px\"viewBox=\"0 0 24 24\"\n",
              "       width=\"24px\">\n",
              "    <path d=\"M0 0h24v24H0V0z\" fill=\"none\"/>\n",
              "    <path d=\"M18.56 5.44l.94 2.06.94-2.06 2.06-.94-2.06-.94-.94-2.06-.94 2.06-2.06.94zm-11 1L8.5 8.5l.94-2.06 2.06-.94-2.06-.94L8.5 2.5l-.94 2.06-2.06.94zm10 10l.94 2.06.94-2.06 2.06-.94-2.06-.94-.94-2.06-.94 2.06-2.06.94z\"/><path d=\"M17.41 7.96l-1.37-1.37c-.4-.4-.92-.59-1.43-.59-.52 0-1.04.2-1.43.59L10.3 9.45l-7.72 7.72c-.78.78-.78 2.05 0 2.83L4 21.41c.39.39.9.59 1.41.59.51 0 1.02-.2 1.41-.59l7.78-7.78 2.81-2.81c.8-.78.8-2.07 0-2.86zM5.41 20L4 18.59l7.72-7.72 1.47 1.35L5.41 20z\"/>\n",
              "  </svg>\n",
              "      </button>\n",
              "      \n",
              "  <style>\n",
              "    .colab-df-container {\n",
              "      display:flex;\n",
              "      flex-wrap:wrap;\n",
              "      gap: 12px;\n",
              "    }\n",
              "\n",
              "    .colab-df-convert {\n",
              "      background-color: #E8F0FE;\n",
              "      border: none;\n",
              "      border-radius: 50%;\n",
              "      cursor: pointer;\n",
              "      display: none;\n",
              "      fill: #1967D2;\n",
              "      height: 32px;\n",
              "      padding: 0 0 0 0;\n",
              "      width: 32px;\n",
              "    }\n",
              "\n",
              "    .colab-df-convert:hover {\n",
              "      background-color: #E2EBFA;\n",
              "      box-shadow: 0px 1px 2px rgba(60, 64, 67, 0.3), 0px 1px 3px 1px rgba(60, 64, 67, 0.15);\n",
              "      fill: #174EA6;\n",
              "    }\n",
              "\n",
              "    [theme=dark] .colab-df-convert {\n",
              "      background-color: #3B4455;\n",
              "      fill: #D2E3FC;\n",
              "    }\n",
              "\n",
              "    [theme=dark] .colab-df-convert:hover {\n",
              "      background-color: #434B5C;\n",
              "      box-shadow: 0px 1px 3px 1px rgba(0, 0, 0, 0.15);\n",
              "      filter: drop-shadow(0px 1px 2px rgba(0, 0, 0, 0.3));\n",
              "      fill: #FFFFFF;\n",
              "    }\n",
              "  </style>\n",
              "\n",
              "      <script>\n",
              "        const buttonEl =\n",
              "          document.querySelector('#df-bb1c366d-bc21-46a3-a6d6-ca62d2ba8176 button.colab-df-convert');\n",
              "        buttonEl.style.display =\n",
              "          google.colab.kernel.accessAllowed ? 'block' : 'none';\n",
              "\n",
              "        async function convertToInteractive(key) {\n",
              "          const element = document.querySelector('#df-bb1c366d-bc21-46a3-a6d6-ca62d2ba8176');\n",
              "          const dataTable =\n",
              "            await google.colab.kernel.invokeFunction('convertToInteractive',\n",
              "                                                     [key], {});\n",
              "          if (!dataTable) return;\n",
              "\n",
              "          const docLinkHtml = 'Like what you see? Visit the ' +\n",
              "            '<a target=\"_blank\" href=https://colab.research.google.com/notebooks/data_table.ipynb>data table notebook</a>'\n",
              "            + ' to learn more about interactive tables.';\n",
              "          element.innerHTML = '';\n",
              "          dataTable['output_type'] = 'display_data';\n",
              "          await google.colab.output.renderOutput(dataTable, element);\n",
              "          const docLink = document.createElement('div');\n",
              "          docLink.innerHTML = docLinkHtml;\n",
              "          element.appendChild(docLink);\n",
              "        }\n",
              "      </script>\n",
              "    </div>\n",
              "  </div>\n",
              "  "
            ]
          },
          "metadata": {},
          "execution_count": 171
        }
      ]
    },
    {
      "cell_type": "code",
      "source": [
        "our_tweets['sentiment_numeric'] = sentiment_class"
      ],
      "metadata": {
        "id": "P3HXnUe6mvJC"
      },
      "id": "P3HXnUe6mvJC",
      "execution_count": 172,
      "outputs": []
    },
    {
      "cell_type": "code",
      "source": [
        "our_tweets['sentiment'] = np.where(our_tweets.sentiment_numeric == 0, \"negative\", np.where(our_tweets.sentiment_numeric == 1, 'neutral', 'positive'))"
      ],
      "metadata": {
        "id": "y-CfdPUPm5Am"
      },
      "id": "y-CfdPUPm5Am",
      "execution_count": 176,
      "outputs": []
    },
    {
      "cell_type": "code",
      "source": [
        "our_tweets.sentiment.value_counts()"
      ],
      "metadata": {
        "colab": {
          "base_uri": "https://localhost:8080/"
        },
        "id": "4EOVCc8onLPC",
        "outputId": "23a5267e-bcbe-4d11-d467-4e49384a23b5"
      },
      "id": "4EOVCc8onLPC",
      "execution_count": 177,
      "outputs": [
        {
          "output_type": "execute_result",
          "data": {
            "text/plain": [
              "neutral     15194\n",
              "positive    10335\n",
              "negative     1671\n",
              "Name: sentiment, dtype: int64"
            ]
          },
          "metadata": {},
          "execution_count": 177
        }
      ]
    },
    {
      "cell_type": "code",
      "source": [
        "our_tweets.to_csv(PATH +\"data/tweets_with_topics_sentiment.csv\")"
      ],
      "metadata": {
        "id": "4Z0QKdF0nc8a"
      },
      "id": "4Z0QKdF0nc8a",
      "execution_count": 178,
      "outputs": []
    }
  ],
  "metadata": {
    "accelerator": "GPU",
    "colab": {
      "provenance": [],
      "machine_shape": "hm",
      "gpuType": "V100"
    },
    "gpuClass": "standard",
    "kernelspec": {
      "display_name": "Python 3 (ipykernel)",
      "language": "python",
      "name": "python3"
    },
    "language_info": {
      "codemirror_mode": {
        "name": "ipython",
        "version": 3
      },
      "file_extension": ".py",
      "mimetype": "text/x-python",
      "name": "python",
      "nbconvert_exporter": "python",
      "pygments_lexer": "ipython3",
      "version": "3.10.10"
    }
  },
  "nbformat": 4,
  "nbformat_minor": 5
}