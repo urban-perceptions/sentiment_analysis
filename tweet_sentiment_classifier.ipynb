{
  "cells": [
    {
      "cell_type": "code",
      "execution_count": 27,
      "id": "9b2a2e56",
      "metadata": {
        "colab": {
          "base_uri": "https://localhost:8080/"
        },
        "id": "9b2a2e56",
        "outputId": "7e969cbe-7d77-4290-c1fc-e92a748be4aa"
      },
      "outputs": [
        {
          "output_type": "stream",
          "name": "stdout",
          "text": [
            "Looking in indexes: https://pypi.org/simple, https://us-python.pkg.dev/colab-wheels/public/simple/\n",
            "Requirement already satisfied: transformers in /usr/local/lib/python3.10/dist-packages (4.29.2)\n",
            "Requirement already satisfied: filelock in /usr/local/lib/python3.10/dist-packages (from transformers) (3.12.0)\n",
            "Requirement already satisfied: huggingface-hub<1.0,>=0.14.1 in /usr/local/lib/python3.10/dist-packages (from transformers) (0.14.1)\n",
            "Requirement already satisfied: numpy>=1.17 in /usr/local/lib/python3.10/dist-packages (from transformers) (1.22.4)\n",
            "Requirement already satisfied: packaging>=20.0 in /usr/local/lib/python3.10/dist-packages (from transformers) (23.1)\n",
            "Requirement already satisfied: pyyaml>=5.1 in /usr/local/lib/python3.10/dist-packages (from transformers) (6.0)\n",
            "Requirement already satisfied: regex!=2019.12.17 in /usr/local/lib/python3.10/dist-packages (from transformers) (2022.10.31)\n",
            "Requirement already satisfied: requests in /usr/local/lib/python3.10/dist-packages (from transformers) (2.27.1)\n",
            "Requirement already satisfied: tokenizers!=0.11.3,<0.14,>=0.11.1 in /usr/local/lib/python3.10/dist-packages (from transformers) (0.13.3)\n",
            "Requirement already satisfied: tqdm>=4.27 in /usr/local/lib/python3.10/dist-packages (from transformers) (4.65.0)\n",
            "Requirement already satisfied: fsspec in /usr/local/lib/python3.10/dist-packages (from huggingface-hub<1.0,>=0.14.1->transformers) (2023.4.0)\n",
            "Requirement already satisfied: typing-extensions>=3.7.4.3 in /usr/local/lib/python3.10/dist-packages (from huggingface-hub<1.0,>=0.14.1->transformers) (4.5.0)\n",
            "Requirement already satisfied: urllib3<1.27,>=1.21.1 in /usr/local/lib/python3.10/dist-packages (from requests->transformers) (1.26.15)\n",
            "Requirement already satisfied: certifi>=2017.4.17 in /usr/local/lib/python3.10/dist-packages (from requests->transformers) (2022.12.7)\n",
            "Requirement already satisfied: charset-normalizer~=2.0.0 in /usr/local/lib/python3.10/dist-packages (from requests->transformers) (2.0.12)\n",
            "Requirement already satisfied: idna<4,>=2.5 in /usr/local/lib/python3.10/dist-packages (from requests->transformers) (3.4)\n"
          ]
        }
      ],
      "source": [
        "!pip install transformers\n",
        "import torch\n",
        "import torch.nn as nn\n",
        "import transformers\n",
        "from transformers import DistilBertForSequenceClassification\n",
        "from torch.utils.data import Dataset, DataLoader\n",
        "import numpy as np\n",
        "import matplotlib.pyplot as plt\n",
        "import pandas as pd\n",
        "from sklearn.model_selection import train_test_split"
      ]
    },
    {
      "cell_type": "code",
      "execution_count": 28,
      "id": "c8239b8f",
      "metadata": {
        "colab": {
          "base_uri": "https://localhost:8080/"
        },
        "id": "c8239b8f",
        "outputId": "37908e5d-2f7a-4ad5-da4d-7ac860b35a56"
      },
      "outputs": [
        {
          "output_type": "stream",
          "name": "stdout",
          "text": [
            "Using cuda.\n",
            "Drive already mounted at /content/gdrive; to attempt to forcibly remount, call drive.mount(\"/content/gdrive\", force_remount=True).\n"
          ]
        }
      ],
      "source": [
        "USE_CUDA = torch.cuda.is_available()\n",
        "\n",
        "if USE_CUDA:\n",
        "    DEVICE = torch.device('cuda')\n",
        "    print(\"Using cuda.\")\n",
        "\n",
        "SEED = 1234567\n",
        "MODEL_NAME = 'distilbert-base-uncased'\n",
        "np.random.seed(SEED)\n",
        "torch.manual_seed(SEED)\n",
        "if USE_CUDA:\n",
        "    torch.cuda.manual_seed(SEED)\n",
        "\n",
        "COLAB = True\n",
        "\n",
        "if COLAB:\n",
        "    from google.colab import drive \n",
        "    drive.mount('/content/gdrive')\n",
        "    PATH = \"gdrive/MyDrive/NLP Project/\"\n",
        "else:\n",
        "  PATH = \"\"\n"
      ]
    },
    {
      "cell_type": "code",
      "execution_count": 29,
      "id": "29865ab5",
      "metadata": {
        "id": "29865ab5"
      },
      "outputs": [],
      "source": [
        "tweets = pd.read_csv(PATH + \"data/tweet_eval_clean.csv\")"
      ]
    },
    {
      "cell_type": "code",
      "execution_count": 30,
      "id": "b9196847",
      "metadata": {
        "colab": {
          "base_uri": "https://localhost:8080/",
          "height": 206
        },
        "id": "b9196847",
        "outputId": "4aa635be-9291-459e-cec6-1463757d9eb7"
      },
      "outputs": [
        {
          "output_type": "execute_result",
          "data": {
            "text/plain": [
              "   Unnamed: 0                                               text  label  \\\n",
              "0           0  Dark Souls 3 April Launch Date Confirmed With ...      1   \n",
              "1           1  \"National hot dog day, national tequila day, t...      2   \n",
              "2           2  When girls become bandwagon fans of the Packer...      0   \n",
              "3           3  @user I may or may not have searched it up on ...      1   \n",
              "4           4  Here's your starting TUESDAY MORNING Line up a...      1   \n",
              "\n",
              "                                          text_clean  \n",
              "0  dark souls april launch date confirmed with ne...  \n",
              "1   national hot dog day national tequila day the...  \n",
              "2  when girls become bandwagon fans of the packer...  \n",
              "3     i may or may not have searched it up on google  \n",
              "4  here s your starting tuesday morning line up a...  "
            ],
            "text/html": [
              "\n",
              "  <div id=\"df-5aff283f-4ced-4eba-98c1-c66268403fd7\">\n",
              "    <div class=\"colab-df-container\">\n",
              "      <div>\n",
              "<style scoped>\n",
              "    .dataframe tbody tr th:only-of-type {\n",
              "        vertical-align: middle;\n",
              "    }\n",
              "\n",
              "    .dataframe tbody tr th {\n",
              "        vertical-align: top;\n",
              "    }\n",
              "\n",
              "    .dataframe thead th {\n",
              "        text-align: right;\n",
              "    }\n",
              "</style>\n",
              "<table border=\"1\" class=\"dataframe\">\n",
              "  <thead>\n",
              "    <tr style=\"text-align: right;\">\n",
              "      <th></th>\n",
              "      <th>Unnamed: 0</th>\n",
              "      <th>text</th>\n",
              "      <th>label</th>\n",
              "      <th>text_clean</th>\n",
              "    </tr>\n",
              "  </thead>\n",
              "  <tbody>\n",
              "    <tr>\n",
              "      <th>0</th>\n",
              "      <td>0</td>\n",
              "      <td>Dark Souls 3 April Launch Date Confirmed With ...</td>\n",
              "      <td>1</td>\n",
              "      <td>dark souls april launch date confirmed with ne...</td>\n",
              "    </tr>\n",
              "    <tr>\n",
              "      <th>1</th>\n",
              "      <td>1</td>\n",
              "      <td>\"National hot dog day, national tequila day, t...</td>\n",
              "      <td>2</td>\n",
              "      <td>national hot dog day national tequila day the...</td>\n",
              "    </tr>\n",
              "    <tr>\n",
              "      <th>2</th>\n",
              "      <td>2</td>\n",
              "      <td>When girls become bandwagon fans of the Packer...</td>\n",
              "      <td>0</td>\n",
              "      <td>when girls become bandwagon fans of the packer...</td>\n",
              "    </tr>\n",
              "    <tr>\n",
              "      <th>3</th>\n",
              "      <td>3</td>\n",
              "      <td>@user I may or may not have searched it up on ...</td>\n",
              "      <td>1</td>\n",
              "      <td>i may or may not have searched it up on google</td>\n",
              "    </tr>\n",
              "    <tr>\n",
              "      <th>4</th>\n",
              "      <td>4</td>\n",
              "      <td>Here's your starting TUESDAY MORNING Line up a...</td>\n",
              "      <td>1</td>\n",
              "      <td>here s your starting tuesday morning line up a...</td>\n",
              "    </tr>\n",
              "  </tbody>\n",
              "</table>\n",
              "</div>\n",
              "      <button class=\"colab-df-convert\" onclick=\"convertToInteractive('df-5aff283f-4ced-4eba-98c1-c66268403fd7')\"\n",
              "              title=\"Convert this dataframe to an interactive table.\"\n",
              "              style=\"display:none;\">\n",
              "        \n",
              "  <svg xmlns=\"http://www.w3.org/2000/svg\" height=\"24px\"viewBox=\"0 0 24 24\"\n",
              "       width=\"24px\">\n",
              "    <path d=\"M0 0h24v24H0V0z\" fill=\"none\"/>\n",
              "    <path d=\"M18.56 5.44l.94 2.06.94-2.06 2.06-.94-2.06-.94-.94-2.06-.94 2.06-2.06.94zm-11 1L8.5 8.5l.94-2.06 2.06-.94-2.06-.94L8.5 2.5l-.94 2.06-2.06.94zm10 10l.94 2.06.94-2.06 2.06-.94-2.06-.94-.94-2.06-.94 2.06-2.06.94z\"/><path d=\"M17.41 7.96l-1.37-1.37c-.4-.4-.92-.59-1.43-.59-.52 0-1.04.2-1.43.59L10.3 9.45l-7.72 7.72c-.78.78-.78 2.05 0 2.83L4 21.41c.39.39.9.59 1.41.59.51 0 1.02-.2 1.41-.59l7.78-7.78 2.81-2.81c.8-.78.8-2.07 0-2.86zM5.41 20L4 18.59l7.72-7.72 1.47 1.35L5.41 20z\"/>\n",
              "  </svg>\n",
              "      </button>\n",
              "      \n",
              "  <style>\n",
              "    .colab-df-container {\n",
              "      display:flex;\n",
              "      flex-wrap:wrap;\n",
              "      gap: 12px;\n",
              "    }\n",
              "\n",
              "    .colab-df-convert {\n",
              "      background-color: #E8F0FE;\n",
              "      border: none;\n",
              "      border-radius: 50%;\n",
              "      cursor: pointer;\n",
              "      display: none;\n",
              "      fill: #1967D2;\n",
              "      height: 32px;\n",
              "      padding: 0 0 0 0;\n",
              "      width: 32px;\n",
              "    }\n",
              "\n",
              "    .colab-df-convert:hover {\n",
              "      background-color: #E2EBFA;\n",
              "      box-shadow: 0px 1px 2px rgba(60, 64, 67, 0.3), 0px 1px 3px 1px rgba(60, 64, 67, 0.15);\n",
              "      fill: #174EA6;\n",
              "    }\n",
              "\n",
              "    [theme=dark] .colab-df-convert {\n",
              "      background-color: #3B4455;\n",
              "      fill: #D2E3FC;\n",
              "    }\n",
              "\n",
              "    [theme=dark] .colab-df-convert:hover {\n",
              "      background-color: #434B5C;\n",
              "      box-shadow: 0px 1px 3px 1px rgba(0, 0, 0, 0.15);\n",
              "      filter: drop-shadow(0px 1px 2px rgba(0, 0, 0, 0.3));\n",
              "      fill: #FFFFFF;\n",
              "    }\n",
              "  </style>\n",
              "\n",
              "      <script>\n",
              "        const buttonEl =\n",
              "          document.querySelector('#df-5aff283f-4ced-4eba-98c1-c66268403fd7 button.colab-df-convert');\n",
              "        buttonEl.style.display =\n",
              "          google.colab.kernel.accessAllowed ? 'block' : 'none';\n",
              "\n",
              "        async function convertToInteractive(key) {\n",
              "          const element = document.querySelector('#df-5aff283f-4ced-4eba-98c1-c66268403fd7');\n",
              "          const dataTable =\n",
              "            await google.colab.kernel.invokeFunction('convertToInteractive',\n",
              "                                                     [key], {});\n",
              "          if (!dataTable) return;\n",
              "\n",
              "          const docLinkHtml = 'Like what you see? Visit the ' +\n",
              "            '<a target=\"_blank\" href=https://colab.research.google.com/notebooks/data_table.ipynb>data table notebook</a>'\n",
              "            + ' to learn more about interactive tables.';\n",
              "          element.innerHTML = '';\n",
              "          dataTable['output_type'] = 'display_data';\n",
              "          await google.colab.output.renderOutput(dataTable, element);\n",
              "          const docLink = document.createElement('div');\n",
              "          docLink.innerHTML = docLinkHtml;\n",
              "          element.appendChild(docLink);\n",
              "        }\n",
              "      </script>\n",
              "    </div>\n",
              "  </div>\n",
              "  "
            ]
          },
          "metadata": {},
          "execution_count": 30
        }
      ],
      "source": [
        "tweets.head()"
      ]
    },
    {
      "cell_type": "code",
      "execution_count": 31,
      "id": "bdaaae3b",
      "metadata": {
        "id": "bdaaae3b"
      },
      "outputs": [],
      "source": [
        "#tweets.sentiment.unique()"
      ]
    },
    {
      "cell_type": "code",
      "execution_count": 32,
      "id": "5e6b01e4",
      "metadata": {
        "id": "5e6b01e4"
      },
      "outputs": [],
      "source": [
        "#tweets['label'] = np.where(tweets.sentiment == 'negative', 0, np.where(tweets.sentiment == 'neutral', 1, 2))"
      ]
    },
    {
      "cell_type": "code",
      "execution_count": 33,
      "id": "edfbf8f8",
      "metadata": {
        "id": "edfbf8f8"
      },
      "outputs": [],
      "source": [
        "#tweets.sentiment.value_counts()"
      ]
    },
    {
      "cell_type": "code",
      "execution_count": 34,
      "id": "2988e0d1",
      "metadata": {
        "id": "2988e0d1"
      },
      "outputs": [],
      "source": [
        "#tweets.label.value_counts()"
      ]
    },
    {
      "cell_type": "code",
      "execution_count": 35,
      "id": "be6546ff",
      "metadata": {
        "colab": {
          "base_uri": "https://localhost:8080/"
        },
        "id": "be6546ff",
        "outputId": "7232fd87-a05b-47b7-ab88-591d9a30c628"
      },
      "outputs": [
        {
          "output_type": "execute_result",
          "data": {
            "text/plain": [
              "59874"
            ]
          },
          "metadata": {},
          "execution_count": 35
        }
      ],
      "source": [
        "len(tweets)"
      ]
    },
    {
      "cell_type": "code",
      "execution_count": 36,
      "id": "49cd3307",
      "metadata": {
        "id": "49cd3307"
      },
      "outputs": [],
      "source": [
        "tweets.dropna(inplace=True, subset=['text_clean'])"
      ]
    },
    {
      "cell_type": "code",
      "execution_count": 37,
      "id": "9b2c1760",
      "metadata": {
        "colab": {
          "base_uri": "https://localhost:8080/"
        },
        "id": "9b2c1760",
        "outputId": "a75cab8f-e733-49b2-b9dc-49def3b89778"
      },
      "outputs": [
        {
          "output_type": "execute_result",
          "data": {
            "text/plain": [
              "59874"
            ]
          },
          "metadata": {},
          "execution_count": 37
        }
      ],
      "source": [
        "len(tweets)"
      ]
    },
    {
      "cell_type": "code",
      "execution_count": 38,
      "id": "12848417",
      "metadata": {
        "id": "12848417"
      },
      "outputs": [],
      "source": [
        "tweets['word_counts'] = tweets.text_clean.str.split().map(len)"
      ]
    },
    {
      "cell_type": "code",
      "execution_count": 39,
      "id": "f5bfed57",
      "metadata": {
        "colab": {
          "base_uri": "https://localhost:8080/",
          "height": 447
        },
        "id": "f5bfed57",
        "outputId": "dc0b1496-dcd9-4565-b0c7-0c590e29b8cd"
      },
      "outputs": [
        {
          "output_type": "execute_result",
          "data": {
            "text/plain": [
              "<Axes: >"
            ]
          },
          "metadata": {},
          "execution_count": 39
        },
        {
          "output_type": "display_data",
          "data": {
            "text/plain": [
              "<Figure size 640x480 with 1 Axes>"
            ],
            "image/png": "[encoded data removed]"
          },
          "metadata": {}
        }
      ],
      "source": [
        "tweets.word_counts.hist()"
      ]
    },
    {
      "cell_type": "code",
      "execution_count": 40,
      "id": "2ef7ea79",
      "metadata": {
        "id": "2ef7ea79"
      },
      "outputs": [],
      "source": [
        "MAX_LENGTH = 32"
      ]
    },
    {
      "cell_type": "code",
      "execution_count": 41,
      "id": "64605952",
      "metadata": {
        "colab": {
          "base_uri": "https://localhost:8080/"
        },
        "id": "64605952",
        "outputId": "5988c31d-40f3-4edf-d193-58ed2417b0c1"
      },
      "outputs": [
        {
          "output_type": "stream",
          "name": "stdout",
          "text": [
            "(47899, 5) (5988, 5) (5987, 5)\n"
          ]
        }
      ],
      "source": [
        "train_df , test_df  = train_test_split(tweets, test_size = 0.2, random_state = SEED, shuffle = True)\n",
        "val_df , test_df  = train_test_split(test_df, test_size = 0.5, random_state = SEED, shuffle = True)\n",
        "\n",
        "print(train_df.shape , test_df.shape , val_df.shape)"
      ]
    },
    {
      "cell_type": "code",
      "execution_count": 42,
      "id": "c6e343df",
      "metadata": {
        "id": "c6e343df"
      },
      "outputs": [],
      "source": [
        "class Tweets(Dataset):\n",
        "    def __init__(self, text, target, tokenizer, max_len):\n",
        "        self.text = text\n",
        "        self.target = target\n",
        "        self.tokenizer = tokenizer\n",
        "        self.max_len = max_len\n",
        "        \n",
        "    def __len__(self):\n",
        "        return len(self.text)\n",
        "    \n",
        "    def __getitem__(self,idx):\n",
        "        text = self.text[idx]\n",
        "        encoding = self.tokenizer.encode_plus(\n",
        "                          text,\n",
        "                          add_special_tokens=True,\n",
        "                          max_length=self.max_len,\n",
        "                          truncation=True,\n",
        "                          return_token_type_ids=False,\n",
        "                          pad_to_max_length=True,\n",
        "                          return_attention_mask=True,\n",
        "                          return_tensors='pt')\n",
        "        \n",
        "        return {'text' : text,\n",
        "                'input_id': encoding['input_ids'].flatten(),\n",
        "                'attention_mask':encoding['attention_mask'].flatten(),\n",
        "                'target': torch.tensor(self.target[idx], dtype = torch.long)\n",
        "               }\n",
        "        "
      ]
    },
    {
      "cell_type": "code",
      "execution_count": 43,
      "id": "925b5b7a",
      "metadata": {
        "id": "925b5b7a"
      },
      "outputs": [],
      "source": [
        "tokenizer = transformers.AutoTokenizer.from_pretrained(MODEL_NAME)\n",
        "\n",
        "training_data = Tweets(text = train_df.text_clean.to_numpy(),\n",
        "                               target = train_df.label.to_numpy(),\n",
        "                               tokenizer = tokenizer,\n",
        "                               max_len = MAX_LENGTH)\n",
        "\n",
        "validation_data = Tweets(text = val_df.text_clean.to_numpy(),\n",
        "                               target = val_df.label.to_numpy(),\n",
        "                               tokenizer = tokenizer,\n",
        "                               max_len = MAX_LENGTH)\n",
        "\n",
        "test_data = Tweets(text = test_df.text_clean.to_numpy(),\n",
        "                               target = test_df.label.to_numpy(),\n",
        "                               tokenizer = tokenizer,\n",
        "                               max_len = MAX_LENGTH)"
      ]
    },
    {
      "cell_type": "code",
      "execution_count": 44,
      "id": "4e80eac5",
      "metadata": {
        "id": "4e80eac5"
      },
      "outputs": [],
      "source": [
        "BATCH_SIZE = 64\n",
        "train_loader = DataLoader(training_data , batch_size = BATCH_SIZE , shuffle = True)\n",
        "test_loader = DataLoader(test_data , batch_size = BATCH_SIZE , shuffle = False)\n",
        "val_loader = DataLoader(validation_data , batch_size = BATCH_SIZE , shuffle = False)"
      ]
    },
    {
      "cell_type": "code",
      "execution_count": 45,
      "id": "2250475b",
      "metadata": {
        "id": "2250475b"
      },
      "outputs": [],
      "source": [
        "# class TweetSentimentClassifier(nn.Module):\n",
        "#     def __init__(self, num_classes, hid_dim, dropout=0.3):\n",
        "#         super(TweetSentimentClassifier,self).__init__()\n",
        "#         self.bert = DistilBertForSequenceClassification.from_pretrained(MODEL_NAME, num_labels=num_classes)\n",
        "#         self.dropout = nn.Dropout(p = dropout)\n",
        "#         self.hidden = nn.Linear(self.bert.config.hidden_size, hid_dim)\n",
        "#         self.nonlinear = nn.ReLU()\n",
        "#         self.linear = nn.Linear(hid_dim,num_classes)\n",
        "        \n",
        "#     def forward(self,input_ids , attention_mask):\n",
        "#         temp = self.bert(input_ids,attention_mask) \n",
        "#         pooled_output = temp[1]                    \n",
        "#         out = self.dropout(pooled_output)\n",
        "#         out = self.nonlinear(self.hidden(out))\n",
        "#         out = self.dropout(out)  \n",
        "#         out = self.linear(out)\n",
        "#         return out"
      ]
    },
    {
      "cell_type": "code",
      "execution_count": 46,
      "id": "5506f55d",
      "metadata": {
        "colab": {
          "base_uri": "https://localhost:8080/"
        },
        "id": "5506f55d",
        "outputId": "1fb0871a-4ea0-4956-c3ae-5178b0ab0508"
      },
      "outputs": [
        {
          "output_type": "stream",
          "name": "stderr",
          "text": [
            "Some weights of the model checkpoint at distilbert-base-uncased were not used when initializing DistilBertForSequenceClassification: ['vocab_transform.weight', 'vocab_projector.weight', 'vocab_projector.bias', 'vocab_layer_norm.bias', 'vocab_transform.bias', 'vocab_layer_norm.weight']\n",
            "- This IS expected if you are initializing DistilBertForSequenceClassification from the checkpoint of a model trained on another task or with another architecture (e.g. initializing a BertForSequenceClassification model from a BertForPreTraining model).\n",
            "- This IS NOT expected if you are initializing DistilBertForSequenceClassification from the checkpoint of a model that you expect to be exactly identical (initializing a BertForSequenceClassification model from a BertForSequenceClassification model).\n",
            "Some weights of DistilBertForSequenceClassification were not initialized from the model checkpoint at distilbert-base-uncased and are newly initialized: ['pre_classifier.bias', 'classifier.weight', 'classifier.bias', 'pre_classifier.weight']\n",
            "You should probably TRAIN this model on a down-stream task to be able to use it for predictions and inference.\n"
          ]
        }
      ],
      "source": [
        "NUM_CLASSES = 3\n",
        "HIDDEN_DIM = 128\n",
        "\n",
        "model = DistilBertForSequenceClassification.from_pretrained(MODEL_NAME, num_labels=NUM_CLASSES)\n",
        "\n",
        "if USE_CUDA:\n",
        "  model = model.cuda()"
      ]
    },
    {
      "cell_type": "code",
      "execution_count": 47,
      "id": "08fd6765",
      "metadata": {
        "colab": {
          "base_uri": "https://localhost:8080/"
        },
        "id": "08fd6765",
        "outputId": "c141eac1-e2c2-4c03-ae15-cc33584c07ad"
      },
      "outputs": [
        {
          "output_type": "stream",
          "name": "stderr",
          "text": [
            "/usr/local/lib/python3.10/dist-packages/transformers/optimization.py:407: FutureWarning: This implementation of AdamW is deprecated and will be removed in a future version. Use the PyTorch implementation torch.optim.AdamW instead, or set `no_deprecation_warning=True` to disable this warning\n",
            "  warnings.warn(\n"
          ]
        }
      ],
      "source": [
        "learning_rate = 2e-5\n",
        "EPOCHS = 5\n",
        "total_steps = len(train_loader) * EPOCHS\n",
        "\n",
        "loss_fn = torch.nn.CrossEntropyLoss()\n",
        "\n",
        "optimizer = transformers.AdamW(params = model.parameters(),lr = learning_rate, correct_bias= False)\n",
        "\n",
        "scheduler = transformers.get_linear_schedule_with_warmup(optimizer = optimizer,\n",
        "                                                        num_warmup_steps = 0,\n",
        "                                                        num_training_steps = total_steps)"
      ]
    },
    {
      "cell_type": "code",
      "execution_count": 48,
      "id": "684807f1",
      "metadata": {
        "id": "684807f1"
      },
      "outputs": [],
      "source": [
        "def evaluate(model, data_loader, n_examples):\n",
        "    model.eval()  \n",
        "    correct_pred = 0\n",
        "    \n",
        "    with torch.no_grad():\n",
        "        for batch in data_loader:\n",
        "            input_ids = batch['input_id']\n",
        "            attention_masks = batch['attention_mask']\n",
        "            targets = batch['target']\n",
        "\n",
        "            if USE_CUDA:\n",
        "              input_ids = input_ids.cuda()\n",
        "              attention_masks = attention_masks.cuda()\n",
        "              targets = targets.cuda()\n",
        "            output = model(input_ids, attention_masks, labels=targets)\n",
        "            _,pred_classes = torch.max(output.logits, dim=1)\n",
        "\n",
        "            correct_pred += torch.sum(pred_classes==targets)\n",
        "            \n",
        "    return correct_pred / n_examples"
      ]
    },
    {
      "cell_type": "code",
      "execution_count": 49,
      "id": "e92f416f",
      "metadata": {
        "id": "e92f416f"
      },
      "outputs": [],
      "source": [
        "def train_model(model, data_loader, criterion, optimizer, scheduler, n_examples, train_log_interval):\n",
        "    \n",
        "    model.train()\n",
        "    correct_pred = 0\n",
        "\n",
        "    for i, batch in enumerate(data_loader):\n",
        "        input_ids = batch['input_id']\n",
        "        attention_masks = batch['attention_mask']\n",
        "        targets = batch['target']\n",
        "\n",
        "        if USE_CUDA:\n",
        "            input_ids = input_ids.cuda()\n",
        "            attention_masks = attention_masks.cuda()\n",
        "            targets = targets.cuda()\n",
        "\n",
        "        #predictions = model(input_ids , attention_masks)\n",
        "        outputs = model(input_ids , attention_masks, labels=targets)\n",
        "\n",
        "        # loss = criterion(predictions, targets)\n",
        "        _, pred_classes = torch.max(outputs.logits, dim=1)\n",
        "        loss = outputs.loss\n",
        "        loss.backward()\n",
        "        nn.utils.clip_grad_norm_(model.parameters(), max_norm=1.0) # hack to avoid gradient explotion\n",
        "        optimizer.step()\n",
        "        scheduler.step()\n",
        "        optimizer.zero_grad()\n",
        "        \n",
        "        correct_pred += torch.sum(pred_classes==targets)\n",
        "\n",
        "        if (i + 1) % train_log_interval == 0:\n",
        "            print(f\"At iteration {i + 1} the train loss is {loss:.3f}.\")\n",
        "    \n",
        "    return correct_pred / n_examples\n",
        "   "
      ]
    },
    {
      "cell_type": "code",
      "execution_count": 50,
      "id": "7e9d67ef",
      "metadata": {
        "id": "7e9d67ef"
      },
      "outputs": [],
      "source": [
        "TRAIN_LOG_INTERVAL = 300\n",
        "MODEL_PATH = PATH + \"best_sentiment_classifier.pt\"\n",
        "\n",
        "def run_training_loops(model, train_loader, val_loader, criterion, optimizer, scheduler, epochs):\n",
        "    train_accs = []\n",
        "    valid_accs = []\n",
        "    best_valid_acc = 0\n",
        "    \n",
        "    for epoch in range(epochs):\n",
        "        train_acc = train_model(model, train_loader, criterion, optimizer, scheduler, len(train_df), TRAIN_LOG_INTERVAL)\n",
        "        valid_acc = evaluate(model, val_loader, len(val_df))\n",
        "        train_accs.append(train_acc)\n",
        "        valid_accs.append(valid_acc)\n",
        "        \n",
        "        print(f\"After epoch {epoch+1} training accuracy is {train_acc}\")\n",
        "        print(f\"After epoch {epoch+1} validation accuracy is {valid_acc}\")\n",
        "        \n",
        "        if valid_acc > best_valid_acc:\n",
        "            best_valid_acc = valid_acc\n",
        "            torch.save(model.state_dict(), MODEL_PATH)\n",
        "            \n",
        "            \n",
        "    return train_accs, valid_accs\n",
        "        \n",
        "\n",
        "        \n",
        "    "
      ]
    },
    {
      "cell_type": "code",
      "execution_count": 51,
      "id": "cc386838",
      "metadata": {
        "colab": {
          "base_uri": "https://localhost:8080/"
        },
        "id": "cc386838",
        "outputId": "409be415-4af1-4893-c450-3da5d8014e52"
      },
      "outputs": [
        {
          "output_type": "stream",
          "name": "stderr",
          "text": [
            "/usr/local/lib/python3.10/dist-packages/transformers/tokenization_utils_base.py:2364: FutureWarning: The `pad_to_max_length` argument is deprecated and will be removed in a future version, use `padding=True` or `padding='longest'` to pad to the longest sequence in the batch, or use `padding='max_length'` to pad to a max length. In this case, you can give a specific length with `max_length` (e.g. `max_length=45`) or leave max_length to None to pad to the maximal input size of the model (e.g. 512 for Bert).\n",
            "  warnings.warn(\n"
          ]
        },
        {
          "output_type": "stream",
          "name": "stdout",
          "text": [
            "At iteration 300 the train loss is 0.601.\n",
            "At iteration 600 the train loss is 0.713.\n",
            "After epoch 1 training accuracy is 0.6864026188850403\n",
            "After epoch 1 validation accuracy is 0.7157173752784729\n",
            "At iteration 300 the train loss is 0.598.\n",
            "At iteration 600 the train loss is 0.522.\n",
            "After epoch 2 training accuracy is 0.7766758799552917\n",
            "After epoch 2 validation accuracy is 0.7125438451766968\n",
            "At iteration 300 the train loss is 0.472.\n",
            "At iteration 600 the train loss is 0.439.\n",
            "After epoch 3 training accuracy is 0.8331906199455261\n",
            "After epoch 3 validation accuracy is 0.7123767733573914\n",
            "At iteration 300 the train loss is 0.342.\n",
            "At iteration 600 the train loss is 0.377.\n",
            "After epoch 4 training accuracy is 0.8738595247268677\n",
            "After epoch 4 validation accuracy is 0.7043594121932983\n",
            "At iteration 300 the train loss is 0.237.\n",
            "At iteration 600 the train loss is 0.396.\n",
            "After epoch 5 training accuracy is 0.8977431058883667\n",
            "After epoch 5 validation accuracy is 0.7090362310409546\n"
          ]
        }
      ],
      "source": [
        "training_accuracy, validation_accuracy = run_training_loops(model, train_loader, val_loader, loss_fn, optimizer, scheduler, EPOCHS)"
      ]
    },
    {
      "cell_type": "code",
      "execution_count": 69,
      "id": "db5423e4",
      "metadata": {
        "id": "db5423e4"
      },
      "outputs": [],
      "source": [
        "def get_predictions(model, data_loader):\n",
        "    model = model.eval()\n",
        "\n",
        "    tweets = []\n",
        "    predictions = []\n",
        "    real_values = []\n",
        "\n",
        "    with torch.no_grad():\n",
        "        for batch in data_loader:\n",
        "\n",
        "            texts = batch[\"text\"]\n",
        "            input_ids = batch[\"input_id\"]\n",
        "            attention_masks = batch[\"attention_mask\"]\n",
        "            targets = batch[\"target\"]\n",
        "\n",
        "            if USE_CUDA:\n",
        "              input_ids = input_ids.cuda()\n",
        "              attention_masks = attention_masks.cuda()\n",
        "              targets = targets.cuda()\n",
        "\n",
        "            outputs = model(input_ids, attention_masks, labels=targets)\n",
        "\n",
        "            _,preds = torch.max(outputs.logits, dim=1)\n",
        "\n",
        "            \n",
        "\n",
        "            tweets.extend(texts)\n",
        "            predictions.extend(preds)\n",
        "            real_values.extend(targets)\n",
        "\n",
        "    predictions = torch.stack(predictions).cuda()\n",
        "    real_values = torch.stack(real_values).cuda()\n",
        "    return tweets, predictions, real_values"
      ]
    },
    {
      "cell_type": "code",
      "source": [
        "model.load_state_dict(torch.load(MODEL_PATH))"
      ],
      "metadata": {
        "id": "zubkYYTwbHXd",
        "colab": {
          "base_uri": "https://localhost:8080/"
        },
        "outputId": "86bbd6ca-5ed1-48b6-da45-3a7fb01c9a4d"
      },
      "id": "zubkYYTwbHXd",
      "execution_count": 53,
      "outputs": [
        {
          "output_type": "execute_result",
          "data": {
            "text/plain": [
              "<All keys matched successfully>"
            ]
          },
          "metadata": {},
          "execution_count": 53
        }
      ]
    },
    {
      "cell_type": "code",
      "source": [
        "y_tweets, y_pred, y_test = get_predictions(model,test_loader)"
      ],
      "metadata": {
        "id": "RlJaXiN6M76-"
      },
      "id": "RlJaXiN6M76-",
      "execution_count": 70,
      "outputs": []
    },
    {
      "cell_type": "code",
      "source": [
        "from sklearn.metrics import confusion_matrix, ConfusionMatrixDisplay\n",
        "\n",
        "y_test = y_test.cpu()\n",
        "y_pred = y_pred.cpu()\n",
        "\n",
        "cm = confusion_matrix(y_test, y_pred)\n",
        "\n",
        "disp = ConfusionMatrixDisplay(confusion_matrix=cm, display_labels=['Negative', 'Neutral', \"Positive\"])\n",
        "disp.plot()"
      ],
      "metadata": {
        "id": "p9SYY09lMVh8",
        "colab": {
          "base_uri": "https://localhost:8080/",
          "height": 466
        },
        "outputId": "3be4c706-e8cb-456b-d714-db2843352016"
      },
      "id": "p9SYY09lMVh8",
      "execution_count": 71,
      "outputs": [
        {
          "output_type": "execute_result",
          "data": {
            "text/plain": [
              "<sklearn.metrics._plot.confusion_matrix.ConfusionMatrixDisplay at 0x7fdce3a3f370>"
            ]
          },
          "metadata": {},
          "execution_count": 71
        },
        {
          "output_type": "display_data",
          "data": {
            "text/plain": [
              "<Figure size 640x480 with 2 Axes>"
            ],
            "image/png": "[encoded data removed]"
          },
          "metadata": {}
        }
      ]
    },
    {
      "cell_type": "code",
      "source": [
        "print(f\"Test Accuracy: {(y_test == y_pred).sum()/len(y_test)}\")"
      ],
      "metadata": {
        "id": "gRhuOl73OMfb",
        "colab": {
          "base_uri": "https://localhost:8080/"
        },
        "outputId": "122dec1b-0894-4757-b85a-e3614c2d1e29"
      },
      "id": "gRhuOl73OMfb",
      "execution_count": 72,
      "outputs": [
        {
          "output_type": "stream",
          "name": "stdout",
          "text": [
            "Test Accuracy: 0.7177688479423523\n"
          ]
        }
      ]
    },
    {
      "cell_type": "code",
      "source": [
        "accuarcy_df = pd.DataFrame({\"training_accuarcy\": [t.detach().cpu() for t in training_accuracy], })"
      ],
      "metadata": {
        "id": "eLtoLVz5cJNB"
      },
      "id": "eLtoLVz5cJNB",
      "execution_count": 73,
      "outputs": []
    },
    {
      "cell_type": "code",
      "source": [
        "plt.plot(range(1, len(training_accuracy) + 1),[t.detach().cpu() for t in training_accuracy], label=\"Training\" )\n",
        "plt.plot(range(1, len(validation_accuracy) + 1),[t.detach().cpu() for t in validation_accuracy], label=\"Validation\" )\n",
        "plt.legend()\n",
        "plt.xlabel(\"Epochs\")\n",
        "plt.ylabel(\"Accuracy\")\n",
        "plt.savefig(PATH + \"sentiment_classifier_accuracy2.png\")"
      ],
      "metadata": {
        "id": "CidI2bdbdESh",
        "colab": {
          "base_uri": "https://localhost:8080/",
          "height": 449
        },
        "outputId": "90ae0686-bc46-49e8-c67f-a27b9ffcbdaf"
      },
      "id": "CidI2bdbdESh",
      "execution_count": 75,
      "outputs": [
        {
          "output_type": "display_data",
          "data": {
            "text/plain": [
              "<Figure size 640x480 with 1 Axes>"
            ],
            "image/png": "[encoded data removed]"
          },
          "metadata": {}
        }
      ]
    },
    {
      "cell_type": "code",
      "source": [
        "from sklearn.metrics import precision_recall_fscore_support"
      ],
      "metadata": {
        "id": "nFsAq1YXcS4c"
      },
      "id": "nFsAq1YXcS4c",
      "execution_count": 76,
      "outputs": []
    },
    {
      "cell_type": "code",
      "source": [
        "precision_recall_fscore_support(y_test, y_pred)"
      ],
      "metadata": {
        "colab": {
          "base_uri": "https://localhost:8080/"
        },
        "id": "jQPe-usgRfNy",
        "outputId": "4a302aef-aea6-4ffb-81b8-8515253f0346"
      },
      "id": "jQPe-usgRfNy",
      "execution_count": 77,
      "outputs": [
        {
          "output_type": "execute_result",
          "data": {
            "text/plain": [
              "(array([0.67670505, 0.68704   , 0.79988466]),\n",
              " array([0.69140271, 0.77902758, 0.65209215]),\n",
              " array([0.68397493, 0.73014793, 0.71846672]),\n",
              " array([1105, 2756, 2127]))"
            ]
          },
          "metadata": {},
          "execution_count": 77
        }
      ]
    }
  ],
  "metadata": {
    "kernelspec": {
      "display_name": "Python 3 (ipykernel)",
      "language": "python",
      "name": "python3"
    },
    "language_info": {
      "codemirror_mode": {
        "name": "ipython",
        "version": 3
      },
      "file_extension": ".py",
      "mimetype": "text/x-python",
      "name": "python",
      "nbconvert_exporter": "python",
      "pygments_lexer": "ipython3",
      "version": "3.10.10"
    },
    "colab": {
      "provenance": [],
      "gpuType": "T4"
    },
    "accelerator": "GPU",
    "gpuClass": "standard"
  },
  "nbformat": 4,
  "nbformat_minor": 5
}