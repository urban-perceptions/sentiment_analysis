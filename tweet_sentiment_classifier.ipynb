{
 "cells": [
  {
   "cell_type": "code",
   "execution_count": 1,
   "id": "9b2a2e56",
   "metadata": {},
   "outputs": [],
   "source": [
    "import torch\n",
    "import torch.nn as nn\n",
    "import transformers\n",
    "from transformers import BertModel\n",
    "from torch.utils.data import Dataset, DataLoader\n",
    "import numpy as np\n",
    "\n",
    "import pandas as pd\n",
    "from sklearn.model_selection import train_test_split"
   ]
  },
  {
   "cell_type": "code",
   "execution_count": 2,
   "id": "c8239b8f",
   "metadata": {},
   "outputs": [
    {
     "data": {
      "text/plain": [
       "<torch._C.Generator at 0x7fb4904a2f70>"
      ]
     },
     "execution_count": 2,
     "metadata": {},
     "output_type": "execute_result"
    }
   ],
   "source": [
    "SEED = 1234567\n",
    "MODEL_NAME = 'bert-base-cased'\n",
    "np.random.seed(SEED)\n",
    "torch.manual_seed(SEED)"
   ]
  },
  {
   "cell_type": "code",
   "execution_count": 3,
   "id": "29865ab5",
   "metadata": {},
   "outputs": [],
   "source": [
    "tweets = pd.read_csv(\"kaggle_clean.csv\")"
   ]
  },
  {
   "cell_type": "code",
   "execution_count": 4,
   "id": "b9196847",
   "metadata": {},
   "outputs": [
    {
     "data": {
      "text/html": [
       "<div>\n",
       "<style scoped>\n",
       "    .dataframe tbody tr th:only-of-type {\n",
       "        vertical-align: middle;\n",
       "    }\n",
       "\n",
       "    .dataframe tbody tr th {\n",
       "        vertical-align: top;\n",
       "    }\n",
       "\n",
       "    .dataframe thead th {\n",
       "        text-align: right;\n",
       "    }\n",
       "</style>\n",
       "<table border=\"1\" class=\"dataframe\">\n",
       "  <thead>\n",
       "    <tr style=\"text-align: right;\">\n",
       "      <th></th>\n",
       "      <th>Unnamed: 0</th>\n",
       "      <th>textID</th>\n",
       "      <th>text</th>\n",
       "      <th>selected_text</th>\n",
       "      <th>sentiment</th>\n",
       "      <th>hashtag</th>\n",
       "      <th>text_hash_split</th>\n",
       "      <th>text_clean</th>\n",
       "    </tr>\n",
       "  </thead>\n",
       "  <tbody>\n",
       "    <tr>\n",
       "      <th>0</th>\n",
       "      <td>0</td>\n",
       "      <td>cb774db0d1</td>\n",
       "      <td>I`d have responded, if I were going</td>\n",
       "      <td>I`d have responded, if I were going</td>\n",
       "      <td>neutral</td>\n",
       "      <td>[]</td>\n",
       "      <td>I`d have responded, if I were going</td>\n",
       "      <td>i d have responded if i were going</td>\n",
       "    </tr>\n",
       "    <tr>\n",
       "      <th>1</th>\n",
       "      <td>1</td>\n",
       "      <td>549e992a42</td>\n",
       "      <td>Sooo SAD I will miss you here in San Diego!!!</td>\n",
       "      <td>Sooo SAD</td>\n",
       "      <td>negative</td>\n",
       "      <td>[]</td>\n",
       "      <td>Sooo SAD I will miss you here in San Diego!!!</td>\n",
       "      <td>sooo sad i will miss you here in san diego</td>\n",
       "    </tr>\n",
       "    <tr>\n",
       "      <th>2</th>\n",
       "      <td>2</td>\n",
       "      <td>088c60f138</td>\n",
       "      <td>my boss is bullying me...</td>\n",
       "      <td>bullying me</td>\n",
       "      <td>negative</td>\n",
       "      <td>[]</td>\n",
       "      <td>my boss is bullying me...</td>\n",
       "      <td>my boss is bullying me</td>\n",
       "    </tr>\n",
       "    <tr>\n",
       "      <th>3</th>\n",
       "      <td>3</td>\n",
       "      <td>9642c003ef</td>\n",
       "      <td>what interview! leave me alone</td>\n",
       "      <td>leave me alone</td>\n",
       "      <td>negative</td>\n",
       "      <td>[]</td>\n",
       "      <td>what interview! leave me alone</td>\n",
       "      <td>what interview leave me alone</td>\n",
       "    </tr>\n",
       "    <tr>\n",
       "      <th>4</th>\n",
       "      <td>4</td>\n",
       "      <td>358bd9e861</td>\n",
       "      <td>Sons of ****, why couldn`t they put them on t...</td>\n",
       "      <td>Sons of ****,</td>\n",
       "      <td>negative</td>\n",
       "      <td>[]</td>\n",
       "      <td>Sons of ****, why couldn`t they put them on t...</td>\n",
       "      <td>sons of why couldn t they put them on the rele...</td>\n",
       "    </tr>\n",
       "  </tbody>\n",
       "</table>\n",
       "</div>"
      ],
      "text/plain": [
       "   Unnamed: 0      textID                                               text  \\\n",
       "0           0  cb774db0d1                I`d have responded, if I were going   \n",
       "1           1  549e992a42      Sooo SAD I will miss you here in San Diego!!!   \n",
       "2           2  088c60f138                          my boss is bullying me...   \n",
       "3           3  9642c003ef                     what interview! leave me alone   \n",
       "4           4  358bd9e861   Sons of ****, why couldn`t they put them on t...   \n",
       "\n",
       "                         selected_text sentiment hashtag  \\\n",
       "0  I`d have responded, if I were going   neutral      []   \n",
       "1                             Sooo SAD  negative      []   \n",
       "2                          bullying me  negative      []   \n",
       "3                       leave me alone  negative      []   \n",
       "4                        Sons of ****,  negative      []   \n",
       "\n",
       "                                     text_hash_split  \\\n",
       "0                I`d have responded, if I were going   \n",
       "1      Sooo SAD I will miss you here in San Diego!!!   \n",
       "2                          my boss is bullying me...   \n",
       "3                     what interview! leave me alone   \n",
       "4   Sons of ****, why couldn`t they put them on t...   \n",
       "\n",
       "                                          text_clean  \n",
       "0                 i d have responded if i were going  \n",
       "1        sooo sad i will miss you here in san diego   \n",
       "2                            my boss is bullying me   \n",
       "3                      what interview leave me alone  \n",
       "4  sons of why couldn t they put them on the rele...  "
      ]
     },
     "execution_count": 4,
     "metadata": {},
     "output_type": "execute_result"
    }
   ],
   "source": [
    "tweets.head()"
   ]
  },
  {
   "cell_type": "code",
   "execution_count": 5,
   "id": "bdaaae3b",
   "metadata": {},
   "outputs": [
    {
     "data": {
      "text/plain": [
       "array(['neutral', 'negative', 'positive'], dtype=object)"
      ]
     },
     "execution_count": 5,
     "metadata": {},
     "output_type": "execute_result"
    }
   ],
   "source": [
    "tweets.sentiment.unique()"
   ]
  },
  {
   "cell_type": "code",
   "execution_count": 6,
   "id": "5e6b01e4",
   "metadata": {},
   "outputs": [],
   "source": [
    "tweets['label'] = np.where(tweets.sentiment == 'negative', 0, np.where(tweets.sentiment == 'neutral', 1, 2))"
   ]
  },
  {
   "cell_type": "code",
   "execution_count": 7,
   "id": "edfbf8f8",
   "metadata": {},
   "outputs": [
    {
     "data": {
      "text/plain": [
       "neutral     11118\n",
       "positive     8582\n",
       "negative     7781\n",
       "Name: sentiment, dtype: int64"
      ]
     },
     "execution_count": 7,
     "metadata": {},
     "output_type": "execute_result"
    }
   ],
   "source": [
    "tweets.sentiment.value_counts()"
   ]
  },
  {
   "cell_type": "code",
   "execution_count": 8,
   "id": "2988e0d1",
   "metadata": {},
   "outputs": [
    {
     "data": {
      "text/plain": [
       "1    11118\n",
       "2     8582\n",
       "0     7781\n",
       "Name: label, dtype: int64"
      ]
     },
     "execution_count": 8,
     "metadata": {},
     "output_type": "execute_result"
    }
   ],
   "source": [
    "tweets.label.value_counts()"
   ]
  },
  {
   "cell_type": "code",
   "execution_count": 9,
   "id": "be6546ff",
   "metadata": {},
   "outputs": [
    {
     "data": {
      "text/plain": [
       "27481"
      ]
     },
     "execution_count": 9,
     "metadata": {},
     "output_type": "execute_result"
    }
   ],
   "source": [
    "len(tweets)"
   ]
  },
  {
   "cell_type": "code",
   "execution_count": 10,
   "id": "49cd3307",
   "metadata": {},
   "outputs": [],
   "source": [
    "tweets.dropna(inplace=True, subset=['text_clean'])"
   ]
  },
  {
   "cell_type": "code",
   "execution_count": 11,
   "id": "9b2c1760",
   "metadata": {},
   "outputs": [
    {
     "data": {
      "text/plain": [
       "27478"
      ]
     },
     "execution_count": 11,
     "metadata": {},
     "output_type": "execute_result"
    }
   ],
   "source": [
    "len(tweets)"
   ]
  },
  {
   "cell_type": "code",
   "execution_count": 12,
   "id": "12848417",
   "metadata": {},
   "outputs": [],
   "source": [
    "tweets['word_counts'] = tweets.text_clean.str.split().map(len)"
   ]
  },
  {
   "cell_type": "code",
   "execution_count": 13,
   "id": "f5bfed57",
   "metadata": {},
   "outputs": [
    {
     "data": {
      "text/plain": [
       "<Axes: >"
      ]
     },
     "execution_count": 13,
     "metadata": {},
     "output_type": "execute_result"
    },
    {
     "data": {
      "image/png": "[encoded data removed]",
      "text/plain": [
       "<Figure size 640x480 with 1 Axes>"
      ]
     },
     "metadata": {},
     "output_type": "display_data"
    }
   ],
   "source": [
    "tweets.word_counts.hist()"
   ]
  },
  {
   "cell_type": "code",
   "execution_count": 14,
   "id": "2ef7ea79",
   "metadata": {},
   "outputs": [],
   "source": [
    "MAX_LENGTH = 32"
   ]
  },
  {
   "cell_type": "code",
   "execution_count": 15,
   "id": "64605952",
   "metadata": {},
   "outputs": [
    {
     "name": "stdout",
     "output_type": "stream",
     "text": [
      "(21982, 10) (2748, 10) (2748, 10)\n"
     ]
    }
   ],
   "source": [
    "train_df , test_df  = train_test_split(tweets, test_size = 0.2, random_state = SEED, shuffle = True)\n",
    "val_df , test_df  = train_test_split(test_df, test_size = 0.5, random_state = SEED, shuffle = True)\n",
    "\n",
    "print(train_df.shape , test_df.shape , val_df.shape)"
   ]
  },
  {
   "cell_type": "code",
   "execution_count": 16,
   "id": "c6e343df",
   "metadata": {},
   "outputs": [],
   "source": [
    "class Tweets(Dataset):\n",
    "    def __init__(self, text, target, tokenizer, max_len):\n",
    "        self.text = text\n",
    "        self.target = target\n",
    "        self.tokenizer = tokenizer\n",
    "        self.max_len = max_len\n",
    "        \n",
    "    def __len__(self):\n",
    "        return len(self.text)\n",
    "    \n",
    "    def __getitem__(self,idx):\n",
    "        text = self.text[idx]\n",
    "        encoding = self.tokenizer.encode_plus(\n",
    "                          text,\n",
    "                          add_special_tokens=True,\n",
    "                          max_length=self.max_len,\n",
    "                          truncation=True,\n",
    "                          return_token_type_ids=False,\n",
    "                          pad_to_max_length=True,\n",
    "                          return_attention_mask=True,\n",
    "                          return_tensors='pt')\n",
    "        \n",
    "        return {'text' : text,\n",
    "                'input_id': encoding['input_ids'].flatten(),\n",
    "                'attention_mask':encoding['attention_mask'].flatten(),\n",
    "                'target': torch.tensor(self.target[idx], dtype = torch.long)\n",
    "               }\n",
    "        "
   ]
  },
  {
   "cell_type": "code",
   "execution_count": 17,
   "id": "925b5b7a",
   "metadata": {},
   "outputs": [],
   "source": [
    "tokenizer = transformers.BertTokenizer.from_pretrained(MODEL_NAME)\n",
    "\n",
    "training_data = Tweets(text = train_df.text_clean.to_numpy(),\n",
    "                               target = train_df.label.to_numpy(),\n",
    "                               tokenizer = tokenizer,\n",
    "                               max_len = MAX_LENGTH)\n",
    "\n",
    "validation_data = Tweets(text = val_df.text_clean.to_numpy(),\n",
    "                               target = val_df.label.to_numpy(),\n",
    "                               tokenizer = tokenizer,\n",
    "                               max_len = MAX_LENGTH)\n",
    "\n",
    "test_data = Tweets(text = test_df.text_clean.to_numpy(),\n",
    "                               target = test_df.label.to_numpy(),\n",
    "                               tokenizer = tokenizer,\n",
    "                               max_len = MAX_LENGTH)"
   ]
  },
  {
   "cell_type": "code",
   "execution_count": 18,
   "id": "4e80eac5",
   "metadata": {},
   "outputs": [],
   "source": [
    "BATCH_SIZE = 64\n",
    "train_loader = DataLoader(training_data , batch_size = BATCH_SIZE , shuffle = True)\n",
    "test_loader = DataLoader(test_data , batch_size = BATCH_SIZE , shuffle = False)\n",
    "val_loader = DataLoader(validation_data , batch_size = BATCH_SIZE , shuffle = False)"
   ]
  },
  {
   "cell_type": "code",
   "execution_count": 19,
   "id": "2250475b",
   "metadata": {},
   "outputs": [],
   "source": [
    "class TweetSentimentClassifier(nn.Module):\n",
    "    def __init__(self, num_classes, dropout=0.3):\n",
    "        super(TweetSentimentClassifier,self).__init__()\n",
    "        self.bert = BertModel.from_pretrained(MODEL_NAME)\n",
    "        self.dropout = nn.Dropout(p = dropout)\n",
    "        self.linear = nn.Linear(self.bert.config.hidden_size,num_classes)\n",
    "        \n",
    "    def forward(self,input_ids , attention_mask):\n",
    "        temp = self.bert(input_ids,attention_mask) \n",
    "        pooled_output = temp[1]                    \n",
    "        out = self.dropout(pooled_output)  \n",
    "        out = self.linear(out)\n",
    "        return out"
   ]
  },
  {
   "cell_type": "code",
   "execution_count": 20,
   "id": "5506f55d",
   "metadata": {},
   "outputs": [
    {
     "name": "stderr",
     "output_type": "stream",
     "text": [
      "Some weights of the model checkpoint at bert-base-cased were not used when initializing BertModel: ['cls.predictions.transform.dense.bias', 'cls.predictions.transform.dense.weight', 'cls.predictions.bias', 'cls.predictions.transform.LayerNorm.bias', 'cls.predictions.transform.LayerNorm.weight', 'cls.predictions.decoder.weight', 'cls.seq_relationship.bias', 'cls.seq_relationship.weight']\n",
      "- This IS expected if you are initializing BertModel from the checkpoint of a model trained on another task or with another architecture (e.g. initializing a BertForSequenceClassification model from a BertForPreTraining model).\n",
      "- This IS NOT expected if you are initializing BertModel from the checkpoint of a model that you expect to be exactly identical (initializing a BertForSequenceClassification model from a BertForSequenceClassification model).\n"
     ]
    }
   ],
   "source": [
    "NUM_CLASSES = 3\n",
    "\n",
    "model = TweetSentimentClassifier(NUM_CLASSES)"
   ]
  },
  {
   "cell_type": "code",
   "execution_count": 21,
   "id": "08fd6765",
   "metadata": {},
   "outputs": [
    {
     "name": "stderr",
     "output_type": "stream",
     "text": [
      "/Users/davidhackett/opt/anaconda3/envs/capp30255/lib/python3.10/site-packages/transformers/optimization.py:391: FutureWarning: This implementation of AdamW is deprecated and will be removed in a future version. Use the PyTorch implementation torch.optim.AdamW instead, or set `no_deprecation_warning=True` to disable this warning\n",
      "  warnings.warn(\n"
     ]
    }
   ],
   "source": [
    "learning_rate = 1e-5\n",
    "EPOCHS = 20\n",
    "total_steps = len(train_loader) * EPOCHS\n",
    "\n",
    "loss_fn = torch.nn.CrossEntropyLoss()\n",
    "\n",
    "optimizer = transformers.AdamW(params = model.parameters(),lr = learning_rate, correct_bias= False)\n",
    "\n",
    "scheduler = transformers.get_linear_schedule_with_warmup(optimizer = optimizer,\n",
    "                                                        num_warmup_steps = 0,\n",
    "                                                        num_training_steps = total_steps)"
   ]
  },
  {
   "cell_type": "code",
   "execution_count": 22,
   "id": "684807f1",
   "metadata": {},
   "outputs": [],
   "source": [
    "def evaluate(model, data_loader, n_examples):\n",
    "    model.eval()  \n",
    "    correct_pred = 0\n",
    "    \n",
    "    with torch.no_grad():\n",
    "        for batch in data_loader:\n",
    "            input_ids = batch['input_id']\n",
    "            attention_masks = batch['attention_mask']\n",
    "            targets = batch['target']\n",
    "\n",
    "            predictions = model(input_ids , attention_masks)\n",
    "            _,pred_classes = torch.max(predictions, dim=1)\n",
    "\n",
    "            correct_pred += torch.sum(pred_classes==targets)\n",
    "            \n",
    "    return correct_pred / n_examples"
   ]
  },
  {
   "cell_type": "code",
   "execution_count": 23,
   "id": "e92f416f",
   "metadata": {},
   "outputs": [],
   "source": [
    "def train_model(model, data_loader, criterion, optimizer, scheduler, n_examples, train_log_interval):\n",
    "    \n",
    "    model.train()\n",
    "    correct_pred = 0\n",
    "\n",
    "    for i, batch in enumerate(data_loader):\n",
    "        input_ids = batch['input_id']\n",
    "        attention_masks = batch['attention_mask']\n",
    "        targets = batch['target']\n",
    "\n",
    "        predictions = model(input_ids , attention_masks)\n",
    "        loss = criterion(predictions, targets)\n",
    "        _, pred_classes = torch.max(predictions, dim=1)\n",
    "        loss.backward()\n",
    "        nn.utils.clip_grad_norm_(model.parameters(), max_norm=1.0) # hack to avoid gradient explotion\n",
    "        optimizer.step()\n",
    "        scheduler.step()\n",
    "        optimizer.zero_grad()\n",
    "        \n",
    "        correct_pred += torch.sum(pred_classes==targets)\n",
    "\n",
    "        if (i + 1) % train_log_interval == 0:\n",
    "            print(f\"At iteration {i + 1} the train loss is {loss:.3f}.\")\n",
    "    \n",
    "    return correct_predictions / n_examples\n",
    "   "
   ]
  },
  {
   "cell_type": "code",
   "execution_count": 24,
   "id": "7e9d67ef",
   "metadata": {},
   "outputs": [],
   "source": [
    "TRAIN_LOG_INTERVAL = 100\n",
    "MODEL_PATH = \"best_sentiment_classifier.pt\"\n",
    "\n",
    "def run_training_loops(model, train_loader, val_loader, criterion, optimizer, scheduler, epochs):\n",
    "    train_accs = []\n",
    "    valid_accs = []\n",
    "    best_valid_acc = 0\n",
    "    \n",
    "    for epoch in range(epochs):\n",
    "        train_acc = train_model(model, train_loader, criterion, optimizer, scheduler, len(train_df), TRAIN_LOG_INTERVAL)\n",
    "        valid_acc = evaluate(model, val_loader, len(val_df))\n",
    "        train_accs.append(train_acc)\n",
    "        valid_accs.append(val_acc)\n",
    "        \n",
    "        print(f\"After epoch {i+1} training accuracy is {train_acc}\")\n",
    "        print(f\"After epoch {i+1} validation accuracy is {valid_acc}\")\n",
    "        \n",
    "        if valid_acc > best_valid_acc:\n",
    "            best_valid_acc = valid_acc\n",
    "            torch.save(model.state_dict(), MODEL_PATH)\n",
    "            \n",
    "            \n",
    "    return train_accs, valid_accs\n",
    "        \n",
    "\n",
    "        \n",
    "    "
   ]
  },
  {
   "cell_type": "code",
   "execution_count": 25,
   "id": "cc386838",
   "metadata": {},
   "outputs": [
    {
     "name": "stderr",
     "output_type": "stream",
     "text": [
      "/Users/davidhackett/opt/anaconda3/envs/capp30255/lib/python3.10/site-packages/transformers/tokenization_utils_base.py:2354: FutureWarning: The `pad_to_max_length` argument is deprecated and will be removed in a future version, use `padding=True` or `padding='longest'` to pad to the longest sequence in the batch, or use `padding='max_length'` to pad to a max length. In this case, you can give a specific length with `max_length` (e.g. `max_length=45`) or leave max_length to None to pad to the maximal input size of the model (e.g. 512 for Bert).\n",
      "  warnings.warn(\n",
      "\n",
      "KeyboardInterrupt\n",
      "\n"
     ]
    }
   ],
   "source": [
    "training_accuracy, validation_accuracy = run_training_loops(model, train_loader, val_loader, loss_fn, optimizer, scheduler, EPOCHS)"
   ]
  },
  {
   "cell_type": "code",
   "execution_count": null,
   "id": "db5423e4",
   "metadata": {},
   "outputs": [],
   "source": []
  }
 ],
 "metadata": {
  "kernelspec": {
   "display_name": "Python 3 (ipykernel)",
   "language": "python",
   "name": "python3"
  },
  "language_info": {
   "codemirror_mode": {
    "name": "ipython",
    "version": 3
   },
   "file_extension": ".py",
   "mimetype": "text/x-python",
   "name": "python",
   "nbconvert_exporter": "python",
   "pygments_lexer": "ipython3",
   "version": "3.10.10"
  }
 },
 "nbformat": 4,
 "nbformat_minor": 5
}
